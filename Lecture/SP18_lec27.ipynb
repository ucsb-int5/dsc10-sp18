{
 "cells": [
  {
   "cell_type": "markdown",
   "metadata": {},
   "source": [
    "## Setup: Run Before Starting"
   ]
  },
  {
   "cell_type": "code",
   "execution_count": null,
   "metadata": {
    "collapsed": true
   },
   "outputs": [],
   "source": [
    "from datascience import *\n",
    "import numpy as np\n",
    "## Normal Distribution\n",
    "%matplotlib inline\n",
    "import matplotlib.pyplot as plt\n",
    "plt.style.use('fivethirtyeight')\n",
    "from IPython.display import Image\n",
    "from IPython.core.display import HTML \n",
    "from mpl_toolkits.mplot3d import Axes3D\n"
   ]
  },
  {
   "cell_type": "code",
   "execution_count": null,
   "metadata": {
    "collapsed": true
   },
   "outputs": [],
   "source": [
    "def distance(pt1, pt2):\n",
    "    \"\"\"The Euclidean distance between two arrays of numbers.\"\"\"\n",
    "    return np.sqrt(np.sum((pt1 - pt2)**2))\n",
    "\n",
    "def distance_from_individual(attribute_table, i, p):\n",
    "    \"\"\"The Euclidean distance between p (an array of numbers) and the numbers in row i of attribute_table.\"\"\"\n",
    "    return distance(np.array(attribute_table.row(i)), p)\n",
    "\n",
    "def table_with_dists(training, p):\n",
    "    \"\"\"A copy of the training table with the Euclidean distance from each row to array p.\"\"\"\n",
    "    dists = make_array()\n",
    "    attributes = training.drop('Class')\n",
    "    for i in np.arange(training.num_rows):\n",
    "        dists = np.append(dists, distance_from_individual(attributes, i , p))\n",
    "    return training.with_column('Distance', dists)\n",
    "\n",
    "def closest(training, p, k):\n",
    "    \"\"\"A table containing the k closest rows in the training table to array p.\"\"\"\n",
    "    with_dists = table_with_dists(training, p)\n",
    "    sorted_by_dist = with_dists.sort('Distance')\n",
    "    topk = sorted_by_dist.take(np.arange(k))\n",
    "    return topk\n",
    "\n",
    "def majority(topkclasses):\n",
    "    \"\"\"1 if the majority of the \"Class\" column is 1s, and 0 otherwise.\"\"\"\n",
    "    ones = topkclasses.where('Class', are.equal_to(1)).num_rows\n",
    "    zeros = topkclasses.where('Class', are.equal_to(0)).num_rows\n",
    "    if ones > zeros:\n",
    "        return 1\n",
    "    else:\n",
    "        return 0\n",
    "\n",
    "def classify(training, p, k):\n",
    "    \"\"\"Classify an example with attributes p using k-nearest neighbor classification with the given training table.\"\"\"\n",
    "    closestk = closest(training, p, k)\n",
    "    topkclasses = closestk.select('Class')\n",
    "    return majority(topkclasses)"
   ]
  },
  {
   "cell_type": "code",
   "execution_count": null,
   "metadata": {
    "collapsed": true
   },
   "outputs": [],
   "source": [
    "# helper methods:\n",
    "\n",
    "def standard_units(any_numbers):\n",
    "    \"Convert any array of numbers to standard units.\"\n",
    "    return (any_numbers - np.mean(any_numbers)) / np.std(any_numbers)  \n",
    "\n",
    "def standardize(t):\n",
    "    \"\"\"Return a table in which all columns of t are converted to standard units.\"\"\"\n",
    "    t_su = Table()\n",
    "    for label in t.labels:\n",
    "        t_su = t_su.with_column(label + ' (su)', standard_units(t.column(label)))\n",
    "    return t_su\n",
    "\n",
    "def correlation(t, label_x, label_y):\n",
    "    return np.mean(standard_units(t.column(label_x))*standard_units(t.column(label_y)))\n",
    "\n",
    "def slope(t, x, y):\n",
    "    \"\"\"The slope of the regression line (original units)\"\"\"\n",
    "    r = correlation(t, x, y)\n",
    "    return r * np.std(t.column(y)) / np.std(t.column(x))\n",
    "\n",
    "def intercept(t, x, y):\n",
    "    \"\"\"The intercept of the regression line (original units)\"\"\"\n",
    "    return np.mean(t.column(y)) - slope(t, x, y) * np.mean(t.column(x))\n",
    "\n",
    "def fit(t, x, y):\n",
    "    \"\"\"Return the predicted y-value for each x-value\"\"\"\n",
    "    a = slope(t, x, y)\n",
    "    b = intercept(t, x, y)\n",
    "    return a * t.column(x) + b\n"
   ]
  },
  {
   "cell_type": "code",
   "execution_count": null,
   "metadata": {
    "collapsed": true
   },
   "outputs": [],
   "source": [
    "# you can ignore that \n",
    "\n",
    "def distance(point1, point2):\n",
    "    \"\"\"The distance between two arrays of numbers.\"\"\"\n",
    "    return np.sqrt(np.sum((point1 - point2)**2))\n",
    "\n",
    "def all_distances(training, point):\n",
    "    \"\"\"The distance between p (an array of numbers) and the numbers in row i of attribute_table.\"\"\"\n",
    "    attributes = training.drop('Class')\n",
    "    def distance_from_point(row):\n",
    "        return distance(point, np.array(row))\n",
    "    return attributes.apply(distance_from_point)\n",
    "\n",
    "\n",
    "def table_with_distances(training, point):\n",
    "    \"\"\"A copy of the training table with the distance from each row to array p.\"\"\"\n",
    "    return training.with_column('Distance', all_distances(training, point))\n",
    "\n",
    "\n",
    "def closest(training, point, k):\n",
    "    \"\"\"A table containing the k closest rows in the training table to array p.\"\"\"\n",
    "    with_dists = table_with_distances(training, point)\n",
    "    sorted_by_distance = with_dists.sort('Distance')\n",
    "    topk = sorted_by_distance.take(np.arange(k))\n",
    "    return topk\n",
    "\n",
    "    \n",
    "def show_closest(point):\n",
    "    \"\"\"point = array([x,y]) \n",
    "    gives the coordinates of a new point\n",
    "    shown in red\"\"\"\n",
    "    \n",
    "    HemoGl = ckd.drop('White Blood Cell Count', 'Color')\n",
    "    t = closest(HemoGl, point, 1)\n",
    "    x_closest = t.row(0).item(0)\n",
    "    y_closest = t.row(0).item(1)\n",
    "    ckd.scatter('Hemoglobin', 'Glucose', colors='Class')\n",
    "    plt.scatter(point.item(0), point.item(1), color='red', s=30)\n",
    "    plt.plot(make_array(point.item(0), x_closest), make_array(point.item(1), y_closest), color='k', lw=2);"
   ]
  },
  {
   "cell_type": "code",
   "execution_count": null,
   "metadata": {
    "collapsed": true
   },
   "outputs": [],
   "source": [
    "# HIDDEN\n",
    "def classify_grid(training, test, k):\n",
    "    c = make_array()\n",
    "    for i in range(test.num_rows):\n",
    "        # Run the classifier on the ith patient in the test set\n",
    "        c = np.append(c, classify(training, make_array(test.row(i)), k))   \n",
    "    return c"
   ]
  },
  {
   "cell_type": "code",
   "execution_count": null,
   "metadata": {
    "collapsed": true
   },
   "outputs": [],
   "source": [
    "# ignore\n",
    "\n",
    "x_array = make_array()\n",
    "y_array = make_array()\n",
    "for x in np.arange(-2, 2.1, 0.1):\n",
    "    for y in np.arange(-2, 2.1, 0.1):\n",
    "        x_array = np.append(x_array, x)\n",
    "        y_array = np.append(y_array, y)\n",
    "        \n",
    "test_grid = Table().with_columns(\n",
    "    'Hemoglobin', x_array,\n",
    "    'Glucose', y_array\n",
    ")"
   ]
  },
  {
   "cell_type": "code",
   "execution_count": null,
   "metadata": {
    "collapsed": true
   },
   "outputs": [],
   "source": [
    "#wine = Table.read_table('http://inferentialthinking.com/notebooks/wine.csv')\n",
    "wine = Table.read_table('wine.csv')\n",
    "\n",
    "# For converting Class to binary\n",
    "\n",
    "def is_one(x):\n",
    "    if x == 1:\n",
    "        return 1\n",
    "    else:\n",
    "        return 0\n",
    "\n",
    "wine = wine.with_column('Class', wine.apply(is_one, 0))"
   ]
  },
  {
   "cell_type": "code",
   "execution_count": null,
   "metadata": {
    "collapsed": true
   },
   "outputs": [],
   "source": [
    "ckd_full = Table.read_table('ckd.csv').relabeled('Blood Glucose Random', 'Glucose')\n",
    "ckd = Table().with_columns(\n",
    "    'Hemoglobin', standard_units(ckd_full.column('Hemoglobin')),\n",
    "    'Glucose', standard_units(ckd_full.column('Glucose')),\n",
    "    'White Blood Cell Count', standard_units(ckd_full.column('White Blood Cell Count')),\n",
    "    'Class', ckd_full.column('Class')\n",
    ")"
   ]
  },
  {
   "cell_type": "markdown",
   "metadata": {},
   "source": [
    "## Accuracy of Classifier"
   ]
  },
  {
   "cell_type": "code",
   "execution_count": null,
   "metadata": {},
   "outputs": [],
   "source": [
    "ckd.scatter('White Blood Cell Count', 'Glucose', colors='Class')"
   ]
  },
  {
   "cell_type": "code",
   "execution_count": null,
   "metadata": {},
   "outputs": [],
   "source": [
    "int(ckd.num_rows/2)"
   ]
  },
  {
   "cell_type": "code",
   "execution_count": null,
   "metadata": {},
   "outputs": [],
   "source": [
    "# creating training and testing data sets\n",
    "\n",
    "training, testing = ckd.split(79)"
   ]
  },
  {
   "cell_type": "code",
   "execution_count": null,
   "metadata": {},
   "outputs": [],
   "source": [
    "training.scatter('White Blood Cell Count', 'Glucose', colors='Class')\n",
    "plt.xlim(-2, 6)\n",
    "plt.ylim(-2, 6);\n",
    "\n",
    "# training set looks like the population, test set probably does too"
   ]
  },
  {
   "cell_type": "code",
   "execution_count": null,
   "metadata": {},
   "outputs": [],
   "source": [
    "# ignore this code, just look at output\n",
    "\n",
    "x_array = make_array()\n",
    "y_array = make_array()\n",
    "for x in np.arange(-2, 6.1, 0.25):\n",
    "    for y in np.arange(-2, 6.1, 0.25):\n",
    "        x_array = np.append(x_array, x)\n",
    "        y_array = np.append(y_array, y)\n",
    "        \n",
    "test_grid = Table().with_columns(\n",
    "    'Glucose', x_array,\n",
    "    'White Blood Cell Count', y_array\n",
    ")\n",
    "\n",
    "c = classify_grid(training.drop('Hemoglobin'), test_grid, 1)\n",
    "\n",
    "test_grid = test_grid.with_column('Class', c)#.join('Class', color_table)\n",
    "test_grid.scatter('White Blood Cell Count', 'Glucose', colors='Class', alpha=0.4, s=30)\n",
    "\n",
    "plt.xlim(-2, 6)\n",
    "plt.ylim(-2, 6);"
   ]
  },
  {
   "cell_type": "code",
   "execution_count": null,
   "metadata": {},
   "outputs": [],
   "source": [
    "# ignore this code, just look at output\n",
    "\n",
    "test_grid = test_grid.with_column('Class', c)#.join('Class', color_table)\n",
    "test_grid.scatter('White Blood Cell Count', 'Glucose', colors='Class', alpha=0.4, s=30)\n",
    "\n",
    "plt.scatter(testing.column('White Blood Cell Count'), testing.column('Glucose'), c=testing.column('Class'), edgecolor='k')\n",
    "\n",
    "plt.xlim(-2, 6)\n",
    "plt.ylim(-2, 6);\n"
   ]
  },
  {
   "cell_type": "code",
   "execution_count": null,
   "metadata": {
    "collapsed": true
   },
   "outputs": [],
   "source": [
    "#functions to help us calculate how many were classified correctly\n",
    "\n",
    "def count_zero(array):\n",
    "    \"\"\"Counts the number of 0's in an array\"\"\"\n",
    "    return len(array) - np.count_nonzero(array)\n",
    "\n",
    "def count_equal(array1, array2):\n",
    "    \"\"\"Takes two numerical arrays of equal length\n",
    "    and counts the indices where the two are equal\"\"\"\n",
    "    return count_zero(array1 - array2)"
   ]
  },
  {
   "cell_type": "code",
   "execution_count": null,
   "metadata": {},
   "outputs": [],
   "source": [
    "# Discussion Question\n",
    "\n",
    "actual =    make_array(1, 1, 0, 0, 1)\n",
    "predicted = make_array(1, 0, 1, 0, 1)\n",
    "\n",
    "count_equal(actual, predicted)\n",
    "\n",
    "# What is the output? Trace through functions above to find the answer. \n",
    "# A: (1, 0, 0, 1, 1)\n",
    "# B: (0, 1, -1, 0, 0)\n",
    "# C: 3\n",
    "# D: 2\n",
    "# E: (4, 4, 5, 5, 4)\n"
   ]
  },
  {
   "cell_type": "markdown",
   "metadata": {
    "collapsed": true
   },
   "source": [
    "back to slides for discussion questions"
   ]
  },
  {
   "cell_type": "markdown",
   "metadata": {},
   "source": [
    "## Evaluating Accuracy"
   ]
  },
  {
   "cell_type": "code",
   "execution_count": null,
   "metadata": {
    "collapsed": true
   },
   "outputs": [],
   "source": [
    "def evaluate_accuracy(training, test, k):\n",
    "    \n",
    "    test_attributes = test.drop('Class')\n",
    "    \n",
    "    def classify_testrow(row):\n",
    "        return classify(training, row, k)\n",
    "    \n",
    "    c = test_attributes.apply(classify_testrow)\n",
    "    return count_equal(c, test.column('Class')) / test.num_rows"
   ]
  },
  {
   "cell_type": "code",
   "execution_count": null,
   "metadata": {},
   "outputs": [],
   "source": [
    "# CKD accuracy\n",
    "\n",
    "evaluate_accuracy(training, testing, 5)"
   ]
  },
  {
   "cell_type": "code",
   "execution_count": null,
   "metadata": {},
   "outputs": [],
   "source": [
    "training_wine, test_wine = wine.split(int(wine.num_rows/2))\n",
    "\n",
    "evaluate_accuracy(training_wine, test_wine, 11)"
   ]
  },
  {
   "cell_type": "markdown",
   "metadata": {},
   "source": [
    "If I run the previous cell again, will I get the same result?"
   ]
  },
  {
   "cell_type": "code",
   "execution_count": null,
   "metadata": {},
   "outputs": [],
   "source": [
    "# http://inferentialthinking.com/notebooks/breast-cancer.csv\n",
    "patients = Table.read_table('breast-cancer.csv').drop('ID')\n",
    "patients"
   ]
  },
  {
   "cell_type": "code",
   "execution_count": null,
   "metadata": {},
   "outputs": [],
   "source": [
    "training_patients, test_patients = patients.split(int(patients.num_rows/2))\n",
    "\n",
    "evaluate_accuracy(training_patients, test_patients, 5)"
   ]
  },
  {
   "cell_type": "markdown",
   "metadata": {},
   "source": [
    "# Housing"
   ]
  },
  {
   "cell_type": "code",
   "execution_count": null,
   "metadata": {},
   "outputs": [],
   "source": [
    "all_sales = Table.read_table('house.csv')\n",
    "sales = all_sales.where('Bldg Type', '1Fam').where('Sale Condition', 'Normal').select(\n",
    "    'SalePrice', '1st Flr SF', '2nd Flr SF', \n",
    "    'Total Bsmt SF', 'Garage Area', \n",
    "    'Wood Deck SF', 'Open Porch SF', 'Lot Area', \n",
    "    'Year Built', 'Yr Sold')\n",
    "sales.sort('SalePrice')"
   ]
  },
  {
   "cell_type": "code",
   "execution_count": null,
   "metadata": {},
   "outputs": [],
   "source": [
    "train, test = sales.split(1001)\n",
    "print(train.num_rows)\n",
    "print(test.num_rows)"
   ]
  },
  {
   "cell_type": "markdown",
   "metadata": {},
   "source": [
    "Training phase: finding the best slopes to get the equation of the regression line  \n",
    "\n",
    "Testing phase: using the regression line to make predictions on the test set"
   ]
  },
  {
   "cell_type": "code",
   "execution_count": null,
   "metadata": {},
   "outputs": [],
   "source": [
    "train.hist(0, bins=32, unit='$')"
   ]
  },
  {
   "cell_type": "code",
   "execution_count": null,
   "metadata": {},
   "outputs": [],
   "source": [
    "train.scatter(1, 0, fit_line=True)"
   ]
  },
  {
   "cell_type": "code",
   "execution_count": null,
   "metadata": {
    "scrolled": true
   },
   "outputs": [],
   "source": [
    "correlation(train, 0, 1)"
   ]
  },
  {
   "cell_type": "markdown",
   "metadata": {},
   "source": [
    "Correlation of sales price with each other attribute:"
   ]
  },
  {
   "cell_type": "code",
   "execution_count": null,
   "metadata": {},
   "outputs": [],
   "source": [
    "rs = []\n",
    "for label in sales.labels:\n",
    "    rs.append(correlation(train, label, 0))\n",
    "Table().with_columns('Column', train.labels, 'r', rs)"
   ]
  },
  {
   "cell_type": "code",
   "execution_count": null,
   "metadata": {
    "collapsed": true
   },
   "outputs": [],
   "source": [
    "both_floors = sales.column(1) + sales.column(2)\n",
    "correlation(sales.with_column('Both Floors', both_floors), 'SalePrice', 'Both Floors')"
   ]
  },
  {
   "cell_type": "markdown",
   "metadata": {},
   "source": [
    "## Multiple Regression"
   ]
  },
  {
   "cell_type": "code",
   "execution_count": null,
   "metadata": {},
   "outputs": [],
   "source": [
    "example_row = test.drop('SalePrice').row(0)\n",
    "\n",
    "random_slopes = np.random.normal(10, 2, len(example_row))\n",
    "random_slopes"
   ]
  },
  {
   "cell_type": "code",
   "execution_count": null,
   "metadata": {},
   "outputs": [],
   "source": [
    "def predict(slopes, row):\n",
    "    return sum(slopes * np.array(row))\n",
    "\n",
    "predict(random_slopes, example_row)"
   ]
  },
  {
   "cell_type": "code",
   "execution_count": null,
   "metadata": {},
   "outputs": [],
   "source": [
    "# Compare to actual price\n",
    "\n",
    "test.row(0).item(0)"
   ]
  },
  {
   "cell_type": "code",
   "execution_count": null,
   "metadata": {
    "collapsed": true
   },
   "outputs": [],
   "source": [
    "# Separate attributes from labels\n",
    "\n",
    "train_prices = train.column(0)\n",
    "train_attributes = train.drop(0)"
   ]
  },
  {
   "cell_type": "code",
   "execution_count": null,
   "metadata": {},
   "outputs": [],
   "source": [
    "def rmse(slopes, attributes, prices):\n",
    "    errors = []\n",
    "    for i in np.arange(len(prices)):\n",
    "        predicted = predict(slopes, attributes.row(i))\n",
    "        actual = prices.item(i)\n",
    "        errors.append((predicted - actual) ** 2)\n",
    "    return np.mean(errors) ** 0.5\n",
    "\n",
    "# higher order function\n",
    "def rmse_train(slopes):\n",
    "    return rmse(slopes, train_attributes, train_prices)\n",
    "\n",
    "rmse_train(random_slopes)"
   ]
  },
  {
   "cell_type": "code",
   "execution_count": null,
   "metadata": {},
   "outputs": [],
   "source": [
    "best_slopes = minimize(rmse_train, start=random_slopes, smooth=True, array=True)\n",
    "best_slopes"
   ]
  },
  {
   "cell_type": "code",
   "execution_count": null,
   "metadata": {},
   "outputs": [],
   "source": [
    "Table(train_attributes.labels).with_row(list(best_slopes)).show()"
   ]
  },
  {
   "cell_type": "code",
   "execution_count": null,
   "metadata": {},
   "outputs": [],
   "source": [
    "rmse_train(best_slopes)"
   ]
  },
  {
   "cell_type": "code",
   "execution_count": null,
   "metadata": {},
   "outputs": [],
   "source": [
    "test_prices = test.column(0)\n",
    "test_attributes = test.drop(0)\n",
    "\n",
    "def rmse_test(slopes):\n",
    "    return rmse(slopes, test_attributes, test_prices)\n",
    "\n",
    "rmse_linear = rmse_test(best_slopes)\n",
    "print('Test set RMSE for multiple linear regression:', rmse_linear)"
   ]
  },
  {
   "cell_type": "code",
   "execution_count": null,
   "metadata": {},
   "outputs": [],
   "source": [
    "def fit(row):\n",
    "    return sum(best_slopes * np.array(row))\n",
    "\n",
    "test.with_column('Fitted', test.drop(0).apply(fit)).scatter('Fitted', 0)\n",
    "plots.plot([0, 5e5], [0, 5e5]);"
   ]
  },
  {
   "cell_type": "code",
   "execution_count": null,
   "metadata": {},
   "outputs": [],
   "source": [
    "test.with_column('Residual', test_prices-test.drop(0).apply(fit)).scatter(0, 'Residual')\n",
    "plots.plot([0, 7e5], [0, 0]);"
   ]
  },
  {
   "cell_type": "code",
   "execution_count": null,
   "metadata": {
    "collapsed": true
   },
   "outputs": [],
   "source": []
  }
 ],
 "metadata": {
  "kernelspec": {
   "display_name": "Python 3",
   "language": "python",
   "name": "python3"
  },
  "language_info": {
   "codemirror_mode": {
    "name": "ipython",
    "version": 3
   },
   "file_extension": ".py",
   "mimetype": "text/x-python",
   "name": "python",
   "nbconvert_exporter": "python",
   "pygments_lexer": "ipython3",
   "version": "3.6.3"
  }
 },
 "nbformat": 4,
 "nbformat_minor": 1
}
