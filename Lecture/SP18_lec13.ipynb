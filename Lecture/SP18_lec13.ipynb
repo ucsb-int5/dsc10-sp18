{
 "cells": [
  {
   "cell_type": "code",
   "execution_count": 1,
   "metadata": {
    "collapsed": true
   },
   "outputs": [],
   "source": [
    "from datascience import *\n",
    "import numpy as np\n",
    "\n",
    "%matplotlib inline\n",
    "import matplotlib.pyplot as plots\n",
    "plots.style.use('fivethirtyeight')"
   ]
  },
  {
   "cell_type": "markdown",
   "metadata": {},
   "source": [
    "## Sampling"
   ]
  },
  {
   "cell_type": "code",
   "execution_count": 2,
   "metadata": {},
   "outputs": [
    {
     "data": {
      "text/html": [
       "<table border=\"1\" class=\"dataframe\">\n",
       "    <thead>\n",
       "        <tr>\n",
       "            <th>Row Index</th> <th>Title</th> <th>Studio</th> <th>Gross</th> <th>Gross (Adjusted)</th> <th>Year</th>\n",
       "        </tr>\n",
       "    </thead>\n",
       "    <tbody>\n",
       "        <tr>\n",
       "            <td>0        </td> <td>Star Wars: The Force Awakens             </td> <td>Buena Vista (Disney)</td> <td>906723418</td> <td>906723400       </td> <td>2015</td>\n",
       "        </tr>\n",
       "    </tbody>\n",
       "        <tr>\n",
       "            <td>1        </td> <td>Avatar                                   </td> <td>Fox                 </td> <td>760507625</td> <td>846120800       </td> <td>2009</td>\n",
       "        </tr>\n",
       "    </tbody>\n",
       "        <tr>\n",
       "            <td>2        </td> <td>Titanic                                  </td> <td>Paramount           </td> <td>658672302</td> <td>1178627900      </td> <td>1997</td>\n",
       "        </tr>\n",
       "    </tbody>\n",
       "        <tr>\n",
       "            <td>3        </td> <td>Jurassic World                           </td> <td>Universal           </td> <td>652270625</td> <td>687728000       </td> <td>2015</td>\n",
       "        </tr>\n",
       "    </tbody>\n",
       "        <tr>\n",
       "            <td>4        </td> <td>Marvel's The Avengers                    </td> <td>Buena Vista (Disney)</td> <td>623357910</td> <td>668866600       </td> <td>2012</td>\n",
       "        </tr>\n",
       "    </tbody>\n",
       "        <tr>\n",
       "            <td>5        </td> <td>The Dark Knight                          </td> <td>Warner Bros.        </td> <td>534858444</td> <td>647761600       </td> <td>2008</td>\n",
       "        </tr>\n",
       "    </tbody>\n",
       "        <tr>\n",
       "            <td>6        </td> <td>Star Wars: Episode I - The Phantom Menace</td> <td>Fox                 </td> <td>474544677</td> <td>785715000       </td> <td>1999</td>\n",
       "        </tr>\n",
       "    </tbody>\n",
       "        <tr>\n",
       "            <td>7        </td> <td>Star Wars                                </td> <td>Fox                 </td> <td>460998007</td> <td>1549640500      </td> <td>1977</td>\n",
       "        </tr>\n",
       "    </tbody>\n",
       "        <tr>\n",
       "            <td>8        </td> <td>Avengers: Age of Ultron                  </td> <td>Buena Vista (Disney)</td> <td>459005868</td> <td>465684200       </td> <td>2015</td>\n",
       "        </tr>\n",
       "    </tbody>\n",
       "        <tr>\n",
       "            <td>9        </td> <td>The Dark Knight Rises                    </td> <td>Warner Bros.        </td> <td>448139099</td> <td>500961700       </td> <td>2012</td>\n",
       "        </tr>\n",
       "    </tbody>\n",
       "</table>\n",
       "<p>... (190 rows omitted)</p"
      ],
      "text/plain": [
       "Row Index | Title                                     | Studio               | Gross     | Gross (Adjusted) | Year\n",
       "0         | Star Wars: The Force Awakens              | Buena Vista (Disney) | 906723418 | 906723400        | 2015\n",
       "1         | Avatar                                    | Fox                  | 760507625 | 846120800        | 2009\n",
       "2         | Titanic                                   | Paramount            | 658672302 | 1178627900       | 1997\n",
       "3         | Jurassic World                            | Universal            | 652270625 | 687728000        | 2015\n",
       "4         | Marvel's The Avengers                     | Buena Vista (Disney) | 623357910 | 668866600        | 2012\n",
       "5         | The Dark Knight                           | Warner Bros.         | 534858444 | 647761600        | 2008\n",
       "6         | Star Wars: Episode I - The Phantom Menace | Fox                  | 474544677 | 785715000        | 1999\n",
       "7         | Star Wars                                 | Fox                  | 460998007 | 1549640500       | 1977\n",
       "8         | Avengers: Age of Ultron                   | Buena Vista (Disney) | 459005868 | 465684200        | 2015\n",
       "9         | The Dark Knight Rises                     | Warner Bros.         | 448139099 | 500961700        | 2012\n",
       "... (190 rows omitted)"
      ]
     },
     "execution_count": 2,
     "metadata": {},
     "output_type": "execute_result"
    }
   ],
   "source": [
    "top = Table.read_table('top_movies.csv')\n",
    "top = top.with_column('Row Index', np.arange(top.num_rows))\n",
    "top = top.move_to_start('Row Index')\n",
    "\n",
    "top"
   ]
  },
  {
   "cell_type": "code",
   "execution_count": 10,
   "metadata": {},
   "outputs": [
    {
     "data": {
      "text/html": [
       "<table border=\"1\" class=\"dataframe\">\n",
       "    <thead>\n",
       "        <tr>\n",
       "            <th>Row Index</th> <th>Title</th> <th>Studio</th> <th>Gross</th> <th>Gross (Adjusted)</th> <th>Year</th>\n",
       "        </tr>\n",
       "    </thead>\n",
       "    <tbody>\n",
       "        <tr>\n",
       "            <td>3        </td> <td>Jurassic World         </td> <td>Universal           </td> <td>652270625</td> <td>687728000       </td> <td>2015</td>\n",
       "        </tr>\n",
       "    </tbody>\n",
       "        <tr>\n",
       "            <td>8        </td> <td>Avengers: Age of Ultron</td> <td>Buena Vista (Disney)</td> <td>459005868</td> <td>465684200       </td> <td>2015</td>\n",
       "        </tr>\n",
       "    </tbody>\n",
       "        <tr>\n",
       "            <td>10       </td> <td>Shrek 2                </td> <td>Dreamworks          </td> <td>441226247</td> <td>618143100       </td> <td>2004</td>\n",
       "        </tr>\n",
       "    </tbody>\n",
       "</table>"
      ],
      "text/plain": [
       "Row Index | Title                   | Studio               | Gross     | Gross (Adjusted) | Year\n",
       "3         | Jurassic World          | Universal            | 652270625 | 687728000        | 2015\n",
       "8         | Avengers: Age of Ultron | Buena Vista (Disney) | 459005868 | 465684200        | 2015\n",
       "10        | Shrek 2                 | Dreamworks           | 441226247 | 618143100        | 2004"
      ]
     },
     "execution_count": 10,
     "metadata": {},
     "output_type": "execute_result"
    }
   ],
   "source": [
    "#take a (deterministic) sample of this table. No chance is involved \n",
    "top.take(make_array(3, 8, 10))"
   ]
  },
  {
   "cell_type": "code",
   "execution_count": 12,
   "metadata": {},
   "outputs": [
    {
     "data": {
      "text/html": [
       "<table border=\"1\" class=\"dataframe\">\n",
       "    <thead>\n",
       "        <tr>\n",
       "            <th>Row Index</th> <th>Title</th> <th>Studio</th> <th>Gross</th> <th>Gross (Adjusted)</th> <th>Year</th>\n",
       "        </tr>\n",
       "    </thead>\n",
       "    <tbody>\n",
       "        <tr>\n",
       "            <td>22       </td> <td>Harry Potter and the Deathly Hallows Part 2                 </td> <td>Warner Bros.        </td> <td>381011219</td> <td>417512200       </td> <td>2011</td>\n",
       "        </tr>\n",
       "    </tbody>\n",
       "        <tr>\n",
       "            <td>43       </td> <td>Harry Potter and the Sorcerer's Stone                       </td> <td>Warner Bros.        </td> <td>317575550</td> <td>486442900       </td> <td>2001</td>\n",
       "        </tr>\n",
       "    </tbody>\n",
       "        <tr>\n",
       "            <td>44       </td> <td>Indiana Jones and the Kingdom of the Crystal Skull          </td> <td>Paramount           </td> <td>317101119</td> <td>384231200       </td> <td>2008</td>\n",
       "        </tr>\n",
       "    </tbody>\n",
       "        <tr>\n",
       "            <td>54       </td> <td>Harry Potter and the Half-Blood Prince                      </td> <td>Warner Bros.        </td> <td>301959197</td> <td>352098800       </td> <td>2009</td>\n",
       "        </tr>\n",
       "    </tbody>\n",
       "        <tr>\n",
       "            <td>59       </td> <td>Harry Potter and the Order of the Phoenix                   </td> <td>Warner Bros.        </td> <td>292004738</td> <td>369250200       </td> <td>2007</td>\n",
       "        </tr>\n",
       "    </tbody>\n",
       "        <tr>\n",
       "            <td>60       </td> <td>The Chronicles of Narnia: The Lion, the Witch and the Wa ...</td> <td>Buena Vista (Disney)</td> <td>291710957</td> <td>393033100       </td> <td>2005</td>\n",
       "        </tr>\n",
       "    </tbody>\n",
       "        <tr>\n",
       "            <td>62       </td> <td>Harry Potter and the Goblet of Fire                         </td> <td>Warner Bros.        </td> <td>290013036</td> <td>393024800       </td> <td>2005</td>\n",
       "        </tr>\n",
       "    </tbody>\n",
       "        <tr>\n",
       "            <td>69       </td> <td>Harry Potter and the Chamber of Secrets                     </td> <td>Warner Bros.        </td> <td>261988482</td> <td>390768100       </td> <td>2002</td>\n",
       "        </tr>\n",
       "    </tbody>\n",
       "        <tr>\n",
       "            <td>76       </td> <td>Harry Potter and the Prisoner of Azkaban                    </td> <td>Warner Bros.        </td> <td>249541069</td> <td>349598600       </td> <td>2004</td>\n",
       "        </tr>\n",
       "    </tbody>\n",
       "        <tr>\n",
       "            <td>91       </td> <td>Beauty and the Beast                                        </td> <td>Buena Vista (Disney)</td> <td>218967620</td> <td>394664300       </td> <td>1991</td>\n",
       "        </tr>\n",
       "    </tbody>\n",
       "</table>\n",
       "<p>... (6 rows omitted)</p"
      ],
      "text/plain": [
       "Row Index | Title                                                        | Studio               | Gross     | Gross (Adjusted) | Year\n",
       "22        | Harry Potter and the Deathly Hallows Part 2                  | Warner Bros.         | 381011219 | 417512200        | 2011\n",
       "43        | Harry Potter and the Sorcerer's Stone                        | Warner Bros.         | 317575550 | 486442900        | 2001\n",
       "44        | Indiana Jones and the Kingdom of the Crystal Skull           | Paramount            | 317101119 | 384231200        | 2008\n",
       "54        | Harry Potter and the Half-Blood Prince                       | Warner Bros.         | 301959197 | 352098800        | 2009\n",
       "59        | Harry Potter and the Order of the Phoenix                    | Warner Bros.         | 292004738 | 369250200        | 2007\n",
       "60        | The Chronicles of Narnia: The Lion, the Witch and the Wa ... | Buena Vista (Disney) | 291710957 | 393033100        | 2005\n",
       "62        | Harry Potter and the Goblet of Fire                          | Warner Bros.         | 290013036 | 393024800        | 2005\n",
       "69        | Harry Potter and the Chamber of Secrets                      | Warner Bros.         | 261988482 | 390768100        | 2002\n",
       "76        | Harry Potter and the Prisoner of Azkaban                     | Warner Bros.         | 249541069 | 349598600        | 2004\n",
       "91        | Beauty and the Beast                                         | Buena Vista (Disney) | 218967620 | 394664300        | 1991\n",
       "... (6 rows omitted)"
      ]
     },
     "execution_count": 12,
     "metadata": {},
     "output_type": "execute_result"
    }
   ],
   "source": [
    "# another way to take a sample. Deterministic? \n",
    "top.where('Title', are.containing('and the'))"
   ]
  },
  {
   "cell_type": "code",
   "execution_count": 3,
   "metadata": {},
   "outputs": [
    {
     "data": {
      "text/html": [
       "<table border=\"1\" class=\"dataframe\">\n",
       "    <thead>\n",
       "        <tr>\n",
       "            <th>Row Index</th> <th>Title</th> <th>Studio</th> <th>Gross</th> <th>Gross (Adjusted)</th> <th>Year</th>\n",
       "        </tr>\n",
       "    </thead>\n",
       "    <tbody>\n",
       "        <tr>\n",
       "            <td>3        </td> <td>Jurassic World                            </td> <td>Universal              </td> <td>652270625</td> <td>687728000       </td> <td>2015</td>\n",
       "        </tr>\n",
       "    </tbody>\n",
       "        <tr>\n",
       "            <td>13       </td> <td>Pirates of the Caribbean: Dead Man's Chest</td> <td>Buena Vista (Disney)   </td> <td>423315812</td> <td>562266800       </td> <td>2006</td>\n",
       "        </tr>\n",
       "    </tbody>\n",
       "        <tr>\n",
       "            <td>23       </td> <td>Finding Nemo                              </td> <td>Buena Vista (Disney)   </td> <td>380843261</td> <td>535802700       </td> <td>2003</td>\n",
       "        </tr>\n",
       "    </tbody>\n",
       "        <tr>\n",
       "            <td>33       </td> <td>The Lord of the Rings: The Two Towers     </td> <td>New Line               </td> <td>342551365</td> <td>502210000       </td> <td>2002</td>\n",
       "        </tr>\n",
       "    </tbody>\n",
       "        <tr>\n",
       "            <td>43       </td> <td>Harry Potter and the Sorcerer's Stone     </td> <td>Warner Bros.           </td> <td>317575550</td> <td>486442900       </td> <td>2001</td>\n",
       "        </tr>\n",
       "    </tbody>\n",
       "        <tr>\n",
       "            <td>53       </td> <td>The Hobbit: An Unexpected Journey         </td> <td>Warner Bros. (New Line)</td> <td>303003568</td> <td>329153300       </td> <td>2012</td>\n",
       "        </tr>\n",
       "    </tbody>\n",
       "        <tr>\n",
       "            <td>63       </td> <td>Monsters, Inc.                            </td> <td>Buena Vista (Disney)   </td> <td>289916256</td> <td>429372100       </td> <td>2001</td>\n",
       "        </tr>\n",
       "    </tbody>\n",
       "        <tr>\n",
       "            <td>73       </td> <td>Batman                                    </td> <td>Warner Bros.           </td> <td>251188924</td> <td>547705200       </td> <td>1989</td>\n",
       "        </tr>\n",
       "    </tbody>\n",
       "        <tr>\n",
       "            <td>83       </td> <td>My Big Fat Greek Wedding                  </td> <td>IFC                    </td> <td>241438208</td> <td>360349500       </td> <td>2002</td>\n",
       "        </tr>\n",
       "    </tbody>\n",
       "        <tr>\n",
       "            <td>93       </td> <td>Aladdin                                   </td> <td>Buena Vista (Disney)   </td> <td>217350219</td> <td>456248400       </td> <td>1992</td>\n",
       "        </tr>\n",
       "    </tbody>\n",
       "</table>\n",
       "<p>... (10 rows omitted)</p"
      ],
      "text/plain": [
       "Row Index | Title                                      | Studio                  | Gross     | Gross (Adjusted) | Year\n",
       "3         | Jurassic World                             | Universal               | 652270625 | 687728000        | 2015\n",
       "13        | Pirates of the Caribbean: Dead Man's Chest | Buena Vista (Disney)    | 423315812 | 562266800        | 2006\n",
       "23        | Finding Nemo                               | Buena Vista (Disney)    | 380843261 | 535802700        | 2003\n",
       "33        | The Lord of the Rings: The Two Towers      | New Line                | 342551365 | 502210000        | 2002\n",
       "43        | Harry Potter and the Sorcerer's Stone      | Warner Bros.            | 317575550 | 486442900        | 2001\n",
       "53        | The Hobbit: An Unexpected Journey          | Warner Bros. (New Line) | 303003568 | 329153300        | 2012\n",
       "63        | Monsters, Inc.                             | Buena Vista (Disney)    | 289916256 | 429372100        | 2001\n",
       "73        | Batman                                     | Warner Bros.            | 251188924 | 547705200        | 1989\n",
       "83        | My Big Fat Greek Wedding                   | IFC                     | 241438208 | 360349500        | 2002\n",
       "93        | Aladdin                                    | Buena Vista (Disney)    | 217350219 | 456248400        | 1992\n",
       "... (10 rows omitted)"
      ]
     },
     "execution_count": 3,
     "metadata": {},
     "output_type": "execute_result"
    }
   ],
   "source": [
    "# how about now? \n",
    "start = np.random.choice(np.arange(10))\n",
    "top.take(np.arange(start, 200, 10))"
   ]
  },
  {
   "cell_type": "code",
   "execution_count": null,
   "metadata": {
    "collapsed": true
   },
   "outputs": [],
   "source": [
    "#we can find a probability of a specific row. For example 37th? \n",
    "\n",
    "\n"
   ]
  },
  {
   "cell_type": "code",
   "execution_count": 4,
   "metadata": {},
   "outputs": [
    {
     "data": {
      "text/html": [
       "<table border=\"1\" class=\"dataframe\">\n",
       "    <thead>\n",
       "        <tr>\n",
       "            <th>Row Index</th> <th>Title</th> <th>Studio</th> <th>Gross</th> <th>Gross (Adjusted)</th> <th>Year</th>\n",
       "        </tr>\n",
       "    </thead>\n",
       "    <tbody>\n",
       "        <tr>\n",
       "            <td>122      </td> <td>Batman Returns                              </td> <td>Warner Bros.        </td> <td>162831698</td> <td>341358000       </td> <td>1992</td>\n",
       "        </tr>\n",
       "    </tbody>\n",
       "        <tr>\n",
       "            <td>24       </td> <td>Star Wars: Episode III - Revenge of the Sith</td> <td>Fox                 </td> <td>380270577</td> <td>516123900       </td> <td>2005</td>\n",
       "        </tr>\n",
       "    </tbody>\n",
       "        <tr>\n",
       "            <td>95       </td> <td>Mission: Impossible II                      </td> <td>Paramount           </td> <td>215409889</td> <td>347693200       </td> <td>2000</td>\n",
       "        </tr>\n",
       "    </tbody>\n",
       "        <tr>\n",
       "            <td>43       </td> <td>Harry Potter and the Sorcerer's Stone       </td> <td>Warner Bros.        </td> <td>317575550</td> <td>486442900       </td> <td>2001</td>\n",
       "        </tr>\n",
       "    </tbody>\n",
       "        <tr>\n",
       "            <td>78       </td> <td>Toy Story 2                                 </td> <td>Buena Vista (Disney)</td> <td>245852179</td> <td>416177700       </td> <td>1999</td>\n",
       "        </tr>\n",
       "    </tbody>\n",
       "</table>"
      ],
      "text/plain": [
       "Row Index | Title                                        | Studio               | Gross     | Gross (Adjusted) | Year\n",
       "122       | Batman Returns                               | Warner Bros.         | 162831698 | 341358000        | 1992\n",
       "24        | Star Wars: Episode III - Revenge of the Sith | Fox                  | 380270577 | 516123900        | 2005\n",
       "95        | Mission: Impossible II                       | Paramount            | 215409889 | 347693200        | 2000\n",
       "43        | Harry Potter and the Sorcerer's Stone        | Warner Bros.         | 317575550 | 486442900        | 2001\n",
       "78        | Toy Story 2                                  | Buena Vista (Disney) | 245852179 | 416177700        | 1999"
      ]
     },
     "execution_count": 4,
     "metadata": {},
     "output_type": "execute_result"
    }
   ],
   "source": [
    "#sometimes you want to take 5 rows uniformly at random (with replacement)\n",
    "top.sample(5)"
   ]
  },
  {
   "cell_type": "code",
   "execution_count": 5,
   "metadata": {},
   "outputs": [
    {
     "data": {
      "text/html": [
       "<table border=\"1\" class=\"dataframe\">\n",
       "    <thead>\n",
       "        <tr>\n",
       "            <th>Row Index</th> <th>Title</th> <th>Studio</th> <th>Gross</th> <th>Gross (Adjusted)</th> <th>Year</th>\n",
       "        </tr>\n",
       "    </thead>\n",
       "    <tbody>\n",
       "        <tr>\n",
       "            <td>188      </td> <td>Rear Window         </td> <td>Paramount           </td> <td>36764313 </td> <td>438086300       </td> <td>1954</td>\n",
       "        </tr>\n",
       "    </tbody>\n",
       "        <tr>\n",
       "            <td>73       </td> <td>Batman              </td> <td>Warner Bros.        </td> <td>251188924</td> <td>547705200       </td> <td>1989</td>\n",
       "        </tr>\n",
       "    </tbody>\n",
       "        <tr>\n",
       "            <td>174      </td> <td>The Ten Commandments</td> <td>Paramount           </td> <td>65500000 </td> <td>1139700000      </td> <td>1956</td>\n",
       "        </tr>\n",
       "    </tbody>\n",
       "        <tr>\n",
       "            <td>16       </td> <td>Iron Man 3          </td> <td>Buena Vista (Disney)</td> <td>409013994</td> <td>424632700       </td> <td>2013</td>\n",
       "        </tr>\n",
       "    </tbody>\n",
       "        <tr>\n",
       "            <td>176      </td> <td>Patton              </td> <td>Fox                 </td> <td>61749765 </td> <td>346595500       </td> <td>1970</td>\n",
       "        </tr>\n",
       "    </tbody>\n",
       "</table>"
      ],
      "text/plain": [
       "Row Index | Title                | Studio               | Gross     | Gross (Adjusted) | Year\n",
       "188       | Rear Window          | Paramount            | 36764313  | 438086300        | 1954\n",
       "73        | Batman               | Warner Bros.         | 251188924 | 547705200        | 1989\n",
       "174       | The Ten Commandments | Paramount            | 65500000  | 1139700000       | 1956\n",
       "16        | Iron Man 3           | Buena Vista (Disney) | 409013994 | 424632700        | 2013\n",
       "176       | Patton               | Fox                  | 61749765  | 346595500        | 1970"
      ]
     },
     "execution_count": 5,
     "metadata": {},
     "output_type": "execute_result"
    }
   ],
   "source": [
    "#sometimes you want to take 5 rows uniformly at random (without replacement)\n",
    "top.sample(5, with_replacement = False)"
   ]
  },
  {
   "cell_type": "code",
   "execution_count": null,
   "metadata": {
    "collapsed": true
   },
   "outputs": [],
   "source": [
    "#Sample of Convenience. back to slides."
   ]
  },
  {
   "cell_type": "markdown",
   "metadata": {},
   "source": [
    "## Dice"
   ]
  },
  {
   "cell_type": "code",
   "execution_count": 17,
   "metadata": {},
   "outputs": [
    {
     "data": {
      "text/html": [
       "<table border=\"1\" class=\"dataframe\">\n",
       "    <thead>\n",
       "        <tr>\n",
       "            <th>face</th>\n",
       "        </tr>\n",
       "    </thead>\n",
       "    <tbody>\n",
       "        <tr>\n",
       "            <td>1   </td>\n",
       "        </tr>\n",
       "    </tbody>\n",
       "        <tr>\n",
       "            <td>2   </td>\n",
       "        </tr>\n",
       "    </tbody>\n",
       "        <tr>\n",
       "            <td>3   </td>\n",
       "        </tr>\n",
       "    </tbody>\n",
       "        <tr>\n",
       "            <td>4   </td>\n",
       "        </tr>\n",
       "    </tbody>\n",
       "        <tr>\n",
       "            <td>5   </td>\n",
       "        </tr>\n",
       "    </tbody>\n",
       "        <tr>\n",
       "            <td>6   </td>\n",
       "        </tr>\n",
       "    </tbody>\n",
       "</table>"
      ],
      "text/plain": [
       "face\n",
       "1\n",
       "2\n",
       "3\n",
       "4\n",
       "5\n",
       "6"
      ]
     },
     "execution_count": 17,
     "metadata": {},
     "output_type": "execute_result"
    }
   ],
   "source": [
    "die =  Table().with_column('face', np.arange(1, 7, 1))\n",
    "die"
   ]
  },
  {
   "cell_type": "code",
   "execution_count": 18,
   "metadata": {},
   "outputs": [
    {
     "data": {
      "text/html": [
       "<table border=\"1\" class=\"dataframe\">\n",
       "    <thead>\n",
       "        <tr>\n",
       "            <th>face</th>\n",
       "        </tr>\n",
       "    </thead>\n",
       "    <tbody>\n",
       "        <tr>\n",
       "            <td>5   </td>\n",
       "        </tr>\n",
       "    </tbody>\n",
       "</table>"
      ],
      "text/plain": [
       "face\n",
       "5"
      ]
     },
     "execution_count": 18,
     "metadata": {},
     "output_type": "execute_result"
    }
   ],
   "source": [
    "die.sample(1)"
   ]
  },
  {
   "cell_type": "code",
   "execution_count": 19,
   "metadata": {},
   "outputs": [
    {
     "data": {
      "text/html": [
       "<table border=\"1\" class=\"dataframe\">\n",
       "    <thead>\n",
       "        <tr>\n",
       "            <th>face</th> <th>probability</th>\n",
       "        </tr>\n",
       "    </thead>\n",
       "    <tbody>\n",
       "        <tr>\n",
       "            <td>1   </td> <td>0.166667   </td>\n",
       "        </tr>\n",
       "    </tbody>\n",
       "        <tr>\n",
       "            <td>2   </td> <td>0.166667   </td>\n",
       "        </tr>\n",
       "    </tbody>\n",
       "        <tr>\n",
       "            <td>3   </td> <td>0.166667   </td>\n",
       "        </tr>\n",
       "    </tbody>\n",
       "        <tr>\n",
       "            <td>4   </td> <td>0.166667   </td>\n",
       "        </tr>\n",
       "    </tbody>\n",
       "        <tr>\n",
       "            <td>5   </td> <td>0.166667   </td>\n",
       "        </tr>\n",
       "    </tbody>\n",
       "        <tr>\n",
       "            <td>6   </td> <td>0.166667   </td>\n",
       "        </tr>\n",
       "    </tbody>\n",
       "</table>"
      ],
      "text/plain": [
       "face | probability\n",
       "1    | 0.166667\n",
       "2    | 0.166667\n",
       "3    | 0.166667\n",
       "4    | 0.166667\n",
       "5    | 0.166667\n",
       "6    | 0.166667"
      ]
     },
     "execution_count": 19,
     "metadata": {},
     "output_type": "execute_result"
    }
   ],
   "source": [
    "die.with_column('probability', 1/6)"
   ]
  },
  {
   "cell_type": "code",
   "execution_count": 20,
   "metadata": {},
   "outputs": [
    {
     "data": {
      "image/png": "[encoded data removed]",
      "text/plain": [
       "<matplotlib.figure.Figure at 0x78fced1e48>"
      ]
     },
     "metadata": {},
     "output_type": "display_data"
    }
   ],
   "source": [
    "#histogram, with bins\n",
    "die.hist('face', bins = np.arange(0.5, 6.6, 1))"
   ]
  },
  {
   "cell_type": "code",
   "execution_count": 21,
   "metadata": {},
   "outputs": [
    {
     "data": {
      "text/html": [
       "<table border=\"1\" class=\"dataframe\">\n",
       "    <thead>\n",
       "        <tr>\n",
       "            <th>face</th>\n",
       "        </tr>\n",
       "    </thead>\n",
       "    <tbody>\n",
       "        <tr>\n",
       "            <td>5   </td>\n",
       "        </tr>\n",
       "    </tbody>\n",
       "        <tr>\n",
       "            <td>3   </td>\n",
       "        </tr>\n",
       "    </tbody>\n",
       "        <tr>\n",
       "            <td>6   </td>\n",
       "        </tr>\n",
       "    </tbody>\n",
       "        <tr>\n",
       "            <td>3   </td>\n",
       "        </tr>\n",
       "    </tbody>\n",
       "        <tr>\n",
       "            <td>6   </td>\n",
       "        </tr>\n",
       "    </tbody>\n",
       "        <tr>\n",
       "            <td>4   </td>\n",
       "        </tr>\n",
       "    </tbody>\n",
       "        <tr>\n",
       "            <td>2   </td>\n",
       "        </tr>\n",
       "    </tbody>\n",
       "        <tr>\n",
       "            <td>1   </td>\n",
       "        </tr>\n",
       "    </tbody>\n",
       "        <tr>\n",
       "            <td>1   </td>\n",
       "        </tr>\n",
       "    </tbody>\n",
       "        <tr>\n",
       "            <td>1   </td>\n",
       "        </tr>\n",
       "    </tbody>\n",
       "</table>"
      ],
      "text/plain": [
       "face\n",
       "5\n",
       "3\n",
       "6\n",
       "3\n",
       "6\n",
       "4\n",
       "2\n",
       "1\n",
       "1\n",
       "1"
      ]
     },
     "execution_count": 21,
     "metadata": {},
     "output_type": "execute_result"
    }
   ],
   "source": [
    "#empirical distribution\n",
    "die.sample(10)"
   ]
  },
  {
   "cell_type": "code",
   "execution_count": 22,
   "metadata": {},
   "outputs": [
    {
     "data": {
      "image/png": "[encoded data removed]",
      "text/plain": [
       "<matplotlib.figure.Figure at 0x78fd534278>"
      ]
     },
     "metadata": {},
     "output_type": "display_data"
    }
   ],
   "source": [
    "#take a histogram again\n",
    "die.sample(10).hist('face', bins = np.arange(0.5, 6.6, 1))"
   ]
  },
  {
   "cell_type": "code",
   "execution_count": 26,
   "metadata": {},
   "outputs": [
    {
     "data": {
      "image/png": "[encoded data removed]",
      "text/plain": [
       "<matplotlib.figure.Figure at 0x78fea2e390>"
      ]
     },
     "metadata": {},
     "output_type": "display_data"
    }
   ],
   "source": [
    "#change 10 to 100 or 1000, etc.\n",
    "die.sample(100000).hist('face', bins = np.arange(0.5, 6.6, 1))\n",
    "\n",
    "#back to slides: Large Random Samples"
   ]
  },
  {
   "cell_type": "markdown",
   "metadata": {},
   "source": [
    "## Flights"
   ]
  },
  {
   "cell_type": "code",
   "execution_count": 55,
   "metadata": {},
   "outputs": [
    {
     "data": {
      "text/html": [
       "<table border=\"1\" class=\"dataframe\">\n",
       "    <thead>\n",
       "        <tr>\n",
       "            <th>Date</th> <th>Flight Number</th> <th>Destination</th> <th>Delay</th>\n",
       "        </tr>\n",
       "    </thead>\n",
       "    <tbody>\n",
       "        <tr>\n",
       "            <td>6/1/15</td> <td>73           </td> <td>HNL        </td> <td>257  </td>\n",
       "        </tr>\n",
       "    </tbody>\n",
       "        <tr>\n",
       "            <td>6/1/15</td> <td>217          </td> <td>EWR        </td> <td>28   </td>\n",
       "        </tr>\n",
       "    </tbody>\n",
       "        <tr>\n",
       "            <td>6/1/15</td> <td>237          </td> <td>STL        </td> <td>-3   </td>\n",
       "        </tr>\n",
       "    </tbody>\n",
       "        <tr>\n",
       "            <td>6/1/15</td> <td>250          </td> <td>SAN        </td> <td>0    </td>\n",
       "        </tr>\n",
       "    </tbody>\n",
       "        <tr>\n",
       "            <td>6/1/15</td> <td>267          </td> <td>PHL        </td> <td>64   </td>\n",
       "        </tr>\n",
       "    </tbody>\n",
       "        <tr>\n",
       "            <td>6/1/15</td> <td>273          </td> <td>SEA        </td> <td>-6   </td>\n",
       "        </tr>\n",
       "    </tbody>\n",
       "        <tr>\n",
       "            <td>6/1/15</td> <td>278          </td> <td>SEA        </td> <td>-8   </td>\n",
       "        </tr>\n",
       "    </tbody>\n",
       "        <tr>\n",
       "            <td>6/1/15</td> <td>292          </td> <td>EWR        </td> <td>12   </td>\n",
       "        </tr>\n",
       "    </tbody>\n",
       "        <tr>\n",
       "            <td>6/1/15</td> <td>300          </td> <td>HNL        </td> <td>20   </td>\n",
       "        </tr>\n",
       "    </tbody>\n",
       "        <tr>\n",
       "            <td>6/1/15</td> <td>317          </td> <td>IND        </td> <td>-10  </td>\n",
       "        </tr>\n",
       "    </tbody>\n",
       "</table>\n",
       "<p>... (13815 rows omitted)</p"
      ],
      "text/plain": [
       "Date   | Flight Number | Destination | Delay\n",
       "6/1/15 | 73            | HNL         | 257\n",
       "6/1/15 | 217           | EWR         | 28\n",
       "6/1/15 | 237           | STL         | -3\n",
       "6/1/15 | 250           | SAN         | 0\n",
       "6/1/15 | 267           | PHL         | 64\n",
       "6/1/15 | 273           | SEA         | -6\n",
       "6/1/15 | 278           | SEA         | -8\n",
       "6/1/15 | 292           | EWR         | 12\n",
       "6/1/15 | 300           | HNL         | 20\n",
       "6/1/15 | 317           | IND         | -10\n",
       "... (13815 rows omitted)"
      ]
     },
     "execution_count": 55,
     "metadata": {},
     "output_type": "execute_result"
    }
   ],
   "source": [
    "# https://www.inferentialthinking.com/notebooks/united_summer2015.csv\n",
    "united = Table().read_table('united_summer2015.csv')\n",
    "united"
   ]
  },
  {
   "cell_type": "code",
   "execution_count": 59,
   "metadata": {},
   "outputs": [
    {
     "data": {
      "text/plain": [
       "16.658155515370705"
      ]
     },
     "execution_count": 59,
     "metadata": {},
     "output_type": "execute_result"
    }
   ],
   "source": [
    "#average flight delay\n",
    "\n",
    "np.mean(united.column('Delay'))"
   ]
  },
  {
   "cell_type": "code",
   "execution_count": 73,
   "metadata": {},
   "outputs": [
    {
     "name": "stdout",
     "output_type": "stream",
     "text": [
      "number of flights: 100 and mean delay: 11.93\n",
      "number of flights: 200 and mean delay: 13.52\n",
      "number of flights: 300 and mean delay: 13.3866666667\n",
      "number of flights: 400 and mean delay: 18.01\n",
      "number of flights: 500 and mean delay: 17.83\n",
      "number of flights: 600 and mean delay: 16.1916666667\n",
      "number of flights: 700 and mean delay: 15.7685714286\n",
      "number of flights: 800 and mean delay: 16.2375\n",
      "number of flights: 900 and mean delay: 19.2255555556\n",
      "number of flights: 1000 and mean delay: 17.674\n",
      "number of flights: 1100 and mean delay: 16.9363636364\n",
      "number of flights: 1200 and mean delay: 17.3266666667\n",
      "number of flights: 1300 and mean delay: 16.0438461538\n",
      "number of flights: 1400 and mean delay: 17.9192857143\n",
      "number of flights: 1500 and mean delay: 15.926\n",
      "number of flights: 1600 and mean delay: 15.455625\n",
      "number of flights: 1700 and mean delay: 16.4552941176\n",
      "number of flights: 1800 and mean delay: 18.1672222222\n",
      "number of flights: 1900 and mean delay: 17.2205263158\n",
      "number of flights: 2000 and mean delay: 17.4845\n",
      "number of flights: 2100 and mean delay: 15.7128571429\n",
      "number of flights: 2200 and mean delay: 15.8886363636\n",
      "number of flights: 2300 and mean delay: 16.1473913043\n",
      "number of flights: 2400 and mean delay: 17.45625\n",
      "number of flights: 2500 and mean delay: 16.902\n",
      "number of flights: 2600 and mean delay: 16.4234615385\n",
      "number of flights: 2700 and mean delay: 15.8359259259\n",
      "number of flights: 2800 and mean delay: 16.0857142857\n",
      "number of flights: 2900 and mean delay: 16.7227586207\n",
      "number of flights: 3000 and mean delay: 17.6586666667\n",
      "number of flights: 3100 and mean delay: 15.3274193548\n",
      "number of flights: 3200 and mean delay: 16.5365625\n",
      "number of flights: 3300 and mean delay: 16.1754545455\n",
      "number of flights: 3400 and mean delay: 16.7997058824\n",
      "number of flights: 3500 and mean delay: 16.4645714286\n",
      "number of flights: 3600 and mean delay: 17.3063888889\n",
      "number of flights: 3700 and mean delay: 16.6667567568\n",
      "number of flights: 3800 and mean delay: 16.7657894737\n",
      "number of flights: 3900 and mean delay: 16.5353846154\n",
      "number of flights: 4000 and mean delay: 16.791\n",
      "number of flights: 4100 and mean delay: 15.2007317073\n",
      "number of flights: 4200 and mean delay: 15.9921428571\n",
      "number of flights: 4300 and mean delay: 16.4509302326\n",
      "number of flights: 4400 and mean delay: 16.76\n",
      "number of flights: 4500 and mean delay: 17.0446666667\n",
      "number of flights: 4600 and mean delay: 17.2547826087\n",
      "number of flights: 4700 and mean delay: 16.7829787234\n",
      "number of flights: 4800 and mean delay: 16.2422916667\n",
      "number of flights: 4900 and mean delay: 16.5532653061\n",
      "number of flights: 5000 and mean delay: 16.8976\n",
      "number of flights: 5100 and mean delay: 16.6205882353\n",
      "number of flights: 5200 and mean delay: 16.7328846154\n",
      "number of flights: 5300 and mean delay: 17.2552830189\n",
      "number of flights: 5400 and mean delay: 16.3059259259\n",
      "number of flights: 5500 and mean delay: 16.4532727273\n",
      "number of flights: 5600 and mean delay: 16.1758928571\n",
      "number of flights: 5700 and mean delay: 16.8536842105\n",
      "number of flights: 5800 and mean delay: 17.5874137931\n",
      "number of flights: 5900 and mean delay: 16.8055932203\n",
      "number of flights: 6000 and mean delay: 17.9271666667\n",
      "number of flights: 6100 and mean delay: 16.1985245902\n",
      "number of flights: 6200 and mean delay: 17.0979032258\n",
      "number of flights: 6300 and mean delay: 15.5906349206\n",
      "number of flights: 6400 and mean delay: 16.81203125\n",
      "number of flights: 6500 and mean delay: 15.8626153846\n",
      "number of flights: 6600 and mean delay: 17.3674242424\n",
      "number of flights: 6700 and mean delay: 16.501641791\n",
      "number of flights: 6800 and mean delay: 16.4754411765\n",
      "number of flights: 6900 and mean delay: 17.0013043478\n",
      "number of flights: 7000 and mean delay: 16.7322857143\n",
      "number of flights: 7100 and mean delay: 16.5467605634\n",
      "number of flights: 7200 and mean delay: 16.1776388889\n",
      "number of flights: 7300 and mean delay: 16.047260274\n",
      "number of flights: 7400 and mean delay: 16.4424324324\n",
      "number of flights: 7500 and mean delay: 16.6752\n",
      "number of flights: 7600 and mean delay: 16.1668421053\n",
      "number of flights: 7700 and mean delay: 16.4150649351\n",
      "number of flights: 7800 and mean delay: 16.9071794872\n",
      "number of flights: 7900 and mean delay: 16.3796202532\n",
      "number of flights: 8000 and mean delay: 16.059625\n",
      "number of flights: 8100 and mean delay: 16.9950617284\n",
      "number of flights: 8200 and mean delay: 16.1769512195\n",
      "number of flights: 8300 and mean delay: 16.3077108434\n",
      "number of flights: 8400 and mean delay: 16.8111904762\n",
      "number of flights: 8500 and mean delay: 16.6261176471\n",
      "number of flights: 8600 and mean delay: 16.1729069767\n",
      "number of flights: 8700 and mean delay: 17.0972413793\n",
      "number of flights: 8800 and mean delay: 17.0065909091\n",
      "number of flights: 8900 and mean delay: 16.5566292135\n",
      "number of flights: 9000 and mean delay: 16.3242222222\n",
      "number of flights: 9100 and mean delay: 16.0265934066\n",
      "number of flights: 9200 and mean delay: 16.3283695652\n",
      "number of flights: 9300 and mean delay: 16.2982795699\n",
      "number of flights: 9400 and mean delay: 16.2317021277\n",
      "number of flights: 9500 and mean delay: 16.0878947368\n",
      "number of flights: 9600 and mean delay: 17.104375\n",
      "number of flights: 9700 and mean delay: 16.2721649485\n",
      "number of flights: 9800 and mean delay: 16.5221428571\n",
      "number of flights: 9900 and mean delay: 16.7505050505\n"
     ]
    }
   ],
   "source": [
    "for i in np.arange(100, 10000, 100):\n",
    "    print(\"number of flights: \"+str(i)+ \" and mean delay: \"+str(np.mean(united.sample(i).column('Delay'))))"
   ]
  },
  {
   "cell_type": "code",
   "execution_count": 63,
   "metadata": {},
   "outputs": [
    {
     "data": {
      "image/png": "[encoded data removed]",
      "text/plain": [
       "<matplotlib.figure.Figure at 0x78810fe4e0>"
      ]
     },
     "metadata": {},
     "output_type": "display_data"
    }
   ],
   "source": [
    "#start with sample of size 100 then go up.\n",
    "#note, if I take 100000 samples it is perfectly fine => with replacements \n",
    "united.sample(100).hist('Delay', bins = np.arange(-20, 300, 10), unit = 'minute')"
   ]
  },
  {
   "cell_type": "code",
   "execution_count": 40,
   "metadata": {},
   "outputs": [
    {
     "ename": "ValueError",
     "evalue": "Cannot take a larger sample than population when 'replace=False'",
     "output_type": "error",
     "traceback": [
      "\u001b[1;31m---------------------------------------------------------------------------\u001b[0m",
      "\u001b[1;31mValueError\u001b[0m                                Traceback (most recent call last)",
      "\u001b[1;32m<ipython-input-40-992234dba279>\u001b[0m in \u001b[0;36m<module>\u001b[1;34m()\u001b[0m\n\u001b[1;32m----> 1\u001b[1;33m \u001b[0munited\u001b[0m\u001b[1;33m.\u001b[0m\u001b[0msample\u001b[0m\u001b[1;33m(\u001b[0m\u001b[1;36m100000\u001b[0m\u001b[1;33m,\u001b[0m \u001b[0mwith_replacement\u001b[0m \u001b[1;33m=\u001b[0m \u001b[1;32mFalse\u001b[0m\u001b[1;33m)\u001b[0m\u001b[1;33m.\u001b[0m\u001b[0mhist\u001b[0m\u001b[1;33m(\u001b[0m\u001b[1;34m'Delay'\u001b[0m\u001b[1;33m,\u001b[0m \u001b[0mbins\u001b[0m \u001b[1;33m=\u001b[0m \u001b[0mnp\u001b[0m\u001b[1;33m.\u001b[0m\u001b[0marange\u001b[0m\u001b[1;33m(\u001b[0m\u001b[1;33m-\u001b[0m\u001b[1;36m20\u001b[0m\u001b[1;33m,\u001b[0m \u001b[1;36m300\u001b[0m\u001b[1;33m,\u001b[0m \u001b[1;36m10\u001b[0m\u001b[1;33m)\u001b[0m\u001b[1;33m,\u001b[0m \u001b[0munit\u001b[0m \u001b[1;33m=\u001b[0m \u001b[1;34m'minute'\u001b[0m\u001b[1;33m)\u001b[0m\u001b[1;33m\u001b[0m\u001b[0m\n\u001b[0m",
      "\u001b[1;32mC:\\Users\\Janine\\Anaconda3\\lib\\site-packages\\datascience\\tables.py\u001b[0m in \u001b[0;36msample\u001b[1;34m(self, k, with_replacement, weights)\u001b[0m\n\u001b[0;32m   1434\u001b[0m         \u001b[1;32mif\u001b[0m \u001b[0mk\u001b[0m \u001b[1;32mis\u001b[0m \u001b[1;32mNone\u001b[0m\u001b[1;33m:\u001b[0m\u001b[1;33m\u001b[0m\u001b[0m\n\u001b[0;32m   1435\u001b[0m             \u001b[0mk\u001b[0m \u001b[1;33m=\u001b[0m \u001b[0mn\u001b[0m\u001b[1;33m\u001b[0m\u001b[0m\n\u001b[1;32m-> 1436\u001b[1;33m         \u001b[0mindex\u001b[0m \u001b[1;33m=\u001b[0m \u001b[0mnp\u001b[0m\u001b[1;33m.\u001b[0m\u001b[0mrandom\u001b[0m\u001b[1;33m.\u001b[0m\u001b[0mchoice\u001b[0m\u001b[1;33m(\u001b[0m\u001b[0mn\u001b[0m\u001b[1;33m,\u001b[0m \u001b[0mk\u001b[0m\u001b[1;33m,\u001b[0m \u001b[0mreplace\u001b[0m\u001b[1;33m=\u001b[0m\u001b[0mwith_replacement\u001b[0m\u001b[1;33m,\u001b[0m \u001b[0mp\u001b[0m\u001b[1;33m=\u001b[0m\u001b[0mweights\u001b[0m\u001b[1;33m)\u001b[0m\u001b[1;33m\u001b[0m\u001b[0m\n\u001b[0m\u001b[0;32m   1437\u001b[0m         \u001b[0mcolumns\u001b[0m \u001b[1;33m=\u001b[0m \u001b[1;33m[\u001b[0m\u001b[1;33m[\u001b[0m\u001b[0mc\u001b[0m\u001b[1;33m[\u001b[0m\u001b[0mi\u001b[0m\u001b[1;33m]\u001b[0m \u001b[1;32mfor\u001b[0m \u001b[0mi\u001b[0m \u001b[1;32min\u001b[0m \u001b[0mindex\u001b[0m\u001b[1;33m]\u001b[0m \u001b[1;32mfor\u001b[0m \u001b[0mc\u001b[0m \u001b[1;32min\u001b[0m \u001b[0mself\u001b[0m\u001b[1;33m.\u001b[0m\u001b[0mcolumns\u001b[0m\u001b[1;33m]\u001b[0m\u001b[1;33m\u001b[0m\u001b[0m\n\u001b[0;32m   1438\u001b[0m         \u001b[0msample\u001b[0m \u001b[1;33m=\u001b[0m \u001b[0mself\u001b[0m\u001b[1;33m.\u001b[0m\u001b[0m_with_columns\u001b[0m\u001b[1;33m(\u001b[0m\u001b[0mcolumns\u001b[0m\u001b[1;33m)\u001b[0m\u001b[1;33m\u001b[0m\u001b[0m\n",
      "\u001b[1;32mmtrand.pyx\u001b[0m in \u001b[0;36mmtrand.RandomState.choice (numpy\\random\\mtrand\\mtrand.c:18113)\u001b[1;34m()\u001b[0m\n",
      "\u001b[1;31mValueError\u001b[0m: Cannot take a larger sample than population when 'replace=False'"
     ]
    }
   ],
   "source": [
    "united.sample(100000, with_replacement = False).hist('Delay', bins = np.arange(-20, 300, 10), unit = 'minute')"
   ]
  },
  {
   "cell_type": "code",
   "execution_count": 41,
   "metadata": {
    "collapsed": true
   },
   "outputs": [],
   "source": [
    "#define a function that takes the number of samples as a parameter\n",
    "def united_sample_and_hist(sample_size):\n",
    "    return united.sample(sample_size).hist('Delay', bins = np.arange(-20, 300, 10), unit = 'minute')"
   ]
  },
  {
   "cell_type": "code",
   "execution_count": 43,
   "metadata": {},
   "outputs": [
    {
     "data": {
      "image/png": "[encoded data removed]",
      "text/plain": [
       "<matplotlib.figure.Figure at 0x78fd306898>"
      ]
     },
     "metadata": {},
     "output_type": "display_data"
    }
   ],
   "source": [
    "united_sample_and_hist(1000)"
   ]
  },
  {
   "cell_type": "markdown",
   "metadata": {},
   "source": [
    "## At least one 6"
   ]
  },
  {
   "cell_type": "code",
   "execution_count": null,
   "metadata": {
    "collapsed": true
   },
   "outputs": [],
   "source": [
    "#Roll a die 4 times. What's P(at least one 6)?\n",
    "# A: 5/6\n",
    "# B: 1-5/6\n",
    "# C: 1-(5/6)**4\n",
    "# D: 1-(1/6)**4\n",
    "# E: None of the above\n"
   ]
  },
  {
   "cell_type": "code",
   "execution_count": 44,
   "metadata": {
    "collapsed": true
   },
   "outputs": [],
   "source": [
    "#Roll a die 5 times. What's P(at least one 6)?\n",
    "rolls = 5\n",
    "#What is the formula? \n",
    "\n",
    "\n",
    "\n",
    "\n",
    "\n",
    "\n",
    "\n",
    "\n",
    "\n",
    "\n",
    "\n",
    "\n",
    "\n"
   ]
  },
  {
   "cell_type": "code",
   "execution_count": 45,
   "metadata": {},
   "outputs": [
    {
     "data": {
      "text/plain": [
       "array([ 0.16666667,  0.30555556,  0.4212963 ,  0.51774691,  0.59812243,\n",
       "        0.66510202,  0.72091835,  0.76743196,  0.8061933 ,  0.83849442,\n",
       "        0.86541201,  0.88784335,  0.90653612,  0.92211343,  0.93509453,\n",
       "        0.94591211,  0.95492676,  0.96243896,  0.96869914,  0.97391595,\n",
       "        0.97826329,  0.98188607,  0.98490506,  0.98742088,  0.9895174 ,\n",
       "        0.9912645 ,  0.99272042,  0.99393368,  0.99494474,  0.99578728,\n",
       "        0.9964894 ,  0.9970745 ,  0.99756208,  0.9979684 ,  0.998307  ,\n",
       "        0.99858917,  0.99882431,  0.99902026,  0.99918355,  0.99931962,\n",
       "        0.99943302,  0.99952752,  0.99960626,  0.99967189,  0.99972657,\n",
       "        0.99977214,  0.99981012,  0.99984177,  0.99986814,  0.99989012])"
      ]
     },
     "execution_count": 45,
     "metadata": {},
     "output_type": "execute_result"
    }
   ],
   "source": [
    "#let's increase the number of rolls. What do you expect to see? \n",
    "rolls = np.arange(1, 51)\n",
    "1-(5/6)**rolls"
   ]
  },
  {
   "cell_type": "code",
   "execution_count": 46,
   "metadata": {},
   "outputs": [
    {
     "data": {
      "text/html": [
       "<table border=\"1\" class=\"dataframe\">\n",
       "    <thead>\n",
       "        <tr>\n",
       "            <th>roll</th> <th>Chance of getting at least one 6</th>\n",
       "        </tr>\n",
       "    </thead>\n",
       "    <tbody>\n",
       "        <tr>\n",
       "            <td>1   </td> <td>0.166667                        </td>\n",
       "        </tr>\n",
       "    </tbody>\n",
       "        <tr>\n",
       "            <td>2   </td> <td>0.305556                        </td>\n",
       "        </tr>\n",
       "    </tbody>\n",
       "        <tr>\n",
       "            <td>3   </td> <td>0.421296                        </td>\n",
       "        </tr>\n",
       "    </tbody>\n",
       "        <tr>\n",
       "            <td>4   </td> <td>0.517747                        </td>\n",
       "        </tr>\n",
       "    </tbody>\n",
       "        <tr>\n",
       "            <td>5   </td> <td>0.598122                        </td>\n",
       "        </tr>\n",
       "    </tbody>\n",
       "        <tr>\n",
       "            <td>6   </td> <td>0.665102                        </td>\n",
       "        </tr>\n",
       "    </tbody>\n",
       "        <tr>\n",
       "            <td>7   </td> <td>0.720918                        </td>\n",
       "        </tr>\n",
       "    </tbody>\n",
       "        <tr>\n",
       "            <td>8   </td> <td>0.767432                        </td>\n",
       "        </tr>\n",
       "    </tbody>\n",
       "        <tr>\n",
       "            <td>9   </td> <td>0.806193                        </td>\n",
       "        </tr>\n",
       "    </tbody>\n",
       "        <tr>\n",
       "            <td>10  </td> <td>0.838494                        </td>\n",
       "        </tr>\n",
       "    </tbody>\n",
       "</table>\n",
       "<p>... (40 rows omitted)</p"
      ],
      "text/plain": [
       "roll | Chance of getting at least one 6\n",
       "1    | 0.166667\n",
       "2    | 0.305556\n",
       "3    | 0.421296\n",
       "4    | 0.517747\n",
       "5    | 0.598122\n",
       "6    | 0.665102\n",
       "7    | 0.720918\n",
       "8    | 0.767432\n",
       "9    | 0.806193\n",
       "10   | 0.838494\n",
       "... (40 rows omitted)"
      ]
     },
     "execution_count": 46,
     "metadata": {},
     "output_type": "execute_result"
    }
   ],
   "source": [
    "#put it in a table and plot it\n",
    "rolls = np.arange(1, 51)\n",
    "at_least_one = Table().with_columns('roll', rolls, 'Chance of getting at least one 6', 1-(5/6)**rolls)\n",
    "at_least_one"
   ]
  },
  {
   "cell_type": "code",
   "execution_count": 47,
   "metadata": {},
   "outputs": [
    {
     "data": {
      "image/png": "[encoded data removed]",
      "text/plain": [
       "<matplotlib.figure.Figure at 0x78fe949438>"
      ]
     },
     "metadata": {},
     "output_type": "display_data"
    }
   ],
   "source": [
    "#plot\n",
    "at_least_one.scatter('roll')"
   ]
  },
  {
   "cell_type": "code",
   "execution_count": 48,
   "metadata": {},
   "outputs": [
    {
     "data": {
      "text/html": [
       "<table border=\"1\" class=\"dataframe\">\n",
       "    <thead>\n",
       "        <tr>\n",
       "            <th>roll</th> <th>Chance of getting at least one 6</th>\n",
       "        </tr>\n",
       "    </thead>\n",
       "    <tbody>\n",
       "        <tr>\n",
       "            <td>20  </td> <td>0.973916                        </td>\n",
       "        </tr>\n",
       "    </tbody>\n",
       "</table>"
      ],
      "text/plain": [
       "roll | Chance of getting at least one 6\n",
       "20   | 0.973916"
      ]
     },
     "execution_count": 48,
     "metadata": {},
     "output_type": "execute_result"
    }
   ],
   "source": [
    "#let's take a look at one particular probability\n",
    "at_least_one.where('roll', 20)"
   ]
  },
  {
   "cell_type": "code",
   "execution_count": 49,
   "metadata": {},
   "outputs": [
    {
     "data": {
      "text/plain": [
       "array([4, 6, 2, 5, 6, 6, 3, 5, 5, 3, 1, 5, 6, 3, 1, 4, 4, 3, 4, 3])"
      ]
     },
     "execution_count": 49,
     "metadata": {},
     "output_type": "execute_result"
    }
   ],
   "source": [
    "#now we are going to simulate\n",
    "faces = np.arange(1, 7)\n",
    "outcomes = np.random.choice(faces, 20) # pick random number from faces, 20 times\n",
    "outcomes"
   ]
  },
  {
   "cell_type": "code",
   "execution_count": 50,
   "metadata": {},
   "outputs": [
    {
     "data": {
      "text/plain": [
       "4"
      ]
     },
     "execution_count": 50,
     "metadata": {},
     "output_type": "execute_result"
    }
   ],
   "source": [
    "np.count_nonzero(outcomes == 6)"
   ]
  },
  {
   "cell_type": "code",
   "execution_count": 54,
   "metadata": {},
   "outputs": [
    {
     "data": {
      "text/plain": [
       "0.97346"
      ]
     },
     "execution_count": 54,
     "metadata": {},
     "output_type": "execute_result"
    }
   ],
   "source": [
    "luck = 0\n",
    "trials =  100000\n",
    "for i in np.arange(trials):\n",
    "    outcomes = np.random.choice(faces, 20)\n",
    "    if np.count_nonzero(outcomes == 6) >=1:\n",
    "        luck = luck + 1\n",
    "        \n",
    "#estimate the probability\n",
    "luck/trials"
   ]
  },
  {
   "cell_type": "code",
   "execution_count": null,
   "metadata": {
    "collapsed": true
   },
   "outputs": [],
   "source": [
    "#now let's talk about Statistics (slides)"
   ]
  },
  {
   "cell_type": "markdown",
   "metadata": {},
   "source": [
    "## Estimation"
   ]
  },
  {
   "cell_type": "code",
   "execution_count": null,
   "metadata": {
    "collapsed": true
   },
   "outputs": [],
   "source": [
    "def roll_20(trials):\n",
    "    luck = 0\n",
    "    for i in np.arange(trials):\n",
    "        outcomes = np.random.choice(faces, 20)\n",
    "        if np.count_nonzero(outcomes == 6) >=1:\n",
    "            luck = luck + 1\n",
    "        \n",
    "    #estimate the probability\n",
    "    return luck/trials\n",
    "\n",
    "roll_20(1000)"
   ]
  },
  {
   "cell_type": "code",
   "execution_count": null,
   "metadata": {
    "collapsed": true
   },
   "outputs": [],
   "source": [
    "#let's call this method a bunch of times using another for loop\n",
    "estimates = Table(['estimates'])\n",
    "for i in np.arange(200):\n",
    "    estimates.append([roll_20(1000)])\n",
    "    \n",
    "estimates        "
   ]
  },
  {
   "cell_type": "code",
   "execution_count": null,
   "metadata": {
    "collapsed": true
   },
   "outputs": [],
   "source": [
    "#let's draw a distribuition\n",
    "estimates.group(0).barh(0)"
   ]
  },
  {
   "cell_type": "code",
   "execution_count": null,
   "metadata": {
    "collapsed": true
   },
   "outputs": [],
   "source": [
    "estimates.hist(0)"
   ]
  },
  {
   "cell_type": "markdown",
   "metadata": {},
   "source": [
    "## Planes"
   ]
  },
  {
   "cell_type": "code",
   "execution_count": 74,
   "metadata": {},
   "outputs": [
    {
     "data": {
      "text/html": [
       "<table border=\"1\" class=\"dataframe\">\n",
       "    <thead>\n",
       "        <tr>\n",
       "            <th>Serial number</th>\n",
       "        </tr>\n",
       "    </thead>\n",
       "    <tbody>\n",
       "        <tr>\n",
       "            <td>1            </td>\n",
       "        </tr>\n",
       "    </tbody>\n",
       "        <tr>\n",
       "            <td>2            </td>\n",
       "        </tr>\n",
       "    </tbody>\n",
       "        <tr>\n",
       "            <td>3            </td>\n",
       "        </tr>\n",
       "    </tbody>\n",
       "        <tr>\n",
       "            <td>4            </td>\n",
       "        </tr>\n",
       "    </tbody>\n",
       "        <tr>\n",
       "            <td>5            </td>\n",
       "        </tr>\n",
       "    </tbody>\n",
       "        <tr>\n",
       "            <td>6            </td>\n",
       "        </tr>\n",
       "    </tbody>\n",
       "        <tr>\n",
       "            <td>7            </td>\n",
       "        </tr>\n",
       "    </tbody>\n",
       "        <tr>\n",
       "            <td>8            </td>\n",
       "        </tr>\n",
       "    </tbody>\n",
       "        <tr>\n",
       "            <td>9            </td>\n",
       "        </tr>\n",
       "    </tbody>\n",
       "        <tr>\n",
       "            <td>10           </td>\n",
       "        </tr>\n",
       "    </tbody>\n",
       "</table>\n",
       "<p>... (289 rows omitted)</p"
      ],
      "text/plain": [
       "Serial number\n",
       "1\n",
       "2\n",
       "3\n",
       "4\n",
       "5\n",
       "6\n",
       "7\n",
       "8\n",
       "9\n",
       "10\n",
       "... (289 rows omitted)"
      ]
     },
     "execution_count": 74,
     "metadata": {},
     "output_type": "execute_result"
    }
   ],
   "source": [
    "N = 300\n",
    "serialno = Table().with_column('Serial number', np.arange(1, 300))\n",
    "serialno"
   ]
  },
  {
   "cell_type": "code",
   "execution_count": 75,
   "metadata": {},
   "outputs": [
    {
     "data": {
      "text/html": [
       "<table border=\"1\" class=\"dataframe\">\n",
       "    <thead>\n",
       "        <tr>\n",
       "            <th>Serial number</th>\n",
       "        </tr>\n",
       "    </thead>\n",
       "    <tbody>\n",
       "        <tr>\n",
       "            <td>147          </td>\n",
       "        </tr>\n",
       "    </tbody>\n",
       "        <tr>\n",
       "            <td>52           </td>\n",
       "        </tr>\n",
       "    </tbody>\n",
       "        <tr>\n",
       "            <td>46           </td>\n",
       "        </tr>\n",
       "    </tbody>\n",
       "        <tr>\n",
       "            <td>221          </td>\n",
       "        </tr>\n",
       "    </tbody>\n",
       "        <tr>\n",
       "            <td>10           </td>\n",
       "        </tr>\n",
       "    </tbody>\n",
       "        <tr>\n",
       "            <td>272          </td>\n",
       "        </tr>\n",
       "    </tbody>\n",
       "        <tr>\n",
       "            <td>204          </td>\n",
       "        </tr>\n",
       "    </tbody>\n",
       "        <tr>\n",
       "            <td>11           </td>\n",
       "        </tr>\n",
       "    </tbody>\n",
       "        <tr>\n",
       "            <td>148          </td>\n",
       "        </tr>\n",
       "    </tbody>\n",
       "        <tr>\n",
       "            <td>283          </td>\n",
       "        </tr>\n",
       "    </tbody>\n",
       "</table>\n",
       "<p>... (20 rows omitted)</p"
      ],
      "text/plain": [
       "Serial number\n",
       "147\n",
       "52\n",
       "46\n",
       "221\n",
       "10\n",
       "272\n",
       "204\n",
       "11\n",
       "148\n",
       "283\n",
       "... (20 rows omitted)"
      ]
     },
     "execution_count": 75,
     "metadata": {},
     "output_type": "execute_result"
    }
   ],
   "source": [
    "serialno.sample(30)"
   ]
  },
  {
   "cell_type": "code",
   "execution_count": 76,
   "metadata": {},
   "outputs": [
    {
     "data": {
      "text/plain": [
       "283"
      ]
     },
     "execution_count": 76,
     "metadata": {},
     "output_type": "execute_result"
    }
   ],
   "source": [
    "serialno.sample(30).column(0).max()"
   ]
  },
  {
   "cell_type": "code",
   "execution_count": 77,
   "metadata": {},
   "outputs": [
    {
     "data": {
      "text/plain": [
       "array([ 291.,  296.,  272.,  299.,  298.,  296.,  297.,  294.,  297.,\n",
       "        269.,  289.,  299.,  289.,  296.,  298.,  297.,  299.,  292.,\n",
       "        272.,  298.,  290.,  298.,  296.,  286.,  298.,  299.,  292.,\n",
       "        280.,  292.,  291.,  289.,  298.,  290.,  299.,  294.,  294.,\n",
       "        293.,  299.,  280.,  299.,  286.,  297.,  283.,  290.,  291.,\n",
       "        271.,  296.,  297.,  278.,  295.,  287.,  296.,  279.,  287.,\n",
       "        284.,  296.,  298.,  287.,  299.,  257.,  291.,  270.,  287.,\n",
       "        291.,  289.,  298.,  299.,  297.,  293.,  282.,  295.,  291.,\n",
       "        299.,  298.,  256.,  280.,  294.,  288.,  296.,  298.,  284.,\n",
       "        294.,  286.,  275.,  281.,  293.,  298.,  298.,  275.,  295.,\n",
       "        295.,  291.,  286.,  285.,  268.,  299.,  291.,  295.,  278.,\n",
       "        296.,  294.,  261.,  291.,  249.,  299.,  284.,  296.,  275.,\n",
       "        288.,  298.,  299.,  292.,  292.,  292.,  279.,  296.,  287.,\n",
       "        299.,  299.,  282.,  299.,  279.,  299.,  296.,  296.,  282.,\n",
       "        296.,  297.,  282.,  297.,  299.,  286.,  292.,  299.,  286.,\n",
       "        299.,  266.,  292.,  298.,  293.,  295.,  292.,  299.,  288.,\n",
       "        279.,  296.,  299.,  295.,  279.,  295.,  288.,  286.,  296.,\n",
       "        263.,  275.,  285.,  299.,  298.,  291.,  287.,  291.,  298.,\n",
       "        277.,  295.,  295.,  280.,  265.,  277.,  296.,  291.,  296.,\n",
       "        281.,  292.,  291.,  295.,  283.,  297.,  275.,  296.,  298.,\n",
       "        270.,  288.,  288.,  273.,  276.,  273.,  297.,  288.,  296.,\n",
       "        296.,  299.,  281.,  292.,  294.,  287.,  298.,  298.,  287.,\n",
       "        294.,  288.,  296.,  286.,  298.,  293.,  297.,  287.,  299.,\n",
       "        289.,  288.,  296.,  282.,  291.,  298.,  290.,  280.,  291.,\n",
       "        290.,  295.,  298.,  291.,  294.,  299.,  294.,  299.,  289.,\n",
       "        292.,  297.,  280.,  278.,  295.,  287.,  294.,  264.,  295.,\n",
       "        281.,  259.,  285.,  290.,  294.,  293.,  298.,  288.,  297.,\n",
       "        275.,  296.,  291.,  297.,  298.,  298.,  280.,  281.,  297.,\n",
       "        298.,  293.,  249.,  284.,  299.,  293.,  295.,  285.,  299.,\n",
       "        291.,  292.,  289.,  277.,  298.,  272.,  292.,  290.,  289.,\n",
       "        296.,  299.,  289.,  291.,  298.,  287.,  296.,  297.,  296.,\n",
       "        289.,  296.,  276.,  282.,  262.,  289.,  282.,  295.,  296.,\n",
       "        294.,  286.,  299.,  299.,  297.,  297.,  297.,  287.,  295.,\n",
       "        299.,  281.,  298.,  284.,  298.,  297.,  285.,  298.,  278.,\n",
       "        297.,  289.,  296.,  295.,  274.,  270.,  286.,  274.,  291.,\n",
       "        292.,  292.,  286.,  295.,  287.,  293.,  289.,  295.,  297.,\n",
       "        299.,  283.,  298.,  275.,  295.,  297.,  296.,  295.,  294.,\n",
       "        293.,  294.,  281.,  297.,  290.,  292.,  294.,  291.,  298.,\n",
       "        286.,  299.,  291.,  297.,  295.,  295.,  297.,  294.,  299.,\n",
       "        297.,  298.,  266.,  294.,  296.,  293.,  284.,  291.,  297.,\n",
       "        286.,  290.,  298.,  296.,  288.,  286.,  295.,  298.,  288.,\n",
       "        286.,  273.,  293.,  291.,  289.,  298.,  284.,  261.,  287.,\n",
       "        286.,  292.,  291.,  276.,  298.,  289.,  279.,  295.,  298.,\n",
       "        299.,  284.,  299.,  289.,  299.,  298.,  294.,  288.,  282.,\n",
       "        295.,  296.,  297.,  299.,  288.,  295.,  279.,  295.,  290.,\n",
       "        297.,  290.,  299.,  269.,  270.,  286.,  284.,  289.,  290.,\n",
       "        291.,  295.,  289.,  291.,  279.,  276.,  292.,  293.,  297.,\n",
       "        299.,  288.,  296.,  295.,  277.,  281.,  287.,  289.,  299.,\n",
       "        298.,  295.,  292.,  271.,  292.,  292.,  293.,  290.,  294.,\n",
       "        291.,  267.,  298.,  296.,  293.,  284.,  296.,  282.,  286.,\n",
       "        291.,  299.,  298.,  294.,  290.,  295.,  291.,  294.,  298.,\n",
       "        284.,  297.,  290.,  299.,  292.,  282.,  270.,  289.,  293.,\n",
       "        298.,  299.,  267.,  288.,  298.,  295.,  285.,  298.,  295.,\n",
       "        291.,  296.,  296.,  289.,  294.,  271.,  293.,  293.,  264.,\n",
       "        296.,  296.,  291.,  299.,  298.,  296.,  285.,  287.,  297.,\n",
       "        283.,  278.,  296.,  298.,  286.,  298.,  291.,  285.,  293.,\n",
       "        288.,  295.,  282.,  297.,  274.,  287.,  295.,  289.,  286.,\n",
       "        282.,  277.,  293.,  291.,  293.,  295.,  285.,  293.,  273.,\n",
       "        298.,  279.,  299.,  292.,  276.,  295.,  292.,  284.,  289.,\n",
       "        295.,  295.,  298.,  298.,  279.,  283.,  284.,  298.,  276.,\n",
       "        295.,  297.,  285.,  277.,  270.,  298.,  285.,  298.,  290.,\n",
       "        297.,  289.,  294.,  298.,  298.,  285.,  298.,  291.,  293.,\n",
       "        288.,  299.,  296.,  294.,  277.,  298.,  294.,  278.,  296.,\n",
       "        288.,  299.,  293.,  290.,  296.,  298.,  294.,  299.,  260.,\n",
       "        298.,  296.,  291.,  299.,  279.,  284.,  294.,  272.,  278.,\n",
       "        277.,  296.,  299.,  291.,  299.,  294.,  297.,  288.,  282.,\n",
       "        292.,  299.,  292.,  267.,  283.,  298.,  295.,  296.,  287.,\n",
       "        291.,  299.,  294.,  295.,  277.,  289.,  289.,  295.,  282.,\n",
       "        296.,  291.,  280.,  292.,  289.,  293.,  292.,  294.,  296.,\n",
       "        296.,  286.,  298.,  289.,  299.,  282.,  281.,  285.,  297.,\n",
       "        261.,  285.,  262.,  295.,  289.,  297.,  292.,  267.,  290.,\n",
       "        270.,  298.,  295.,  277.,  292.,  295.,  297.,  279.,  296.,\n",
       "        267.,  291.,  297.,  295.,  299.,  280.,  297.,  294.,  291.,\n",
       "        287.,  293.,  299.,  293.,  296.,  298.,  285.,  284.,  297.,\n",
       "        257.,  298.,  296.,  283.,  297.,  286.,  299.,  284.,  297.,\n",
       "        294.,  297.,  271.,  295.,  297.,  286.,  297.,  296.,  296.,\n",
       "        293.,  268.,  275.,  290.,  298.,  285.,  299.,  295.,  292.,\n",
       "        266.,  298.,  286.,  298.,  276.,  293.,  295.,  287.,  291.,\n",
       "        285.,  299.,  280.,  291.,  293.,  273.,  294.,  279.,  289.,\n",
       "        295.,  299.,  258.,  298.,  299.,  297.,  290.,  296.,  284.,\n",
       "        289.,  290.,  290.,  297.,  296.,  288.,  279.,  299.,  299.,\n",
       "        285.,  279.,  292.,  299.,  298.,  297.,  289.,  297.,  296.,\n",
       "        282.,  277.,  292.,  292.,  298.,  294.,  296.,  288.,  290.,\n",
       "        297.,  296.,  293.,  287.,  299.,  281.,  298.,  294.,  283.,\n",
       "        295.,  281.,  290.,  296.,  294.,  279.,  293.,  282.,  295.,\n",
       "        289.,  270.,  293.,  287.,  296.,  299.,  289.,  289.,  299.,\n",
       "        283.,  296.,  287.,  296.,  280.,  295.,  294.,  297.,  299.,\n",
       "        294.,  298.,  293.,  298.,  297.,  292.,  299.,  290.,  299.,\n",
       "        299.,  280.,  287.,  298.,  296.,  299.,  296.,  288.,  292.,\n",
       "        299.,  299.,  299.,  296.,  299.,  298.,  299.,  281.,  281.,\n",
       "        283.,  288.,  288.,  283.,  280.,  298.,  283.,  287.,  298.,\n",
       "        279.,  275.,  268.,  285.,  285.,  296.,  294.,  293.,  299.,\n",
       "        283.,  276.,  292.,  297.,  289.,  291.,  290.,  297.,  295.,\n",
       "        285.,  291.,  293.,  296.,  295.,  297.,  297.,  297.,  285.,\n",
       "        288.,  291.,  293.,  270.,  292.,  297.,  282.,  291.,  298.,\n",
       "        294.,  292.,  298.,  299.,  288.,  297.,  297.,  298.,  297.,\n",
       "        295.,  278.,  298.,  292.,  286.,  296.,  276.,  294.,  275.,\n",
       "        291.,  295.,  286.,  296.,  299.,  297.,  293.,  277.,  299.,\n",
       "        297.,  297.,  263.,  288.,  297.,  284.,  283.,  280.,  294.,\n",
       "        291.,  284.,  286.,  276.,  272.,  289.,  295.,  292.,  290.,\n",
       "        291.,  294.,  274.,  285.,  286.,  297.,  290.,  281.,  281.,\n",
       "        297.,  279.,  299.,  286.,  299.,  287.,  267.,  299.,  288.,\n",
       "        298.,  291.,  299.,  299.,  289.,  298.,  286.,  274.,  299.,\n",
       "        280.,  291.,  296.,  293.,  293.,  296.,  282.,  299.,  299.,\n",
       "        288.,  298.,  295.,  292.,  288.,  281.,  291.,  257.,  298.,\n",
       "        297.,  292.,  293.,  298.,  278.,  292.,  299.,  275.,  298.,\n",
       "        286.,  294.,  294.,  298.,  290.,  291.,  298.,  295.,  290.,\n",
       "        296.,  289.,  264.,  257.,  254.,  287.,  297.,  295.,  299.,\n",
       "        296.,  278.,  298.,  295.,  297.,  287.,  298.,  295.,  294.,\n",
       "        297.,  285.,  293.,  296.,  294.,  288.,  295.,  294.,  282.,\n",
       "        295.,  291.,  296.,  298.,  290.,  282.,  281.,  295.,  278.,  286.])"
      ]
     },
     "execution_count": 77,
     "metadata": {},
     "output_type": "execute_result"
    }
   ],
   "source": [
    "repetitions = 1000\n",
    "sample_size = 30\n",
    "maxes = make_array()\n",
    "for i in np.arange(repetitions):\n",
    "    m = serialno.sample(sample_size).column(0).max()\n",
    "    maxes = np.append(maxes, m)\n",
    "maxes"
   ]
  },
  {
   "cell_type": "code",
   "execution_count": 78,
   "metadata": {},
   "outputs": [
    {
     "data": {
      "text/html": [
       "<table border=\"1\" class=\"dataframe\">\n",
       "    <thead>\n",
       "        <tr>\n",
       "            <th>estimated_N</th>\n",
       "        </tr>\n",
       "    </thead>\n",
       "    <tbody>\n",
       "        <tr>\n",
       "            <td>291        </td>\n",
       "        </tr>\n",
       "    </tbody>\n",
       "        <tr>\n",
       "            <td>296        </td>\n",
       "        </tr>\n",
       "    </tbody>\n",
       "        <tr>\n",
       "            <td>272        </td>\n",
       "        </tr>\n",
       "    </tbody>\n",
       "        <tr>\n",
       "            <td>299        </td>\n",
       "        </tr>\n",
       "    </tbody>\n",
       "        <tr>\n",
       "            <td>298        </td>\n",
       "        </tr>\n",
       "    </tbody>\n",
       "        <tr>\n",
       "            <td>296        </td>\n",
       "        </tr>\n",
       "    </tbody>\n",
       "        <tr>\n",
       "            <td>297        </td>\n",
       "        </tr>\n",
       "    </tbody>\n",
       "        <tr>\n",
       "            <td>294        </td>\n",
       "        </tr>\n",
       "    </tbody>\n",
       "        <tr>\n",
       "            <td>297        </td>\n",
       "        </tr>\n",
       "    </tbody>\n",
       "        <tr>\n",
       "            <td>269        </td>\n",
       "        </tr>\n",
       "    </tbody>\n",
       "</table>\n",
       "<p>... (990 rows omitted)</p"
      ],
      "text/plain": [
       "estimated_N\n",
       "291\n",
       "296\n",
       "272\n",
       "299\n",
       "298\n",
       "296\n",
       "297\n",
       "294\n",
       "297\n",
       "269\n",
       "... (990 rows omitted)"
      ]
     },
     "execution_count": 78,
     "metadata": {},
     "output_type": "execute_result"
    }
   ],
   "source": [
    "estimates = Table().with_column(\"estimated_N\", maxes)\n",
    "estimates"
   ]
  },
  {
   "cell_type": "code",
   "execution_count": 79,
   "metadata": {},
   "outputs": [
    {
     "data": {
      "image/png": "[encoded data removed]",
      "text/plain": [
       "<matplotlib.figure.Figure at 0x78fd398f28>"
      ]
     },
     "metadata": {},
     "output_type": "display_data"
    }
   ],
   "source": [
    "estimates.hist(0)"
   ]
  },
  {
   "cell_type": "code",
   "execution_count": 80,
   "metadata": {},
   "outputs": [
    {
     "data": {
      "image/png": "[encoded data removed]",
      "text/plain": [
       "<matplotlib.figure.Figure at 0x78fecd8208>"
      ]
     },
     "metadata": {},
     "output_type": "display_data"
    }
   ],
   "source": [
    "estimates.hist(0, bins = np.arange(1, 400, 10))"
   ]
  },
  {
   "cell_type": "code",
   "execution_count": null,
   "metadata": {
    "collapsed": true
   },
   "outputs": [],
   "source": [
    "repetitions = 1000\n",
    "sample_size = 30\n",
    "maxes = make_array()\n",
    "doubles = make_array()\n",
    "\n",
    "for i in np.arange(repetitions):\n",
    "    sample = serialno.sample(sample_size).column(0)\n",
    "    maxes = np.append(maxes, sample.max())\n",
    "    doubles = np.append(doubles, np.average(sample)*2)\n",
    "\n",
    "estimates = Table().with_columns(\"largest # seen\", maxes, '2*average', doubles)\n",
    "estimates"
   ]
  },
  {
   "cell_type": "code",
   "execution_count": null,
   "metadata": {
    "collapsed": true
   },
   "outputs": [],
   "source": [
    "estimates.hist(bins = np.arange(1, 400, 10))"
   ]
  },
  {
   "cell_type": "code",
   "execution_count": null,
   "metadata": {
    "collapsed": true
   },
   "outputs": [],
   "source": []
  }
 ],
 "metadata": {
  "kernelspec": {
   "display_name": "Python 3",
   "language": "python",
   "name": "python3"
  },
  "language_info": {
   "codemirror_mode": {
    "name": "ipython",
    "version": 3
   },
   "file_extension": ".py",
   "mimetype": "text/x-python",
   "name": "python",
   "nbconvert_exporter": "python",
   "pygments_lexer": "ipython3",
   "version": "3.6.3"
  },
  "name": "_merged"
 },
 "nbformat": 4,
 "nbformat_minor": 2
}
