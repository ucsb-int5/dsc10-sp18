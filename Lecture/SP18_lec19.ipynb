{
 "cells": [
  {
   "cell_type": "code",
   "execution_count": null,
   "metadata": {
    "collapsed": true
   },
   "outputs": [],
   "source": [
    "import numpy as np\n",
    "from datascience import *\n",
    "%matplotlib inline\n",
    "\n",
    "np.set_printoptions(threshold=50)\n",
    "import matplotlib.pyplot as plots\n",
    "plots.style.use('fivethirtyeight')"
   ]
  },
  {
   "cell_type": "markdown",
   "metadata": {},
   "source": [
    "## How big are most of the values?\n",
    "## Average plus or minus a few SDs"
   ]
  },
  {
   "cell_type": "code",
   "execution_count": null,
   "metadata": {
    "scrolled": true
   },
   "outputs": [],
   "source": [
    "sample_size = 1000000\n",
    "samples = []\n",
    "for i in np.arange(sample_size):       #increase the size by adding more zeros\n",
    "    samples.append( np.random.normal())\n",
    "sample_table = Table().with_column('Sample', samples)\n",
    "sample_table.hist(bins=np.arange(-4.5, 4.6, .1))"
   ]
  },
  {
   "cell_type": "code",
   "execution_count": null,
   "metadata": {},
   "outputs": [],
   "source": [
    "# how many samples are within 3 SDs?\n",
    "\n",
    "sample_table.where('Sample', are.not_below(-3)).where('Sample', are.not_above(3)).num_rows"
   ]
  },
  {
   "cell_type": "code",
   "execution_count": null,
   "metadata": {},
   "outputs": [],
   "source": [
    "#as a proportion of all samples\n",
    "sample_table.where('Sample', are.not_below(-3)).where('Sample', are.not_above(3)).num_rows/sample_size"
   ]
  },
  {
   "cell_type": "markdown",
   "metadata": {
    "collapsed": true
   },
   "source": [
    "Chebyshev says within 3 SDs, at least 1-1/9 = 88.8888%"
   ]
  },
  {
   "cell_type": "code",
   "execution_count": null,
   "metadata": {},
   "outputs": [],
   "source": [
    "#proportion within 2 SDs\n",
    "sample_table.where('Sample', are.not_below(-2)).where('Sample', are.not_above(2)).num_rows/sample_size"
   ]
  },
  {
   "cell_type": "code",
   "execution_count": null,
   "metadata": {},
   "outputs": [],
   "source": [
    "#proportion within 1 SD\n",
    "sample_table.where('Sample', are.not_below(-1)).where('Sample', are.not_above(1)).num_rows/sample_size"
   ]
  },
  {
   "cell_type": "markdown",
   "metadata": {
    "collapsed": true
   },
   "source": [
    "back to slides for Normal Proportions section"
   ]
  },
  {
   "cell_type": "markdown",
   "metadata": {},
   "source": [
    "## Aren't Normal Distributions Rare?"
   ]
  },
  {
   "cell_type": "code",
   "execution_count": null,
   "metadata": {},
   "outputs": [],
   "source": [
    "#maternal age, not bell shaped; has long tail\n",
    "births=Table.read_table('baby.csv')\n",
    "births.hist(2)"
   ]
  },
  {
   "cell_type": "code",
   "execution_count": null,
   "metadata": {},
   "outputs": [],
   "source": [
    "np.mean(births.column(2))\n"
   ]
  },
  {
   "cell_type": "code",
   "execution_count": null,
   "metadata": {},
   "outputs": [],
   "source": [
    "np.mean(births.sample(1000).column(2))   #try it a few times\n"
   ]
  },
  {
   "cell_type": "code",
   "execution_count": null,
   "metadata": {
    "collapsed": true
   },
   "outputs": [],
   "source": [
    "means = []\n",
    "for i in np.arange(10000):\n",
    "    means.append(np.mean(births.sample(1000).column(2)))\n"
   ]
  },
  {
   "cell_type": "code",
   "execution_count": null,
   "metadata": {},
   "outputs": [],
   "source": [
    "Table().with_column('Mean', means).hist(bins=50)"
   ]
  },
  {
   "cell_type": "code",
   "execution_count": null,
   "metadata": {},
   "outputs": [],
   "source": [
    "from IPython.display import Image\n",
    "Image(\"clt.png\", width=600)"
   ]
  },
  {
   "cell_type": "markdown",
   "metadata": {},
   "source": [
    "## Central Limit Theorem: Another Example"
   ]
  },
  {
   "cell_type": "code",
   "execution_count": null,
   "metadata": {},
   "outputs": [],
   "source": [
    "#http://inferentialthinking.com/notebooks/united_summer2015.csv\n",
    "united = Table.read_table('united_summer2015.csv')\n",
    "united"
   ]
  },
  {
   "cell_type": "code",
   "execution_count": null,
   "metadata": {},
   "outputs": [],
   "source": [
    "united.hist('Delay', bins=30)\n"
   ]
  },
  {
   "cell_type": "code",
   "execution_count": null,
   "metadata": {},
   "outputs": [],
   "source": [
    "mean_delay = np.mean(united.column('Delay'))\n",
    "sd_delay = np.std(united.column('Delay'))\n",
    "\n",
    "print(\"mean delay:  \"+str(mean_delay)+\"           standard deviation:  \"+str(sd_delay))"
   ]
  },
  {
   "cell_type": "code",
   "execution_count": null,
   "metadata": {},
   "outputs": [],
   "source": [
    "delay = united.select('Delay')\n",
    "delay.show(3)"
   ]
  },
  {
   "cell_type": "code",
   "execution_count": null,
   "metadata": {
    "scrolled": true
   },
   "outputs": [],
   "source": [
    "means = []\n",
    "for i in np.arange(10000):\n",
    "    sample = delay.sample(400)\n",
    "    means.append(np.mean(sample.column(0)))\n",
    "\n",
    "Table().with_column('Sample mean', means).hist(bins=30, unit='minute')\n"
   ]
  },
  {
   "cell_type": "markdown",
   "metadata": {
    "collapsed": true
   },
   "source": [
    "What will happen if we change the sample size from 400 to 10?\n",
    "\n",
    " A: Same shape  \n",
    " B: Same shape but more jagged   \n",
    " C: Longer left tail  \n",
    " D: Longer right tail"
   ]
  },
  {
   "cell_type": "code",
   "execution_count": null,
   "metadata": {},
   "outputs": [],
   "source": [
    "means = []\n",
    "for i in np.arange(10000):\n",
    "    sample = delay.sample(10)\n",
    "    means.append(np.mean(sample.column(0)))\n",
    "\n",
    "Table().with_column('Sample mean', means).hist(bins=30, unit='minute')\n"
   ]
  },
  {
   "cell_type": "markdown",
   "metadata": {
    "collapsed": true
   },
   "source": [
    "back to slides for Central Limit Theorem section"
   ]
  },
  {
   "cell_type": "markdown",
   "metadata": {},
   "source": [
    "## Variability of the sample mean"
   ]
  },
  {
   "cell_type": "code",
   "execution_count": null,
   "metadata": {},
   "outputs": [],
   "source": [
    "# make a function to calculate sample means, based on a given sample size\n",
    "# consistently use 10,000 repetitions\n",
    "\n",
    "def sample_means(sample_size):\n",
    "    means = []\n",
    "    for i in np.arange(10000):\n",
    "        sample = delay.sample(sample_size)\n",
    "        means.append(np.mean(sample.column(0)))\n",
    "    return means\n"
   ]
  },
  {
   "cell_type": "code",
   "execution_count": null,
   "metadata": {
    "scrolled": true
   },
   "outputs": [],
   "source": [
    "# let's compare different sample sizes\n",
    "Table().with_column(\n",
    "    '400', sample_means(400),\n",
    "    '900', sample_means(900),\n",
    "    '2500', sample_means(2500),    \n",
    ").hist(bins=30, unit='minute')"
   ]
  },
  {
   "cell_type": "markdown",
   "metadata": {},
   "source": [
    "What is the same about these curves, and what is different? \n",
    "\n",
    "Sample mean is unbiased.\n",
    "\n",
    "More accurate estimator when sample size is larger."
   ]
  },
  {
   "cell_type": "code",
   "execution_count": null,
   "metadata": {
    "collapsed": true
   },
   "outputs": [],
   "source": [
    "# How narrow /wide do the bell curves get? Measuredy by SD."
   ]
  },
  {
   "cell_type": "code",
   "execution_count": null,
   "metadata": {
    "collapsed": true
   },
   "outputs": [],
   "source": [
    "def variability(sample_size):\n",
    "    means = sample_means(sample_size)\n",
    "    Table().with_column('Sample mean', means).hist(bins=30, unit='minute')\n",
    "    plots.xlim(0, 35);\n",
    "    plots.ylim(0, .35);\n",
    "\n",
    "    print('Sample size:                   ', sample_size)\n",
    "    print('Population mean:               ', mean_delay)\n",
    "    print('Average of sample means:       ', np.average(means))    \n",
    "    print('Population SD:                 ', sd_delay)\n",
    "    print('SD of sample means:            ', np.std(means))\n"
   ]
  },
  {
   "cell_type": "code",
   "execution_count": null,
   "metadata": {},
   "outputs": [],
   "source": [
    "variability(100)"
   ]
  },
  {
   "cell_type": "code",
   "execution_count": null,
   "metadata": {
    "scrolled": true
   },
   "outputs": [],
   "source": [
    "variability(400)"
   ]
  },
  {
   "cell_type": "code",
   "execution_count": null,
   "metadata": {},
   "outputs": [],
   "source": [
    "variability(900)"
   ]
  },
  {
   "cell_type": "markdown",
   "metadata": {},
   "source": [
    "What SD do you expect for sample size 3600?\n",
    "\n",
    "A. Quarter of SD for sample size 900  \n",
    "B. Half of SD for sample size 900  \n",
    "C. Same as SD for sample size 900  \n",
    "D. Double SD for sample size 900  \n",
    "D. Four times SD for sample size 900  "
   ]
  },
  {
   "cell_type": "code",
   "execution_count": null,
   "metadata": {},
   "outputs": [],
   "source": [
    "variability(3600)"
   ]
  },
  {
   "cell_type": "markdown",
   "metadata": {
    "collapsed": true
   },
   "source": [
    "back to slides for recap and discussion questions"
   ]
  },
  {
   "cell_type": "markdown",
   "metadata": {},
   "source": [
    "## Discussion Question 1"
   ]
  },
  {
   "cell_type": "code",
   "execution_count": null,
   "metadata": {},
   "outputs": [],
   "source": [
    "means = sample_means(1)\n",
    "Table().with_column('Sample mean', means).hist(bins=30, unit='minute')"
   ]
  },
  {
   "cell_type": "code",
   "execution_count": null,
   "metadata": {},
   "outputs": [],
   "source": [
    "# what happens if I change sample size to 2?\n",
    "means = sample_means(1)\n",
    "Table().with_column('Sample mean', means).hist(bins=30, unit='minute')"
   ]
  },
  {
   "cell_type": "code",
   "execution_count": null,
   "metadata": {
    "scrolled": false
   },
   "outputs": [],
   "source": [
    "#see how the histogram becomes more normal as sample size increases\n",
    "\n",
    "for i in 2**(np.arange(10)):\n",
    "    means = sample_means(i)\n",
    "    Table().with_column('Sample mean', means).hist(bins=30, unit='minute')"
   ]
  },
  {
   "cell_type": "markdown",
   "metadata": {},
   "source": [
    "back to slides for more discussion questions"
   ]
  },
  {
   "cell_type": "code",
   "execution_count": null,
   "metadata": {
    "collapsed": true
   },
   "outputs": [],
   "source": []
  }
 ],
 "metadata": {
  "kernelspec": {
   "display_name": "Python 3",
   "language": "python",
   "name": "python3"
  },
  "language_info": {
   "codemirror_mode": {
    "name": "ipython",
    "version": 3
   },
   "file_extension": ".py",
   "mimetype": "text/x-python",
   "name": "python",
   "nbconvert_exporter": "python",
   "pygments_lexer": "ipython3",
   "version": "3.6.3"
  }
 },
 "nbformat": 4,
 "nbformat_minor": 2
}
