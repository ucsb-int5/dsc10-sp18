{
 "cells": [
  {
   "cell_type": "code",
   "execution_count": null,
   "metadata": {},
   "outputs": [],
   "source": [
    "import numpy as np\n",
    "np.set_printoptions(threshold=50)\n",
    "from datascience import *\n",
    "\n",
    "\n",
    "%matplotlib inline\n",
    "import matplotlib\n",
    "import matplotlib.pyplot as plots\n",
    "plots.style.use('fivethirtyeight')\n",
    "\n",
    "print(matplotlib.__version__)"
   ]
  },
  {
   "cell_type": "markdown",
   "metadata": {},
   "source": [
    "Make sure you are using matplotlib version 2.0 (specifically not version 2.1; there is a bug in their implementation of histograms)."
   ]
  },
  {
   "cell_type": "markdown",
   "metadata": {},
   "source": [
    "##  Binning\n"
   ]
  },
  {
   "cell_type": "code",
   "execution_count": null,
   "metadata": {},
   "outputs": [],
   "source": [
    "#data = 'http://inferentialthinking.com/notebooks/top_movies.csv'\n",
    "\n",
    "data = 'top_movies.csv'\n",
    "top = Table.read_table(data)\n",
    "top\n"
   ]
  },
  {
   "cell_type": "code",
   "execution_count": null,
   "metadata": {},
   "outputs": [],
   "source": [
    "aged = top.with_column(\"Age\", 2017-top.column('Year'))\n",
    "aged"
   ]
  },
  {
   "cell_type": "code",
   "execution_count": null,
   "metadata": {},
   "outputs": [],
   "source": [
    "aged.group(\"Age\")"
   ]
  },
  {
   "cell_type": "code",
   "execution_count": null,
   "metadata": {},
   "outputs": [],
   "source": [
    "#You can decide which ages to group together into bins\n",
    "#inputs: (name of your bins, values for bounds)\n",
    "#need not be evenly spaced\n",
    "\n",
    "aged.bin('Age', bins = make_array(0, 5, 10, 20, 40, 65, 100))"
   ]
  },
  {
   "cell_type": "code",
   "execution_count": null,
   "metadata": {
    "scrolled": false
   },
   "outputs": [],
   "source": [
    "#The last row of the table does not represent a bin. It represents the right endpoint of the last bin.\n",
    "\n",
    "#What happens if your bins don't capture all of the data?\n",
    "\n",
    "aged.bin('Age', bins = make_array(0, 5, 10, 20, 40))"
   ]
  },
  {
   "cell_type": "code",
   "execution_count": null,
   "metadata": {},
   "outputs": [],
   "source": [
    "#Does not realize that there is more data beyond the last bin. Choose bins carefully.\n",
    "\n",
    "#What happened to the bin with left endpoint of 20? Compare to above.\n",
    "\n",
    "aged.where('Age', 40)"
   ]
  },
  {
   "cell_type": "code",
   "execution_count": null,
   "metadata": {},
   "outputs": [],
   "source": [
    "#bin with no bins specified\n",
    "\n",
    "aged.bin('Age').show()\n",
    "\n",
    "#default bins are ten evenly spaced bins: (96-2)/10 = 94/10 = 9.4 width\n",
    "#the last row is not really a bin (always empty) - just shows you where the previous bin ends"
   ]
  },
  {
   "cell_type": "code",
   "execution_count": null,
   "metadata": {},
   "outputs": [],
   "source": [
    "#create your own evenly spaced bins with np.arange\n",
    "\n",
    "aged.bin('Age', bins=np.arange(0, 101, 20))"
   ]
  },
  {
   "cell_type": "markdown",
   "metadata": {},
   "source": [
    "## Histograms"
   ]
  },
  {
   "cell_type": "code",
   "execution_count": null,
   "metadata": {},
   "outputs": [],
   "source": [
    "from IPython.display import Image\n",
    "Image(\"hist.png\", width=600)"
   ]
  },
  {
   "cell_type": "code",
   "execution_count": null,
   "metadata": {
    "scrolled": true
   },
   "outputs": [],
   "source": [
    "#ready for a histogram with the ten default bins\n",
    "aged.hist('Age')"
   ]
  },
  {
   "cell_type": "code",
   "execution_count": null,
   "metadata": {},
   "outputs": [],
   "source": [
    "#horizontal axis is a number line: fixed scale\n",
    "\n",
    "#arrange better, with our five custom bins\n",
    "aged.hist('Age', bins= np.arange(0, 101 , 20)) #include unit='year'"
   ]
  },
  {
   "cell_type": "code",
   "execution_count": null,
   "metadata": {},
   "outputs": [],
   "source": [
    "#change the vertical axis to be a count of how many movies fall into each bin\n",
    "#why such a strange vertical axis by default?\n",
    "\n",
    "aged.hist('Age', bins= np.arange(0, 101 , 20), normed=False)"
   ]
  },
  {
   "cell_type": "markdown",
   "metadata": {},
   "source": [
    "back to slides"
   ]
  },
  {
   "cell_type": "markdown",
   "metadata": {},
   "source": [
    "## Combining Bins"
   ]
  },
  {
   "cell_type": "code",
   "execution_count": null,
   "metadata": {},
   "outputs": [],
   "source": [
    "aged.hist('Age', bins=make_array(0, 20, 60, 80, 100), normed=True)"
   ]
  },
  {
   "cell_type": "code",
   "execution_count": null,
   "metadata": {},
   "outputs": [],
   "source": [
    "#why do we not just display the counts?\n",
    "#option to do this is normed=False\n",
    "\n",
    "aged.hist('Age', bins=make_array(0, 20, 60, 80, 100), normed=False)"
   ]
  },
  {
   "cell_type": "markdown",
   "metadata": {},
   "source": [
    "This is not a histogram. This violates the area principle."
   ]
  },
  {
   "cell_type": "code",
   "execution_count": null,
   "metadata": {},
   "outputs": [],
   "source": [
    "#remember what the distribution looked like\n",
    "\n",
    "aged.hist('Age', bins=np.arange(0, 101, 5))"
   ]
  },
  {
   "cell_type": "code",
   "execution_count": null,
   "metadata": {
    "scrolled": true
   },
   "outputs": [],
   "source": [
    "#a rougher approximation, combining some bins\n",
    "\n",
    "aged.hist('Age', bins=make_array(0, 5, 10, 20, 50, 60, 65, 75, 80, 100), unit='year', normed=True)"
   ]
  },
  {
   "cell_type": "code",
   "execution_count": null,
   "metadata": {},
   "outputs": [],
   "source": [
    "#compare density of bin with 20 (five wide) vs bin with 85 (30 wide)\n",
    "\n",
    "aged.bin('Age', bins=make_array(0, 5, 10, 20, 50, 60, 65, 75, 80, 100))"
   ]
  },
  {
   "cell_type": "code",
   "execution_count": null,
   "metadata": {
    "scrolled": true
   },
   "outputs": [],
   "source": [
    "aged.hist('Age', bins=make_array(0, 5, 10, 20, 50, 60, 65, 75, 80, 100), unit='year',  normed = False)"
   ]
  },
  {
   "cell_type": "code",
   "execution_count": null,
   "metadata": {
    "collapsed": true
   },
   "outputs": [],
   "source": [
    "#compare representation of 20 vs 85"
   ]
  },
  {
   "cell_type": "markdown",
   "metadata": {},
   "source": [
    "## Overlaid Graphs"
   ]
  },
  {
   "cell_type": "code",
   "execution_count": null,
   "metadata": {},
   "outputs": [],
   "source": [
    "# data = 'http://inferentialthinking.com/notebooks/galton_subset.csv'\n",
    "data = 'galton_subset.csv'\n",
    "heights = Table.read_table(data)\n",
    "heights = heights.select(2, 0, 1)\n",
    "heights"
   ]
  },
  {
   "cell_type": "code",
   "execution_count": null,
   "metadata": {},
   "outputs": [],
   "source": [
    "heights.hist('son', unit='inch')"
   ]
  },
  {
   "cell_type": "code",
   "execution_count": null,
   "metadata": {},
   "outputs": [],
   "source": [
    "heights.hist('father', unit='inch')"
   ]
  },
  {
   "cell_type": "code",
   "execution_count": null,
   "metadata": {},
   "outputs": [],
   "source": [
    "heights.hist('son', 'father', unit='inch')"
   ]
  },
  {
   "cell_type": "code",
   "execution_count": null,
   "metadata": {},
   "outputs": [],
   "source": [
    "heights.hist('son', 'father', 'mother', unit='inch')"
   ]
  },
  {
   "cell_type": "code",
   "execution_count": null,
   "metadata": {},
   "outputs": [],
   "source": [
    "heights.hist(unit='inch')"
   ]
  },
  {
   "cell_type": "code",
   "execution_count": null,
   "metadata": {},
   "outputs": [],
   "source": [
    "heights.hist(bins=np.arange(55, 81, 1), unit='inch')\n",
    "_ = plots.xlabel('Height (inches)')"
   ]
  },
  {
   "cell_type": "code",
   "execution_count": null,
   "metadata": {},
   "outputs": [],
   "source": [
    "#in histogram, can't tell which father goes with which son\n",
    "\n",
    "heights.scatter('son', 'father')"
   ]
  },
  {
   "cell_type": "code",
   "execution_count": null,
   "metadata": {},
   "outputs": [],
   "source": [
    "heights.scatter('son', 'mother')"
   ]
  },
  {
   "cell_type": "markdown",
   "metadata": {
    "collapsed": true
   },
   "source": [
    "back to slides"
   ]
  },
  {
   "cell_type": "code",
   "execution_count": null,
   "metadata": {
    "collapsed": true
   },
   "outputs": [],
   "source": []
  },
  {
   "cell_type": "code",
   "execution_count": null,
   "metadata": {
    "collapsed": true
   },
   "outputs": [],
   "source": []
  }
 ],
 "metadata": {
  "kernelspec": {
   "display_name": "Python 3",
   "language": "python",
   "name": "python3"
  },
  "language_info": {
   "codemirror_mode": {
    "name": "ipython",
    "version": 3
   },
   "file_extension": ".py",
   "mimetype": "text/x-python",
   "name": "python",
   "nbconvert_exporter": "python",
   "pygments_lexer": "ipython3",
   "version": "3.6.3"
  }
 },
 "nbformat": 4,
 "nbformat_minor": 2
}
