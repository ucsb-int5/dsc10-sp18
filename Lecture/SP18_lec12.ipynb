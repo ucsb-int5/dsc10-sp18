{
 "cells": [
  {
   "cell_type": "code",
   "execution_count": null,
   "metadata": {
    "collapsed": true
   },
   "outputs": [],
   "source": [
    "from datascience import *\n",
    "import numpy as np\n",
    "\n",
    "%matplotlib inline\n",
    "import matplotlib.pyplot as plots\n",
    "plots.style.use('fivethirtyeight')"
   ]
  },
  {
   "cell_type": "markdown",
   "metadata": {},
   "source": [
    "## Random Selection"
   ]
  },
  {
   "cell_type": "code",
   "execution_count": null,
   "metadata": {},
   "outputs": [],
   "source": [
    "coin = make_array('Heads', 'Tails')\n",
    "results = np.random.choice(coin, 100)\n",
    "results #.item(36)\n"
   ]
  },
  {
   "cell_type": "code",
   "execution_count": null,
   "metadata": {},
   "outputs": [],
   "source": [
    "for i in np.arange(100): #do the same thing 100 times\n",
    "    print(np.random.choice(coin))\n",
    "i    \n",
    "#no way to access the 37th coin flip"
   ]
  },
  {
   "cell_type": "code",
   "execution_count": null,
   "metadata": {},
   "outputs": [],
   "source": [
    "#we want to save the outputs into array\n",
    "#start with empty array, each time add a new output\n",
    "\n",
    "#practice with append first\n",
    "a = make_array(\"Goofy\", \"Donald\", \"Mickey\")\n",
    "np.append(a, \"Minnie\")\n",
    "\n"
   ]
  },
  {
   "cell_type": "code",
   "execution_count": null,
   "metadata": {},
   "outputs": [],
   "source": [
    "a"
   ]
  },
  {
   "cell_type": "code",
   "execution_count": null,
   "metadata": {},
   "outputs": [],
   "source": [
    "#need to re-assign the name to the same one \n",
    "a = make_array(\"Goofy\", \"Donald\", \"Mickey\")\n",
    "a = np.append(a, \"Minnie\")\n",
    "a"
   ]
  },
  {
   "cell_type": "code",
   "execution_count": null,
   "metadata": {},
   "outputs": [],
   "source": [
    "#add them one by onoe\n",
    "\n",
    "disney = make_array()\n",
    "disney = np.append(disney, \"Goofy\")\n",
    "disney = np.append(disney, \"Donald\")\n",
    "disney = np.append(disney, \"Mickey\")\n",
    "disney = np.append(disney, \"Minnie\")\n",
    "disney"
   ]
  },
  {
   "cell_type": "code",
   "execution_count": null,
   "metadata": {},
   "outputs": [],
   "source": [
    "#now let's use a for loop to simulate five tosses of a coin \n",
    "# and place the results into an array.\n",
    "\n",
    "tosses = make_array()\n",
    "\n",
    "for i in np.arange(5):\n",
    "    tosses = np.append(tosses, np.random.choice(coin))\n",
    "\n",
    "tosses"
   ]
  },
  {
   "cell_type": "code",
   "execution_count": null,
   "metadata": {},
   "outputs": [],
   "source": [
    "tosses = make_array()\n",
    "\n",
    "for i in np.arange(1000):\n",
    "    tosses = np.append(tosses, np.random.choice(coin))\n",
    "\n",
    "np.count_nonzero(tosses == 'Heads')\n"
   ]
  },
  {
   "cell_type": "code",
   "execution_count": null,
   "metadata": {
    "collapsed": true
   },
   "outputs": [],
   "source": [
    "#Example: Run 10000 samples\n",
    "# 100 tosses in each sample\n",
    "# Calculate number of heads"
   ]
  },
  {
   "cell_type": "code",
   "execution_count": null,
   "metadata": {},
   "outputs": [],
   "source": [
    "\n",
    "\n",
    "\n",
    "\n",
    "\n",
    "\n",
    "\n",
    "N = 10000 #number of repetitions \n",
    "\n",
    "head_count = make_array() #empty array, keeps track of heads\n",
    "\n",
    "for i in np.arange(N):   #run it 10000 times\n",
    "    tosses = np.random.choice(coin, 100)  #generate 100 coin tosses \n",
    "    head_count = np.append(head_count, np.count_nonzero(tosses == 'Heads')) # calculate number of heads, update heads array\n",
    "\n",
    "head_count"
   ]
  },
  {
   "cell_type": "code",
   "execution_count": null,
   "metadata": {},
   "outputs": [],
   "source": [
    "#Create a table and then plot the results\n",
    "\n",
    "results = Table().with_columns(\n",
    "    'Repetition', np.arange(1, N+1),\n",
    "    'Number of Heads', head_count\n",
    ")\n",
    "\n",
    "results"
   ]
  },
  {
   "cell_type": "code",
   "execution_count": null,
   "metadata": {},
   "outputs": [],
   "source": [
    "results.select('Number of Heads').hist(bins=np.arange(30, 71, 1))\n"
   ]
  },
  {
   "cell_type": "markdown",
   "metadata": {},
   "source": [
    "## Monty Hall"
   ]
  },
  {
   "cell_type": "code",
   "execution_count": null,
   "metadata": {
    "collapsed": true
   },
   "outputs": [],
   "source": [
    "#my three posibilites are:\n",
    "\n",
    "# CGG\n",
    "\n",
    "# GCG\n",
    "\n",
    "# GGC\n"
   ]
  },
  {
   "cell_type": "code",
   "execution_count": null,
   "metadata": {
    "collapsed": true
   },
   "outputs": [],
   "source": [
    "#let's simulate game in Python\n",
    "\n",
    "#1. Put the prizes behind doors randomly\n",
    "#2. I pick a door\n",
    "#3. Monty opens the door\n",
    "#4. Reveal what was behind each door"
   ]
  },
  {
   "cell_type": "code",
   "execution_count": null,
   "metadata": {},
   "outputs": [],
   "source": [
    "#1. Put the prizes behind doors randomly\n",
    "\n",
    "doors = make_array(1, 2, 3)\n",
    "prizes =  make_array(\"Car\", \"First Goat\", \"Second Goat\")\n",
    "np.random.choice(prizes, 3, replace = False) #by default, with replacement. Could get two cars, for example"
   ]
  },
  {
   "cell_type": "code",
   "execution_count": null,
   "metadata": {},
   "outputs": [],
   "source": [
    "#function to put my results in a table\n",
    "def setup ():\n",
    "    \"\"\"Return a random setup of the game\"\"\"\n",
    "    return Table().with_columns(\n",
    "        'Door', doors, \n",
    "        'Prize', np.random.choice(prizes, 3, replace = False)\n",
    "    )\n",
    "\n",
    "a_game = setup()\n",
    "a_game\n"
   ]
  },
  {
   "cell_type": "markdown",
   "metadata": {},
   "source": [
    "** How would you define a function 'behind' that takes in a game (as a table) and a door number and returns the prize behind the door? **"
   ]
  },
  {
   "cell_type": "code",
   "execution_count": null,
   "metadata": {},
   "outputs": [],
   "source": [
    "behind(a_game, 3)"
   ]
  },
  {
   "cell_type": "code",
   "execution_count": null,
   "metadata": {
    "collapsed": true
   },
   "outputs": [],
   "source": [
    "def behind(game, door_num):\n",
    "    \"\"\"Returns the prize behind the door\"\"\"\n",
    "\n",
    "\n",
    "\n",
    "\n",
    "\n",
    "#def behind(game, door_num):\n",
    "    \"\"\"Returns the prize behind the door\"\"\"\n",
    "    return game.where('Door', door_num).column('Prize').item(0)\n"
   ]
  },
  {
   "cell_type": "code",
   "execution_count": null,
   "metadata": {},
   "outputs": [],
   "source": [
    "for d in doors:\n",
    "    print('Behind a door number', d, 'is the', behind(a_game, d))\n",
    "\n",
    "\n"
   ]
  },
  {
   "cell_type": "code",
   "execution_count": null,
   "metadata": {},
   "outputs": [],
   "source": [
    "#function that tells me where each prize is\n",
    "def prize_loc(game, prize):\n",
    "    return game.where('Prize', prize).column('Door').item(0)\n",
    "\n",
    "for prize in prizes:\n",
    "    print('The', prize, 'is behind door number', prize_loc(a_game, prize))"
   ]
  },
  {
   "cell_type": "markdown",
   "metadata": {},
   "source": [
    "**How would you write a function 'expose' that takes in a game (as a table) and a guessed door number\n",
    "and shows which door Monty Hall would open to expose a goat? ** Talk to each other first."
   ]
  },
  {
   "cell_type": "code",
   "execution_count": null,
   "metadata": {},
   "outputs": [],
   "source": [
    "# run it again\n",
    "a_game"
   ]
  },
  {
   "cell_type": "code",
   "execution_count": null,
   "metadata": {
    "collapsed": true
   },
   "outputs": [],
   "source": [
    "#The output will be different for each a_game run! We should change the example below in class.\n",
    "expose (a_game, 2) => 3\n",
    "expose (a_game, 3) => 2\n",
    "expose (a_game, 1) => either 2 or 3. "
   ]
  },
  {
   "cell_type": "code",
   "execution_count": null,
   "metadata": {},
   "outputs": [],
   "source": [
    "def expose (game, guessed_door):\n",
    "    \"\"\"Returns the door that Monty opens to expose a goat\"\"\"\n",
    "    if behind(game, guessed_door) == \"First Goat\":\n",
    "            return prize_loc(game, \"Second Goat\")\n",
    "    elif behind(game,guessed_door) == \"Second Goat\":\n",
    "            return prize_loc(game, \"First Goat\")\n",
    "    else :\n",
    "        return prize_loc(game, \"First Goat\")\n",
    "\n",
    "expose(a_game, 3)"
   ]
  },
  {
   "cell_type": "code",
   "execution_count": null,
   "metadata": {},
   "outputs": [],
   "source": [
    "def expose (game, guessed_door):\n",
    "    \"\"\"Returns the door that Monty opens to expose a goat\"\"\"\n",
    "    \n",
    "    guessed_prize = behind(game, guessed_door)\n",
    "    \n",
    "    if (guessed_prize == 'First Goat'):\n",
    "        reveal = 'Second Goat'\n",
    "    elif (guessed_prize == 'Second Goat'):\n",
    "        reveal = 'First Goat'\n",
    "    else: \n",
    "        reveal = np.random.choice(make_array('First Goat', 'Second Goat'))\n",
    "    return prize_loc(game, reveal)\n",
    "    \n",
    "a_guess = 2    \n",
    "an_exposed_door = expose(a_game, a_guess)\n",
    "print('The contestant picks out door', a_guess, 'which hides', behind(a_game, a_guess))\n",
    "print('Monty opens door', an_exposed_door, 'to expose a goat' )"
   ]
  },
  {
   "cell_type": "code",
   "execution_count": null,
   "metadata": {},
   "outputs": [],
   "source": [
    "# what is the door that no one chose?\n",
    "def other(game, my_guess, monty):\n",
    "    '''Returns the door that is not guessed or exposed'''\n",
    "    return (1 + 2 + 3) - (my_guess + monty)\n",
    "\n",
    "remain_door = other(a_game, 3, 2)\n",
    "print ('The remaining door', remain_door, 'hides the', behind(a_game, remain_door))"
   ]
  },
  {
   "cell_type": "markdown",
   "metadata": {},
   "source": [
    "# Reveal all doors, repeat"
   ]
  },
  {
   "cell_type": "markdown",
   "metadata": {},
   "source": [
    "** Let's simulate one game of the Monty Hall problem. Create a list where the first element is the prize behind the contestant's guessed door, the second is the prize behind Monty's exposed door, and the third is the prize behind the remaining door.  **"
   ]
  },
  {
   "cell_type": "code",
   "execution_count": null,
   "metadata": {},
   "outputs": [],
   "source": [
    "game = setup()\n",
    "game"
   ]
  },
  {
   "cell_type": "code",
   "execution_count": null,
   "metadata": {},
   "outputs": [],
   "source": [
    "#now my guess\n",
    "guess =  np.random.choice(doors)\n",
    "#monty's turn\n",
    "monty = expose(game, guess)\n",
    "#remaining door\n",
    "remaining = other(game, guess, monty)\n",
    "#put all in the list\n",
    "[guess, monty, remaining]"
   ]
  },
  {
   "cell_type": "code",
   "execution_count": null,
   "metadata": {},
   "outputs": [],
   "source": [
    "#I want to know what is behind the doors\n",
    "\n",
    "[behind(game, guess),behind(game, monty),behind(game, remaining)]"
   ]
  },
  {
   "cell_type": "code",
   "execution_count": null,
   "metadata": {},
   "outputs": [],
   "source": [
    "#run this game several times and save the resutls\n",
    "\n",
    "trials = Table(['trial', 'guess', 'exposed', 'remaining'] )\n",
    "for i in np.arange(10000):\n",
    "    guess =  np.random.choice(doors)\n",
    "    monty = expose(game, guess)\n",
    "    remaining = other(game, guess, monty)\n",
    "    trials.append([i, behind(game, guess),behind(game, monty),behind(game, remaining)])\n",
    "    \n",
    "trials"
   ]
  },
  {
   "cell_type": "code",
   "execution_count": null,
   "metadata": {},
   "outputs": [],
   "source": [
    "trials.group('guess')"
   ]
  },
  {
   "cell_type": "code",
   "execution_count": null,
   "metadata": {},
   "outputs": [],
   "source": [
    "trials.group('remaining')"
   ]
  },
  {
   "cell_type": "code",
   "execution_count": null,
   "metadata": {},
   "outputs": [],
   "source": [
    "trials.group('guess').barh('guess')\n",
    "plots.xlim(0, 6000)"
   ]
  },
  {
   "cell_type": "code",
   "execution_count": null,
   "metadata": {},
   "outputs": [],
   "source": [
    "trials.group('remaining').barh('remaining')\n",
    "plots.xlim(0, 8000)"
   ]
  },
  {
   "cell_type": "markdown",
   "metadata": {
    "collapsed": true
   },
   "source": [
    "## Probability"
   ]
  },
  {
   "cell_type": "markdown",
   "metadata": {},
   "source": [
    "back to slides"
   ]
  },
  {
   "cell_type": "code",
   "execution_count": null,
   "metadata": {
    "collapsed": true
   },
   "outputs": [],
   "source": []
  },
  {
   "cell_type": "code",
   "execution_count": null,
   "metadata": {
    "collapsed": true
   },
   "outputs": [],
   "source": []
  }
 ],
 "metadata": {
  "kernelspec": {
   "display_name": "Python 3",
   "language": "python",
   "name": "python3"
  },
  "language_info": {
   "codemirror_mode": {
    "name": "ipython",
    "version": 3
   },
   "file_extension": ".py",
   "mimetype": "text/x-python",
   "name": "python",
   "nbconvert_exporter": "python",
   "pygments_lexer": "ipython3",
   "version": "3.6.3"
  }
 },
 "nbformat": 4,
 "nbformat_minor": 2
}
