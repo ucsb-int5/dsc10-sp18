{
 "cells": [
  {
   "cell_type": "code",
   "execution_count": null,
   "metadata": {
    "collapsed": true
   },
   "outputs": [],
   "source": [
    "from datascience import *\n",
    "import numpy as np\n",
    "\n",
    "%matplotlib inline\n",
    "import matplotlib.pyplot as plots\n",
    "plots.style.use('fivethirtyeight')"
   ]
  },
  {
   "cell_type": "markdown",
   "metadata": {},
   "source": [
    "## At least one 6"
   ]
  },
  {
   "cell_type": "markdown",
   "metadata": {
    "collapsed": true
   },
   "source": [
    "<img src=\"six.PNG\" width=600> "
   ]
  },
  {
   "cell_type": "code",
   "execution_count": null,
   "metadata": {},
   "outputs": [],
   "source": [
    "#let's increase the number of rolls. What do you expect to see? \n",
    "rolls = np.arange(1, 51)\n",
    "1-(5/6)**rolls"
   ]
  },
  {
   "cell_type": "code",
   "execution_count": null,
   "metadata": {},
   "outputs": [],
   "source": [
    "#put it in a table and plot it\n",
    "rolls = np.arange(1, 51)\n",
    "at_least_one = Table().with_columns('roll', rolls, 'Chance of getting at least one 6', 1-(5/6)**rolls)\n",
    "at_least_one"
   ]
  },
  {
   "cell_type": "code",
   "execution_count": null,
   "metadata": {},
   "outputs": [],
   "source": [
    "#plot\n",
    "at_least_one.scatter('roll')"
   ]
  },
  {
   "cell_type": "code",
   "execution_count": null,
   "metadata": {},
   "outputs": [],
   "source": [
    "#let's take a look at one particular probability\n",
    "at_least_one.where('roll', 20)"
   ]
  },
  {
   "cell_type": "code",
   "execution_count": null,
   "metadata": {},
   "outputs": [],
   "source": [
    "#now we are going to simulate\n",
    "faces = np.arange(1, 7)\n",
    "outcomes = np.random.choice(faces, 20) # pick random number from faces, 20 times\n",
    "outcomes"
   ]
  },
  {
   "cell_type": "code",
   "execution_count": null,
   "metadata": {},
   "outputs": [],
   "source": [
    "np.count_nonzero(outcomes == 6)"
   ]
  },
  {
   "cell_type": "code",
   "execution_count": null,
   "metadata": {},
   "outputs": [],
   "source": [
    "luck = 0\n",
    "trials =  100000\n",
    "for i in np.arange(trials):\n",
    "    outcomes = np.random.choice(faces, 20)\n",
    "    if np.count_nonzero(outcomes == 6) >=1:\n",
    "        luck = luck + 1\n",
    "        \n",
    "#estimate the probability\n",
    "luck/trials"
   ]
  },
  {
   "cell_type": "markdown",
   "metadata": {
    "collapsed": true
   },
   "source": [
    "back to slides for statistics"
   ]
  },
  {
   "cell_type": "markdown",
   "metadata": {},
   "source": [
    "## Estimation"
   ]
  },
  {
   "cell_type": "code",
   "execution_count": null,
   "metadata": {},
   "outputs": [],
   "source": [
    "def roll_20(trials):\n",
    "    luck = 0\n",
    "    for i in np.arange(trials):\n",
    "        outcomes = np.random.choice(faces, 20)\n",
    "        if np.count_nonzero(outcomes == 6) >=1:\n",
    "            luck = luck + 1\n",
    "        \n",
    "    #estimate the probability\n",
    "    return luck/trials\n",
    "\n",
    "roll_20(1000)"
   ]
  },
  {
   "cell_type": "code",
   "execution_count": null,
   "metadata": {},
   "outputs": [],
   "source": [
    "#let's call this method a bunch of times using another for loop\n",
    "estimates = Table(['estimates'])\n",
    "for i in np.arange(200):\n",
    "    estimates.append([roll_20(1000)])\n",
    "    \n",
    "estimates        "
   ]
  },
  {
   "cell_type": "code",
   "execution_count": null,
   "metadata": {},
   "outputs": [],
   "source": [
    "#let's draw a distribuition\n",
    "estimates.hist(0)"
   ]
  },
  {
   "cell_type": "markdown",
   "metadata": {},
   "source": [
    "back to slides for planes"
   ]
  },
  {
   "cell_type": "markdown",
   "metadata": {},
   "source": [
    "## Planes"
   ]
  },
  {
   "cell_type": "code",
   "execution_count": null,
   "metadata": {},
   "outputs": [],
   "source": [
    "N = 300\n",
    "serialno = Table().with_column('Serial number', np.arange(1, 300))\n",
    "serialno"
   ]
  },
  {
   "cell_type": "code",
   "execution_count": null,
   "metadata": {},
   "outputs": [],
   "source": [
    "serialno.sample(30).sort(0).show()"
   ]
  },
  {
   "cell_type": "code",
   "execution_count": null,
   "metadata": {},
   "outputs": [],
   "source": [
    "serialno.sample(30).column(0).max()"
   ]
  },
  {
   "cell_type": "code",
   "execution_count": null,
   "metadata": {},
   "outputs": [],
   "source": [
    "repetitions = 10000\n",
    "sample_size = 30\n",
    "\n",
    "maxes = make_array()\n",
    "for i in np.arange(repetitions):\n",
    "    m = serialno.sample(sample_size).column(0).max()\n",
    "    maxes = np.append(maxes, m)\n",
    "maxes"
   ]
  },
  {
   "cell_type": "code",
   "execution_count": null,
   "metadata": {},
   "outputs": [],
   "source": [
    "estimates = Table().with_column(\"estimated_N\", maxes)\n",
    "estimates"
   ]
  },
  {
   "cell_type": "code",
   "execution_count": null,
   "metadata": {},
   "outputs": [],
   "source": [
    "estimates.hist(0)"
   ]
  },
  {
   "cell_type": "code",
   "execution_count": null,
   "metadata": {},
   "outputs": [],
   "source": [
    "estimates.hist(0, bins = np.arange(1, 400, 10))"
   ]
  },
  {
   "cell_type": "markdown",
   "metadata": {
    "collapsed": true
   },
   "source": [
    "back to slides for verdict"
   ]
  },
  {
   "cell_type": "markdown",
   "metadata": {},
   "source": [
    "## Another Estimate"
   ]
  },
  {
   "cell_type": "code",
   "execution_count": null,
   "metadata": {},
   "outputs": [],
   "source": [
    "repetitions = 1000\n",
    "sample_size = 30\n",
    "doubles_mean = make_array()\n",
    "max_array = make_array()\n",
    "\n",
    "for i in np.arange(repetitions):\n",
    "    sample = serialno.sample(sample_size).column(0)\n",
    "    max_array = np.append(max_array, np.max(sample))\n",
    "    doubles_mean = np.append(doubles_mean, np.mean(sample)*2)\n",
    "\n",
    "estimates = Table().with_columns(\"2*mean\", doubles_mean, 'max', max_array)\n",
    "estimates"
   ]
  },
  {
   "cell_type": "code",
   "execution_count": null,
   "metadata": {},
   "outputs": [],
   "source": [
    "estimates.hist(bins = np.arange(1, 400, 10))"
   ]
  },
  {
   "cell_type": "markdown",
   "metadata": {
    "collapsed": true
   },
   "source": [
    "back to slides for bias-variance tradeoff"
   ]
  },
  {
   "cell_type": "markdown",
   "metadata": {},
   "source": [
    "##  Bias and Variance"
   ]
  },
  {
   "cell_type": "markdown",
   "metadata": {},
   "source": [
    "Can we come up with a new estimate that's less biased than the largest number seen, and less variable than twice the average?\n",
    "\n",
    "\n",
    "\n",
    "\n",
    "\n",
    "\n",
    "\n",
    "\n",
    "\n",
    "\n",
    "\n",
    "\n",
    "\n",
    "\n",
    "\n",
    "\n",
    "\n",
    "\n",
    "\n"
   ]
  },
  {
   "cell_type": "code",
   "execution_count": null,
   "metadata": {
    "collapsed": true
   },
   "outputs": [],
   "source": []
  },
  {
   "cell_type": "code",
   "execution_count": null,
   "metadata": {
    "collapsed": true
   },
   "outputs": [],
   "source": []
  }
 ],
 "metadata": {
  "kernelspec": {
   "display_name": "Python 3",
   "language": "python",
   "name": "python3"
  },
  "language_info": {
   "codemirror_mode": {
    "name": "ipython",
    "version": 3
   },
   "file_extension": ".py",
   "mimetype": "text/x-python",
   "name": "python",
   "nbconvert_exporter": "python",
   "pygments_lexer": "ipython3",
   "version": "3.6.3"
  },
  "name": "_merged"
 },
 "nbformat": 4,
 "nbformat_minor": 2
}
