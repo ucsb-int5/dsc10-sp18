{
 "cells": [
  {
   "cell_type": "code",
   "execution_count": null,
   "metadata": {
    "collapsed": true
   },
   "outputs": [],
   "source": [
    "from datascience import *\n",
    "import numpy as np\n",
    "\n",
    "%matplotlib inline\n",
    "import matplotlib.pyplot as plots\n",
    "plots.style.use('fivethirtyeight')"
   ]
  },
  {
   "cell_type": "markdown",
   "metadata": {},
   "source": [
    "# San Francisco Employee Incomes"
   ]
  },
  {
   "cell_type": "code",
   "execution_count": null,
   "metadata": {},
   "outputs": [],
   "source": [
    "data = 'san_francisco_2015.csv' # 'http://inferentialthinking.com/notebooks/san_francisco_2015.csv'\n",
    "\n",
    "sf = Table.read_table(data).select(3, 11, 21)\n",
    "sf.set_format(2, NumberFormatter(0))\n",
    "sf = sf.where(2, are.above(10000))\n",
    "sf.show(5)"
   ]
  },
  {
   "cell_type": "code",
   "execution_count": null,
   "metadata": {},
   "outputs": [],
   "source": [
    "sf.sort(2, descending  =  True)"
   ]
  },
  {
   "cell_type": "code",
   "execution_count": null,
   "metadata": {},
   "outputs": [],
   "source": [
    "comp_bins = np.arange(0, 700000, 25000)\n",
    "sf.hist(2, bins=comp_bins, unit='dollar')"
   ]
  },
  {
   "cell_type": "code",
   "execution_count": null,
   "metadata": {},
   "outputs": [],
   "source": [
    "#suppose we only have access to the sample:\n",
    "\n",
    "sample_from_population = sf.sample(200, with_replacement=False)  #unique workers \n",
    "sample_from_population.show(3)"
   ]
  },
  {
   "cell_type": "code",
   "execution_count": null,
   "metadata": {},
   "outputs": [],
   "source": [
    "comp_bins = np.arange(0, 700000, 25000)\n",
    "sample_from_population.hist(2, bins=comp_bins, unit='dollar')"
   ]
  },
  {
   "cell_type": "markdown",
   "metadata": {},
   "source": [
    "What is the median compensation in the population? This is a parameter.\n",
    "Presumably, you would not know it."
   ]
  },
  {
   "cell_type": "code",
   "execution_count": null,
   "metadata": {},
   "outputs": [],
   "source": [
    "np.median(sf.column(2))"
   ]
  },
  {
   "cell_type": "markdown",
   "metadata": {},
   "source": [
    "Use a statistic instead.\n",
    "Calculate the median of the sample, and use this sample median as an estimate for the population median."
   ]
  },
  {
   "cell_type": "code",
   "execution_count": null,
   "metadata": {
    "scrolled": true
   },
   "outputs": [],
   "source": [
    "np.median(sample_from_population.column(2))"
   ]
  },
  {
   "cell_type": "markdown",
   "metadata": {},
   "source": [
    "back to slides for Variability of the Estimate"
   ]
  },
  {
   "cell_type": "markdown",
   "metadata": {},
   "source": [
    "## Bootstrap"
   ]
  },
  {
   "cell_type": "code",
   "execution_count": null,
   "metadata": {
    "scrolled": false
   },
   "outputs": [],
   "source": [
    "sample_from_population.show(3)"
   ]
  },
  {
   "cell_type": "code",
   "execution_count": null,
   "metadata": {},
   "outputs": [],
   "source": [
    "np.median(sample_from_population.column(2))\n"
   ]
  },
  {
   "cell_type": "code",
   "execution_count": null,
   "metadata": {},
   "outputs": [],
   "source": [
    "# it does the bootstrap for you\n",
    "\n",
    "resample = sample_from_population.sample()\n",
    "resample.show(3)\n"
   ]
  },
  {
   "cell_type": "code",
   "execution_count": null,
   "metadata": {},
   "outputs": [],
   "source": [
    "resample.select(\"Total Compensation\").hist(bins = np.arange(0, 700000, 25000))"
   ]
  },
  {
   "cell_type": "code",
   "execution_count": null,
   "metadata": {},
   "outputs": [],
   "source": [
    "np.median(resample.column(2))"
   ]
  },
  {
   "cell_type": "markdown",
   "metadata": {},
   "source": [
    "Now we have another estimate for the population median. Do it again, a thousand times!"
   ]
  },
  {
   "cell_type": "code",
   "execution_count": null,
   "metadata": {},
   "outputs": [],
   "source": [
    "resampled_medians = []\n",
    "\n",
    "for i in np.arange(1000):\n",
    "    resample = sample_from_population.sample()\n",
    "    median = np.median(resample.column(2))\n",
    "    resampled_medians.append(median)\n",
    "\n",
    "Table().with_column(\n",
    "    \"Resampled median\", resampled_medians\n",
    ").hist(unit='dollar')"
   ]
  },
  {
   "cell_type": "markdown",
   "metadata": {},
   "source": [
    "What is the difference between the two histograms above?"
   ]
  },
  {
   "cell_type": "code",
   "execution_count": null,
   "metadata": {},
   "outputs": [],
   "source": [
    "# Where is the true population median? We have the luxury of being able to access the full population.\n",
    "# Normally, only have the sample (and resamples) from which to make a guess.\n",
    "\n",
    "np.median(sf.column(2))"
   ]
  },
  {
   "cell_type": "code",
   "execution_count": null,
   "metadata": {},
   "outputs": [],
   "source": [
    "Table().with_column('Resampled median', resampled_medians).hist(unit='dollar')\n",
    "pop_median = np.median(sf.column(2))\n",
    "plots.scatter(pop_median, 0, color='red', s=400)"
   ]
  },
  {
   "cell_type": "code",
   "execution_count": null,
   "metadata": {},
   "outputs": [],
   "source": [
    "#In yellow: middle 95% interval\n",
    "#Red Circle: True median\n",
    "\n",
    "Table().with_column('Resampled median', resampled_medians).hist(0)\n",
    "\n",
    "# Draw the line and dot\n",
    "# Ignore the plotting commands.\n",
    "interval_95 = [percentile(2.5, resampled_medians),\n",
    "               percentile(97.5, resampled_medians)]\n",
    "plots.plot(interval_95, [0, 0], color='gold', lw=5)\n",
    "pop_median = np.median(sf.column(2))\n",
    "plots.scatter(pop_median, 0, color='red', s=400)"
   ]
  },
  {
   "cell_type": "code",
   "execution_count": null,
   "metadata": {},
   "outputs": [],
   "source": [
    "# pull out the middle 95%\n",
    "# need to use percentile method (will be covered in Lab 7)\n",
    "\n",
    "print(\"95% of resampled medians were between\", \n",
    "      percentile(2.5, resampled_medians),\n",
    "      \"and\",\n",
    "      percentile(97.5, resampled_medians))\n"
   ]
  },
  {
   "cell_type": "code",
   "execution_count": null,
   "metadata": {},
   "outputs": [],
   "source": [
    "# Doing it all over again, putting the cells together\n",
    "\n",
    "sample_from_population = sf.sample(200, with_replacement=False)\n",
    "\n",
    "resampled_medians = []\n",
    "\n",
    "for i in np.arange(1000):\n",
    "    resample = sample_from_population.sample()\n",
    "    median = np.median(resample.column(2))\n",
    "    resampled_medians.append(median)\n",
    "\n",
    "Table().with_column('Resampled median', resampled_medians).hist(0)\n",
    "\n",
    "# Draw the line and dot\n",
    "interval_95 = [percentile(2.5, resampled_medians),\n",
    "               percentile(97.5, resampled_medians)]\n",
    "plots.plot(interval_95, [0, 0], color='gold', lw=5)\n",
    "pop_median = np.median(sf.column(2))\n",
    "plots.scatter(pop_median, 0, color='red', s=400)"
   ]
  },
  {
   "cell_type": "markdown",
   "metadata": {},
   "source": [
    "## Interval Estimates"
   ]
  },
  {
   "cell_type": "code",
   "execution_count": null,
   "metadata": {},
   "outputs": [],
   "source": [
    "# THE BIG SIMULATION: This one takes several minutes.\n",
    "\n",
    "# Generate 100 intervals, in the table intervals\n",
    "\n",
    "def bootstrap_median(sample_from_population, label, repetitions):\n",
    "    resampled_medians = []\n",
    "    for i in np.arange(repetitions):\n",
    "        resample = sample_from_population.sample()\n",
    "        median = np.median(resample.column(label))\n",
    "        resampled_medians.append(median)\n",
    "    return resampled_medians\n",
    "\n",
    "left_ends = make_array()\n",
    "right_ends = make_array()\n",
    "\n",
    "total_comps = sf.select(2)\n",
    "for i in np.arange(100):\n",
    "    sample_from_pop = total_comps.sample(200, with_replacement=False)\n",
    "    medians = bootstrap_median(sample_from_pop, 'Total Compensation', 5000)\n",
    "    left_ends = np.append(left_ends, percentile(2.5, medians))\n",
    "    right_ends = np.append(right_ends, percentile(97.5, medians))\n",
    "    print('Iteration:', i)\n",
    "\n",
    "intervals = Table().with_columns(\n",
    "    'Left', left_ends,\n",
    "    'Right', right_ends\n",
    ")"
   ]
  },
  {
   "cell_type": "code",
   "execution_count": null,
   "metadata": {},
   "outputs": [],
   "source": [
    "intervals.show(3)\n"
   ]
  },
  {
   "cell_type": "code",
   "execution_count": null,
   "metadata": {},
   "outputs": [],
   "source": [
    "(intervals\n",
    " .where('Left', are.below(pop_median))\n",
    " .where('Right', are.above(pop_median))\n",
    " .num_rows)"
   ]
  },
  {
   "cell_type": "code",
   "execution_count": null,
   "metadata": {},
   "outputs": [],
   "source": [
    "#visual represenation \n",
    "replication_number = np.ndarray.astype(np.arange(1, 101), str)\n",
    "\n",
    "intervals2 = Table(replication_number).with_rows(make_array(left_ends, right_ends))\n",
    "\n",
    "plots.figure(figsize=(8,8))\n",
    "n=100\n",
    "for i in np.arange(n):\n",
    "    ends = intervals2.column(i)\n",
    "    plots.plot(ends, make_array(i+1, i+1), color='gold')\n",
    "plots.plot(make_array(pop_median, pop_median), make_array(0, n), color='red', lw=2)\n",
    "plots.xlabel('Median (dollars)')\n",
    "plots.ylabel('Replication')\n",
    "plots.title('Population Median and Intervals of Estimates');"
   ]
  },
  {
   "cell_type": "markdown",
   "metadata": {
    "collapsed": true
   },
   "source": [
    "back to slides"
   ]
  },
  {
   "cell_type": "markdown",
   "metadata": {},
   "source": [
    "## Baby Weights"
   ]
  },
  {
   "cell_type": "code",
   "execution_count": null,
   "metadata": {},
   "outputs": [],
   "source": [
    "# http://inferentialthinking.com/notebooks/baby.csv\n",
    "births = Table.read_table('baby.csv')\n",
    "births.show(3)"
   ]
  },
  {
   "cell_type": "code",
   "execution_count": null,
   "metadata": {},
   "outputs": [],
   "source": [
    "babies = births.select(0, 1)\n",
    "babies.show(3)"
   ]
  },
  {
   "cell_type": "code",
   "execution_count": null,
   "metadata": {},
   "outputs": [],
   "source": [
    "ratios = babies.with_column(\n",
    "    'Ratio BW:GD', babies.column(0) / babies.column(1)\n",
    ")\n",
    "ratios.show(3)"
   ]
  },
  {
   "cell_type": "code",
   "execution_count": null,
   "metadata": {},
   "outputs": [],
   "source": [
    "ratios.hist(2)"
   ]
  },
  {
   "cell_type": "code",
   "execution_count": null,
   "metadata": {},
   "outputs": [],
   "source": [
    "np.median(ratios.column(2))"
   ]
  },
  {
   "cell_type": "code",
   "execution_count": null,
   "metadata": {},
   "outputs": [],
   "source": [
    "# 5000 bootstrap samples\n",
    "# We've taken the median of each of these samples\n",
    "# Plotted them on the histogram\n",
    "# We've constructed the 95% confidence interval (in yellow)\n",
    "\n",
    "resampled_medians = bootstrap_median(ratios, 2, 5000)\n",
    "\n",
    "interval_95 = make_array(\n",
    "    percentile(2.5, resampled_medians),\n",
    "    percentile(97.5, resampled_medians)\n",
    ")\n",
    "\n",
    "Table().with_column('Resampled median', resampled_medians).hist(0)\n",
    "plots.plot(interval_95, [0, 0], color='gold', lw=8)\n",
    "print('Approximate 95% Bootstrap Confidence Interval for the Population Median')\n",
    "print(np.round(interval_95, 4))"
   ]
  },
  {
   "cell_type": "code",
   "execution_count": null,
   "metadata": {},
   "outputs": [],
   "source": [
    "interval_80 = make_array(\n",
    "    percentile(10, resampled_medians),\n",
    "    percentile(90, resampled_medians)\n",
    ")\n",
    "\n",
    "Table().with_column('Resampled median', resampled_medians).hist(0)\n",
    "plots.plot(interval_80, [0, 0], color='gold', lw=8)\n",
    "print('Approximate 80% Bootstrap Confidence Interval for the Population Median')\n",
    "\n",
    "print(np.round(interval_80, 4))"
   ]
  },
  {
   "cell_type": "markdown",
   "metadata": {
    "collapsed": true
   },
   "source": [
    "<img src=\"notbootstrap.PNG\" width=600> "
   ]
  },
  {
   "cell_type": "code",
   "execution_count": null,
   "metadata": {
    "collapsed": true
   },
   "outputs": [],
   "source": [
    "def bootstrap_mean(sample_from_population, label, repetitions):\n",
    "    resampled_means = []\n",
    "    for i in np.arange(repetitions):\n",
    "        resample = sample_from_population.sample()\n",
    "        mean = np.mean(resample.column(label))\n",
    "        resampled_means.append(mean)\n",
    "    return resampled_means"
   ]
  },
  {
   "cell_type": "code",
   "execution_count": null,
   "metadata": {
    "collapsed": true
   },
   "outputs": [],
   "source": [
    "def bootstrap_ci_mean(sample_from_population, label, repetitions):\n",
    "    resampled_means = bootstrap_mean(sample_from_population, label, repetitions)\n",
    "    \n",
    "    interval_95 = make_array(\n",
    "        percentile(2.5, resampled_means),\n",
    "        percentile(97.5, resampled_means)\n",
    "    )\n",
    "    \n",
    "    Table().with_column('Resampled mean', resampled_means).hist(0)\n",
    "    plots.plot(interval_95, [0, 0], color='gold', lw=8)\n",
    "    print('Approximate 95% Bootstrap Confidence Interval for Population Mean:')\n",
    "    print(np.round(interval_95, 3))"
   ]
  },
  {
   "cell_type": "code",
   "execution_count": null,
   "metadata": {},
   "outputs": [],
   "source": [
    "births.show(3)"
   ]
  },
  {
   "cell_type": "code",
   "execution_count": null,
   "metadata": {},
   "outputs": [],
   "source": [
    "np.median(births.column(\"Maternal Age\"))"
   ]
  },
  {
   "cell_type": "code",
   "execution_count": null,
   "metadata": {},
   "outputs": [],
   "source": [
    "bootstrap_ci_mean(births, 'Maternal Age', 5000)\n",
    "# how do we interpret that? (iclicker question)"
   ]
  },
  {
   "cell_type": "markdown",
   "metadata": {},
   "source": [
    "<img src=\"ci.PNG\" width=600> "
   ]
  },
  {
   "cell_type": "code",
   "execution_count": null,
   "metadata": {
    "scrolled": false
   },
   "outputs": [],
   "source": [
    "births.hist('Maternal Age')"
   ]
  },
  {
   "cell_type": "code",
   "execution_count": null,
   "metadata": {
    "collapsed": true
   },
   "outputs": [],
   "source": []
  }
 ],
 "metadata": {
  "kernelspec": {
   "display_name": "Python 3",
   "language": "python",
   "name": "python3"
  },
  "language_info": {
   "codemirror_mode": {
    "name": "ipython",
    "version": 3
   },
   "file_extension": ".py",
   "mimetype": "text/x-python",
   "name": "python",
   "nbconvert_exporter": "python",
   "pygments_lexer": "ipython3",
   "version": "3.6.3"
  }
 },
 "nbformat": 4,
 "nbformat_minor": 2
}
