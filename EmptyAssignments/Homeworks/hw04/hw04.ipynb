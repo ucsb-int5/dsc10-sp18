{
 "cells": [
  {
   "cell_type": "markdown",
   "metadata": {},
   "source": [
    "Homework 4 - Tables, Functions, Apply, Group, Iteration\n",
    "=================\n",
    "Due Sunday, April 29, at 11:59pm\n",
    "=================\n",
    "Directly sharing answers is not okay, but discussing problems with the course staff or with other students is encouraged. \n",
    "\n",
    "You should start early so that you have time to get help if you're stuck. A calendar with lab hour times and locations is on the class website."
   ]
  },
  {
   "cell_type": "code",
   "execution_count": null,
   "metadata": {
    "collapsed": true
   },
   "outputs": [],
   "source": [
    "# Run this cell, but please don't change it.\n",
    "\n",
    "import numpy as np\n",
    "import math\n",
    "from datascience import *\n",
    "\n",
    "# These lines set up the plotting functionality and formatting.\n",
    "import matplotlib\n",
    "matplotlib.use('Agg', warn=False)\n",
    "%matplotlib inline\n",
    "import matplotlib.pyplot as plots\n",
    "plots.style.use('fivethirtyeight')\n",
    "\n",
    "# These lines load the tests.\n",
    "from client.api.assignment import load_assignment \n",
    "from client.api.notebook import Notebook\n",
    "ok = Notebook('hw04.ok')"
   ]
  },
  {
   "cell_type": "markdown",
   "metadata": {},
   "source": [
    "**Important**: The `ok` tests don't always tell you that your answer is correct. More often, they help catch careless mistakes. It's up to you to ensure that your answer is correct. If you're not sure, ask someone (not for the answer, but for some guidance about your approach)."
   ]
  },
  {
   "cell_type": "markdown",
   "metadata": {},
   "source": [
    "California Income\n",
    "======="
   ]
  },
  {
   "cell_type": "markdown",
   "metadata": {},
   "source": [
    "We will be exploring possible connections between income and the presence of farmers throughout California. <br><br>\n",
    "The dataset on income comes from the IRS [(documentation)](http://www.irs.gov/pub/irs-soi/13zpdoc.doc). We have identified some interesting columns in the dataset, but a full description of all the columns (and a definition of the population in the dataset and some interesting anonymization procedures they used) is available in this [description](irs_info.pdf). <br>\n",
    "\n",
    "\n",
    "Let’s start by looking at the `income_raw` table."
   ]
  },
  {
   "cell_type": "code",
   "execution_count": null,
   "metadata": {
    "collapsed": true
   },
   "outputs": [],
   "source": [
    "income_raw = Table.read_table('ca_income_by_zip.csv', dtype={'ZIP': str}).drop(['STATEFIPS', 'STATE', 'agi_stub'])\n",
    "income_raw"
   ]
  },
  {
   "cell_type": "markdown",
   "metadata": {},
   "source": [
    "Some observations:\n",
    "\n",
    "1. The table contains several numerical columns and a column for the ZIP code.\n",
    "2. For each ZIP code, there are 6 rows.  Each row for a ZIP code has data from tax returns in one *income bracket* -- a group of people who make between some income and some other income.  \n",
    "3. According to the IRS documentation, all the numerical columns are *totals* -- either total numbers of returns that fall into various categories, or total amounts of money (in thousands of dollars) from returns in those categories.  For example, the column `'N02650'` is the number of returns, and `'A02650'` is the total amount of total income (in thousands of dollars) from those returns.\n",
    "\n",
    "**Question 1.0.** Since we don't care about income brackets, but we do care about totals per ZIP code, let's group together our income data by ZIP code. Assign the name `income_by_zipcode` to a table with just one row per ZIP code. When you group according to ZIP code, the remaining columns should be summed. In other words, for any other column such as `'N02650'`, the value of `'N02650'` in a row corresponding to ZIP code 90210 (for example) should be the sum of the values of `'N02650'` in the 6 rows of `income_raw` corresponding to ZIP code 90210."
   ]
  },
  {
   "cell_type": "code",
   "execution_count": null,
   "metadata": {
    "collapsed": true
   },
   "outputs": [],
   "source": [
    "income_by_zipcode = ...\n",
    "income_by_zipcode"
   ]
  },
  {
   "cell_type": "code",
   "execution_count": null,
   "metadata": {
    "collapsed": true
   },
   "outputs": [],
   "source": [
    "_ = ok.grade('q10')"
   ]
  },
  {
   "cell_type": "markdown",
   "metadata": {},
   "source": [
    "**Question 1.1.** Relabel the columns in `income_by_zipcode` to match the labels in `income_raw`; you probably modified all the names slightly in the previous question. \n",
    "\n",
    "*Hint:* Inspect `income_raw.labels` and `income_by_zipcode.labels` to find the differences you need to change.\n",
    "\n",
    "*Hint 2:* Since there are many columns, it will be easier to relabel each of them by using a `for` statement. See [here](https://www.inferentialthinking.com/chapters/08/2/iteration.html)  in the textbook for details.\n",
    "\n",
    "*Hint 3:* You can use the `replace` method of a string to remove excess content. See [lab02](https://jupyterhub.ucsd.edu/user-redirect/interact?account=ucsd-ets&repo=dsc10-fa17&branch=master&path=labs/lab02/lab02.ipynb) for examples.\n",
    "\n",
    "*Hint 4:* To create a new table from an existing table with one label replaced, use `relabeled`. To **change** a label in an existing table permanently, use `relabel`. Both methods take two arguments: the old label and the new label. You can solve this problem with either one, but `relabel` is simpler."
   ]
  },
  {
   "cell_type": "code",
   "execution_count": null,
   "metadata": {
    "collapsed": true
   },
   "outputs": [],
   "source": [
    "...\n",
    "...\n",
    "income_by_zipcode"
   ]
  },
  {
   "cell_type": "code",
   "execution_count": null,
   "metadata": {
    "collapsed": true
   },
   "outputs": [],
   "source": [
    "_ = ok.grade('q11')"
   ]
  },
  {
   "cell_type": "markdown",
   "metadata": {},
   "source": [
    "**Question 1.2.**\n",
    "Create a table called `income` with  one row per ZIP code and the following columns.\n",
    "\n",
    "1. A `ZIP` column with the same contents as `'ZIP'` from `income_by_zipcode`.\n",
    "2. A `returns` column containing the total number of tax returns (column `'N02650'` from `income_by_zipcode`).\n",
    "3. A `total` column containing the total income in all tax returns in thousands of dollars (column `'A02650'` from `income_by_zipcode`).\n",
    "4. A `farmers` column containing the number of farmer returns (column `'SCHF'` from `income_by_zipcode`)."
   ]
  },
  {
   "cell_type": "code",
   "execution_count": null,
   "metadata": {
    "collapsed": true
   },
   "outputs": [],
   "source": [
    "income = Table().with_columns([\n",
    "        ...\n",
    "        ...\n",
    "        ...\n",
    "        ...\n",
    "        ])\n",
    "income.set_format('total', NumberFormatter(0)).show(5)"
   ]
  },
  {
   "cell_type": "code",
   "execution_count": null,
   "metadata": {
    "collapsed": true,
    "scrolled": false
   },
   "outputs": [],
   "source": [
    "_ = ok.grade('q12')"
   ]
  },
  {
   "cell_type": "markdown",
   "metadata": {},
   "source": [
    "This table can be a little confusing so let’s break down what each column represents. The first column, “ZIP,” is the zip code. Zip codes are important to us because they represent a geographic area. So the zip code '92122' represents an area of land in San Diego. \"Returns\" is the number of tax returns received by the IRS from that zip code. A tax return approximately represents one family’s income. Each tax return includes a reported income. The “total” column is the sum of all the incomes reported for a given zip code (**measured in thousands of dollars**). The “farmers” category represents the number of tax returns where the person filing the tax return reported that their primary occupation is farming."
   ]
  },
  {
   "cell_type": "markdown",
   "metadata": {},
   "source": [
    "**Question 1.3.** What is the average total income reported on all California tax returns? Express the answer in *dollars* as an `integer` rounded to the nearest dollar. Round to the nearest integer using the `round()` function.\n",
    "\n",
    "*Hint*: The ‘total’ column is measured in thousands of dollars.\n"
   ]
  },
  {
   "cell_type": "code",
   "execution_count": null,
   "metadata": {
    "collapsed": true
   },
   "outputs": [],
   "source": [
    "avg_total_income = ...\n",
    "avg_total_income"
   ]
  },
  {
   "cell_type": "code",
   "execution_count": null,
   "metadata": {
    "collapsed": true
   },
   "outputs": [],
   "source": [
    "_ = ok.grade('q13')"
   ]
  },
  {
   "cell_type": "markdown",
   "metadata": {},
   "source": [
    "**Question 1.4.** All ZIP codes with less than 100 returns (or some other special conditions) are grouped together into one ZIP code with a special code. Remove the row for that ZIP code from the `income` table. This ZIP code value has far more returns than any of the other ZIP codes.\n",
    "\n",
    "*Hint:* To **remove** a row in the `income` table using `where`, assign `income` to the smaller table using the following expression structure:\n",
    "\n",
    "    income = income.where(...)\n",
    "    \n",
    "*Hint 2:* Each ZIP code is represented as a `string`, not an `int`."
   ]
  },
  {
   "cell_type": "code",
   "execution_count": null,
   "metadata": {
    "collapsed": true
   },
   "outputs": [],
   "source": [
    "special_zip = ...\n",
    "special_zip"
   ]
  },
  {
   "cell_type": "code",
   "execution_count": null,
   "metadata": {
    "collapsed": true
   },
   "outputs": [],
   "source": [
    "income = ...\n",
    "income"
   ]
  },
  {
   "cell_type": "code",
   "execution_count": null,
   "metadata": {
    "collapsed": true
   },
   "outputs": [],
   "source": [
    "_ = ok.grade('q14')"
   ]
  },
  {
   "cell_type": "markdown",
   "metadata": {},
   "source": [
    "Among the tax returns in California for ZIP codes represented in the `income` table, is there an association between income and living in a ZIP code with a higher-than-average proportion of farmers? Let's explore this question by doing some calculations."
   ]
  },
  {
   "cell_type": "markdown",
   "metadata": {},
   "source": [
    "**Question 1.5**. First, define a function called `proportion` that takes as inputs the total number of tax returns in a zip code and the total number of farmer returns in that zip code, and returns the proportion of tax returns filed by farmers in that zip code. The function should always output a number between 0 (no farmers) and 1 (entirely farmers)."
   ]
  },
  {
   "cell_type": "code",
   "execution_count": null,
   "metadata": {
    "collapsed": true
   },
   "outputs": [],
   "source": [
    "#define your function proportion here\n",
    "..."
   ]
  },
  {
   "cell_type": "markdown",
   "metadata": {},
   "source": [
    "Then, use the `apply` command to add a column to `income` called “farm proportion” that contains the proportion of farmers in each zipcode.\n"
   ]
  },
  {
   "cell_type": "code",
   "execution_count": null,
   "metadata": {
    "collapsed": true
   },
   "outputs": [],
   "source": [
    "income = ...\n",
    "income"
   ]
  },
  {
   "cell_type": "markdown",
   "metadata": {},
   "source": [
    "Calculate the average value of “farm proportion” among all zip codes, and call the result `avg_prop`."
   ]
  },
  {
   "cell_type": "code",
   "execution_count": null,
   "metadata": {
    "collapsed": true
   },
   "outputs": [],
   "source": [
    "avg_prop = ...\n",
    "avg_prop"
   ]
  },
  {
   "cell_type": "code",
   "execution_count": null,
   "metadata": {
    "collapsed": true
   },
   "outputs": [],
   "source": [
    "_ = ok.grade('q15')"
   ]
  },
  {
   "cell_type": "markdown",
   "metadata": {},
   "source": [
    "**Question 1.6** \n",
    "Create a table called `high_farmers` with the same columns as income that only contains information for zip codes with an above average proportion of farmers. Similarly, create a table called `low_farmers` with the same columns as `income` that only contains information for zip codes with an at or below average proportion of farmers.\n",
    "\n"
   ]
  },
  {
   "cell_type": "code",
   "execution_count": null,
   "metadata": {
    "collapsed": true
   },
   "outputs": [],
   "source": [
    "high_farmers = ...\n",
    "high_farmers"
   ]
  },
  {
   "cell_type": "code",
   "execution_count": null,
   "metadata": {
    "collapsed": true
   },
   "outputs": [],
   "source": [
    "low_farmers = ...\n",
    "low_farmers"
   ]
  },
  {
   "cell_type": "code",
   "execution_count": null,
   "metadata": {
    "collapsed": true
   },
   "outputs": [],
   "source": [
    "_ = ok.grade('q16')"
   ]
  },
  {
   "cell_type": "markdown",
   "metadata": {},
   "source": [
    "**Question 1.7** Calculate the average total income among all tax returns in zip codes with an above average proportion of farmers, and call the result `high_farmers_avg_income`. Similarly, calculate the average total income among all tax returns in zip codes with an at or below average proportion of farmers, and call the result `low_farmers_avg_income`. Give your answers in dollars, and round to the nearest dollar. Round to the nearest integer using the `round()` function.\n",
    "\n",
    "Remember: The “total” column is measured in thousands of dollars.\n",
    "\n"
   ]
  },
  {
   "cell_type": "code",
   "execution_count": null,
   "metadata": {
    "collapsed": true
   },
   "outputs": [],
   "source": [
    "high_farmers_avg_income = ...\n",
    "high_farmers_avg_income"
   ]
  },
  {
   "cell_type": "code",
   "execution_count": null,
   "metadata": {
    "collapsed": true
   },
   "outputs": [],
   "source": [
    "low_farmers_avg_income = ...\n",
    "low_farmers_avg_income"
   ]
  },
  {
   "cell_type": "code",
   "execution_count": null,
   "metadata": {
    "collapsed": true
   },
   "outputs": [],
   "source": [
    "_ = ok.grade('q17')"
   ]
  },
  {
   "cell_type": "markdown",
   "metadata": {
    "collapsed": true
   },
   "source": [
    "**Question 1.8** Is the average of `high_farmers_avg_income` and `low_farmers_avg_income` the same as the average you calculated in question 1.3? Set the variable `same` to either True or False. Then explain the reason behind this result."
   ]
  },
  {
   "cell_type": "code",
   "execution_count": null,
   "metadata": {
    "collapsed": true
   },
   "outputs": [],
   "source": [
    "same = ...\n",
    "same"
   ]
  },
  {
   "cell_type": "markdown",
   "metadata": {},
   "source": [
    "<hr style=\"color:Maroon;background-color:Maroon;border:0 none; height: 3px;\">\n",
    "\n",
    "*Write your answer here, replacing this text.*\n",
    "\n",
    "<hr style=\"color:Maroon;background-color:Maroon;border:0 none; height: 3px;\">"
   ]
  },
  {
   "cell_type": "code",
   "execution_count": null,
   "metadata": {
    "collapsed": true
   },
   "outputs": [],
   "source": [
    "_ = ok.grade('q18')"
   ]
  },
  {
   "cell_type": "markdown",
   "metadata": {},
   "source": [
    "**Question 1.9** Evaluate the following cell."
   ]
  },
  {
   "cell_type": "code",
   "execution_count": null,
   "metadata": {
    "collapsed": true
   },
   "outputs": [],
   "source": [
    "high_farmers_avg_income > low_farmers_avg_income"
   ]
  },
  {
   "cell_type": "markdown",
   "metadata": {
    "collapsed": true
   },
   "source": [
    "Which of the following is the most likely reason for this result? Set the variable `reason` to either 1, 2, 3, or 4.\n",
    "1. Zip codes with an above average proportion of farmers are more rural and therefore have fewer total residents making an income.\n",
    "2. Zip codes with an above average proportion of farmers have fewer cities, which is where most people who make a lot of money live.\n",
    "3. Zip codes with an above average proportion of farmers have more land and therefore more residents who live there, since each zip code covers a greater area.\n",
    "4. Zip codes with an above average proportion of farmers have fewer high-earning residents because richer people prefer to live in climates that are not suitable for farming."
   ]
  },
  {
   "cell_type": "code",
   "execution_count": null,
   "metadata": {
    "collapsed": true
   },
   "outputs": [],
   "source": [
    "reason = ..."
   ]
  },
  {
   "cell_type": "code",
   "execution_count": null,
   "metadata": {
    "collapsed": true
   },
   "outputs": [],
   "source": [
    "_ = ok.grade('q19')"
   ]
  }
 ],
 "metadata": {
  "kernelspec": {
   "display_name": "Python 3",
   "language": "python",
   "name": "python3"
  },
  "language_info": {
   "codemirror_mode": {
    "name": "ipython",
    "version": 3
   },
   "file_extension": ".py",
   "mimetype": "text/x-python",
   "name": "python",
   "nbconvert_exporter": "python",
   "pygments_lexer": "ipython3",
   "version": "3.6.2"
  }
 },
 "nbformat": 4,
 "nbformat_minor": 1
}
