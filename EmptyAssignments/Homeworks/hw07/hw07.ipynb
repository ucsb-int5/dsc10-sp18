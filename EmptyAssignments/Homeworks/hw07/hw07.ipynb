{
 "cells": [
  {
   "cell_type": "markdown",
   "metadata": {},
   "source": [
    "# Homework 7: While Loops, Sampling and Probability\n",
    "## Due Sunday May 20, at 11:59pm\n",
    "\n",
    "Reading: \n",
    "* [Chapter 8](https://ucsd-dsc10.gitbooks.io/textbook/content/chapters/08/randomness.html): Randomness\n",
    "* [Chpater 9](https://ucsd-dsc10.gitbooks.io/textbook/content/chapters/09/empirical-distributions.html): Emperical Distributions\n",
    "* [Chapter 9.3](https://ucsd-dsc10.gitbooks.io/textbook/content/chapters/09/3/empirical-distribution-of-a-statistic.html): Estimation\n",
    "* [Section 1](#1.--While-Loops-and-Sampling): While Loops\n",
    "\n",
    "Directly sharing answers is not okay, but discussing problems with the course staff or with other students is encouraged. \n",
    "\n",
    "You should start early so that you have time to get help if you're stuck."
   ]
  },
  {
   "cell_type": "code",
   "execution_count": null,
   "metadata": {
    "collapsed": true
   },
   "outputs": [],
   "source": [
    "# Don't change this cell; just run it. \n",
    "\n",
    "import numpy as np\n",
    "from datascience import *\n",
    "\n",
    "%matplotlib inline\n",
    "import matplotlib.pyplot as plots\n",
    "plots.style.use('fivethirtyeight')\n",
    "\n",
    "from client.api.notebook import Notebook\n",
    "ok = Notebook('hw07.ok')"
   ]
  },
  {
   "cell_type": "markdown",
   "metadata": {},
   "source": [
    "**Important**: The `ok` tests don't usually tell you that your answer is correct. More often, they help catch careless mistakes. It's up to you to ensure that your answer is correct. If you're not sure, ask someone (not for the answer, but for some guidance about your approach)."
   ]
  },
  {
   "cell_type": "markdown",
   "metadata": {},
   "source": [
    "# 0. Probability"
   ]
  },
  {
   "cell_type": "markdown",
   "metadata": {},
   "source": [
    "Suppose you are playing a *friendly* game of Mario Kart with three of your younger cousins (four players total). Mario Kart is a racing game in which the winner is the person who finishes the race before everyone else. We assume there are no ties.\n",
    "\n",
    "Note: Give an exact answer using probability, not an estimate from simulation."
   ]
  },
  {
   "cell_type": "markdown",
   "metadata": {},
   "source": [
    "**Question 0.1** Assuming that all players are equally skilled, what is the probability that you win? Assign your answer to a variable called `prob_win`."
   ]
  },
  {
   "cell_type": "code",
   "execution_count": null,
   "metadata": {
    "collapsed": true
   },
   "outputs": [],
   "source": [
    "prob_win = ..."
   ]
  },
  {
   "cell_type": "code",
   "execution_count": null,
   "metadata": {
    "collapsed": true
   },
   "outputs": [],
   "source": [
    "_ = ok.grade('q0_1')"
   ]
  },
  {
   "cell_type": "markdown",
   "metadata": {},
   "source": [
    "**Question 0.2** What is the probability that you and your favorite cousin finish first and second? Here, whoever finishes first or second does not matter as long as it is either you or your favorite cousin. Assign your answer to a variable called `first_and_second`."
   ]
  },
  {
   "cell_type": "code",
   "execution_count": null,
   "metadata": {
    "collapsed": true
   },
   "outputs": [],
   "source": [
    "first_and_second = ..."
   ]
  },
  {
   "cell_type": "code",
   "execution_count": null,
   "metadata": {
    "collapsed": true
   },
   "outputs": [],
   "source": [
    "_ = ok.grade('q0_2')"
   ]
  },
  {
   "cell_type": "markdown",
   "metadata": {},
   "source": [
    "Now let's make this more realistic. Since your cousins are much younger and not nearly as skilled as you, say that the probability that you win a game is 0.94 and the chance that each of your younger cousins wins is 0.02."
   ]
  },
  {
   "cell_type": "markdown",
   "metadata": {},
   "source": [
    "**Question 0.3** How many games do you have to play before the probability of you winning all of them is below 75%?  Assign your answer to a variable called `win_all`. Note that your answer should be a whole number."
   ]
  },
  {
   "cell_type": "code",
   "execution_count": null,
   "metadata": {
    "collapsed": true
   },
   "outputs": [],
   "source": [
    "win_all = ..."
   ]
  },
  {
   "cell_type": "code",
   "execution_count": null,
   "metadata": {
    "collapsed": true
   },
   "outputs": [],
   "source": [
    "_ = ok.grade('q0_3')"
   ]
  },
  {
   "cell_type": "markdown",
   "metadata": {},
   "source": [
    "**Question 0.4 ** If one of your younger cousins miraculously wins the first three games, what is the probability that this same cousin will win the 4th game? Assign your answer to a variable called `prob_cousin_wins`."
   ]
  },
  {
   "cell_type": "code",
   "execution_count": null,
   "metadata": {
    "collapsed": true
   },
   "outputs": [],
   "source": [
    "prob_cousin_wins = ..."
   ]
  },
  {
   "cell_type": "code",
   "execution_count": null,
   "metadata": {
    "collapsed": true
   },
   "outputs": [],
   "source": [
    "_ = ok.grade('q0_4')"
   ]
  },
  {
   "cell_type": "markdown",
   "metadata": {},
   "source": [
    "## 1.  While Loops and Sampling"
   ]
  },
  {
   "cell_type": "markdown",
   "metadata": {},
   "source": [
    "In this section, we will introduce while loops. Here are some online resources providing the syntax and semantics of while loops [here](https://www.cs.utah.edu/~germain/PPS/Topics/while_loops.html) and [here](https://www.programiz.com/python-programming/while-loop). While loops are useful when you want to traverse through some data until a condition is met. In this section (and only this section: part 1), you will only be allowed to use while loops when iterating through data. **No for loops allowed in this section**."
   ]
  },
  {
   "cell_type": "markdown",
   "metadata": {},
   "source": [
    "Run this cell to display a probability distribution. In this distribution, there is a variable that takes on values from 1 to 6, with associated probabilites shown in the table. You can ignore the code used to generate this table."
   ]
  },
  {
   "cell_type": "code",
   "execution_count": null,
   "metadata": {
    "collapsed": true
   },
   "outputs": [],
   "source": [
    "values = make_array(1,2,3,4,5,6)\n",
    "prob_of_value = make_array(0.1,0.2,0.3,0.4,0.5,0.00001)\n",
    "normalizer = 1.0/sum(prob_of_value)\n",
    "prob_of_value = normalizer * prob_of_value # ensure probabilities sum to 1\n",
    "distribution_table = Table().with_columns('value', values,'probability of value', prob_of_value)\n",
    "distribution_table"
   ]
  },
  {
   "cell_type": "markdown",
   "metadata": {},
   "source": [
    "**Question 1.1** Generate a random sample of size 1000 from this probability distribution. That is, create an array of length 1000, where each entry is a random number from 1 through 6, chosen according to the probability distribution shown in the table above. For example, the chance that each entry is a 5 is pretty high (about 1 in 3), but the chance that each entry is a 6 is very small. Assign this array to a variable called `sample_1000`.\n",
    "\n",
    "*Hint: use the parameters available in [np.random.choice](https://docs.scipy.org/doc/numpy-1.13.0/reference/generated/numpy.random.choice.html).*"
   ]
  },
  {
   "cell_type": "code",
   "execution_count": null,
   "metadata": {
    "collapsed": true
   },
   "outputs": [],
   "source": [
    "# generate your random sample here\n",
    "sample_1000 = ..."
   ]
  },
  {
   "cell_type": "code",
   "execution_count": null,
   "metadata": {
    "collapsed": true
   },
   "outputs": [],
   "source": [
    "_ = ok.grade('q1_1')"
   ]
  },
  {
   "cell_type": "markdown",
   "metadata": {},
   "source": [
    "Now to become familiar with while loops, we will create a few functions that will help us better understand our sample."
   ]
  },
  {
   "cell_type": "markdown",
   "metadata": {},
   "source": [
    "** Question 1.2** The probability of 6 being selected is very small. Let's write a function that can check whether a certain element (such as 6) is included in the sample. Your function should take in a `sample` in the form of an array and an element `x`, and return `True` or `False`. It **must** use a while loop. Then use your function to determine if 6 was in the sample of size 1000. Assign this result to a variable called `is_six_in1`.\n",
    "\n",
    "*Hint: Go through each entry in the array until you find a 6.*"
   ]
  },
  {
   "cell_type": "code",
   "execution_count": null,
   "metadata": {
    "collapsed": true
   },
   "outputs": [],
   "source": [
    "def inSampleV1(sample, x):\n",
    "    ...\n",
    "\n",
    "is_six_in1 = ...\n",
    "is_six_in1"
   ]
  },
  {
   "cell_type": "code",
   "execution_count": null,
   "metadata": {
    "collapsed": true
   },
   "outputs": [],
   "source": [
    "_ = ok.grade('q1_2')"
   ]
  },
  {
   "cell_type": "markdown",
   "metadata": {},
   "source": [
    "** Question 1.3** Now write a function to do the same thing, but this time use only **one line** of Python code in the body of the function. Then use your function to determine if 6 was in the sample of size 1000. Assign this result to a variable called `is_six_in2`.\n",
    "\n",
    "*Hint: Python has an [`in` keyword](https://www.programiz.com/python-programming/keyword-list#in) for testing membership.*"
   ]
  },
  {
   "cell_type": "code",
   "execution_count": null,
   "metadata": {
    "collapsed": true
   },
   "outputs": [],
   "source": [
    "def inSampleV2(sample, x):\n",
    "    return ...\n",
    "\n",
    "is_six_in2 = ...\n",
    "is_six_in2"
   ]
  },
  {
   "cell_type": "code",
   "execution_count": null,
   "metadata": {
    "collapsed": true
   },
   "outputs": [],
   "source": [
    "_ = ok.grade('q1_3')"
   ]
  },
  {
   "cell_type": "markdown",
   "metadata": {},
   "source": [
    "**Question 1.4** Odds are, your sample of size 1000 did not contain the value 6. Continue generating larger and larger samples until you have one with exactly one 6 in it. Your solution **must** use a while loop. Assign the resulting sample size to a variable called `final_sample_size`.\n",
    "\n",
    "*Hint 1: We have written a function that checks if 6 is in an array; can we use it?*\n",
    "\n",
    "*Hint 2: You don't need to try every possible sample size (1000, 1001, 1002, ...) inside your while loop. Doing so will take too long! Instead, increase your sample size by a factor of ten each time. So you’ll start out with samples of size 1000, 10000, 100000, …\n",
    "*"
   ]
  },
  {
   "cell_type": "code",
   "execution_count": null,
   "metadata": {
    "collapsed": true
   },
   "outputs": [],
   "source": [
    "final_sample_size = ..."
   ]
  },
  {
   "cell_type": "code",
   "execution_count": null,
   "metadata": {
    "collapsed": true
   },
   "outputs": [],
   "source": [
    "_ = ok.grade('q1_4')"
   ]
  },
  {
   "cell_type": "markdown",
   "metadata": {},
   "source": [
    "# 2. Beer Reviews"
   ]
  },
  {
   "cell_type": "markdown",
   "metadata": {},
   "source": [
    "Suppose we have collected data from 50,000 people around the world regarding their opinions of various beers. The data we have for each review is the type of beer reviewed, and a taste rating, on a scale of 1 to 5, in increments of 0.5\n",
    "\n",
    "Run the cell below to display the data."
   ]
  },
  {
   "cell_type": "code",
   "execution_count": null,
   "metadata": {
    "collapsed": true
   },
   "outputs": [],
   "source": [
    "beer_review_table = Table().read_table('beer_data.csv')\n",
    "beer_review_table"
   ]
  },
  {
   "cell_type": "markdown",
   "metadata": {},
   "source": [
    "Run the cell below to create a histogram of these taste reviews, disregarding the type of each beer. We will consider this our *population* of reviews, and we will consider sampling from this population."
   ]
  },
  {
   "cell_type": "code",
   "execution_count": null,
   "metadata": {
    "collapsed": true
   },
   "outputs": [],
   "source": [
    "beer_review_table.hist('Taste Review', bins=np.arange(1, 6, 0.5))"
   ]
  },
  {
   "cell_type": "markdown",
   "metadata": {},
   "source": [
    "**Question 2.1** Suppose we are at a German bar and we can only obtain reviews for some popular German beers available at this bar. Extract this convenience sample from the entire population and plot a histogram showing the distribution of taste reviews for these German beers. Use the **in** keyword to check inclusion in the given list of popular German beers. Assign the table that produces this histogram to a variable called `available_beer_table`.\n",
    "\n",
    "*Hint: Starting by defining a function to determine whether a given type of beer is available at this German bar. Then add a column to `beer_review_table` that says whether each review is part of our convenience sample.*"
   ]
  },
  {
   "cell_type": "code",
   "execution_count": null,
   "metadata": {
    "collapsed": true
   },
   "outputs": [],
   "source": [
    "# some popular German beers available\n",
    "available_beers = ['Hefeweizen', 'Bock', 'Dopplebock', 'Eisbock', 'Berliner Weissbier', 'Dunkelweizen']\n",
    "\n",
    "def is_available(x):\n",
    "    ...\n",
    "\n",
    "available_beer_table = ..."
   ]
  },
  {
   "cell_type": "code",
   "execution_count": null,
   "metadata": {
    "collapsed": true
   },
   "outputs": [],
   "source": [
    "_ = ok.grade('q2_1')"
   ]
  },
  {
   "cell_type": "markdown",
   "metadata": {},
   "source": [
    "**Question 2.2** Now generate a random sample *without replacement* from the original data set that has the same number of data points as your convenience sample. Plot a histogram of the taste reviews from this random sample. Assign the table that produces this histogram to a variable called `random_beer_table`."
   ]
  },
  {
   "cell_type": "code",
   "execution_count": null,
   "metadata": {
    "collapsed": true
   },
   "outputs": [],
   "source": [
    "random_beer_table = ..."
   ]
  },
  {
   "cell_type": "code",
   "execution_count": null,
   "metadata": {
    "collapsed": true
   },
   "outputs": [],
   "source": [
    "_ = ok.grade('q2_2')"
   ]
  },
  {
   "cell_type": "markdown",
   "metadata": {},
   "source": [
    "**Question 2.3** In what ways does the random sample reflect the population better than the convenience sample? What could explain this?"
   ]
  },
  {
   "cell_type": "markdown",
   "metadata": {},
   "source": [
    "<hr style=\"color:Maroon;background-color:Maroon;border:0 none; height: 3px;\">\n",
    "*Replace this text with your answer.*\n",
    "<hr style=\"color:Maroon;background-color:Maroon;border:0 none; height: 3px;\">"
   ]
  },
  {
   "cell_type": "markdown",
   "metadata": {},
   "source": [
    "## 3. Catching Cheaters in the Casino"
   ]
  },
  {
   "cell_type": "markdown",
   "metadata": {},
   "source": [
    "Suppose you are a casino owner, and your casino runs a very simple game of chance.  The dealer flips a coin.  The customer wins \\$9 from the casino if it comes up heads and loses \\$10 if it comes up tails."
   ]
  },
  {
   "cell_type": "markdown",
   "metadata": {},
   "source": [
    "**Question 3.1** Assuming no one is cheating and the coin is fair, if a customer plays twice, what is the chance they make money? Making money means that their total winnings exceed their total expenses."
   ]
  },
  {
   "cell_type": "code",
   "execution_count": null,
   "metadata": {
    "collapsed": true
   },
   "outputs": [],
   "source": [
    "p_winning_after_two_flips = ..."
   ]
  },
  {
   "cell_type": "code",
   "execution_count": null,
   "metadata": {
    "collapsed": true
   },
   "outputs": [],
   "source": [
    "_ = ok.grade('q3_1')"
   ]
  },
  {
   "cell_type": "markdown",
   "metadata": {},
   "source": [
    "A certain customer plays the game 20 times and wins 13 of the bets.  You suspect that the customer is cheating!  That is, you think that their chance of winning is higher than the normal chance of winning.\n",
    "\n",
    "You decide to test your hunch using the outcomes of the 20 games you observed."
   ]
  },
  {
   "cell_type": "markdown",
   "metadata": {},
   "source": [
    "**Question 3.2** Given the outcome of 20 games, list the pros and cons of using each of the following statistics as a measure of cheating. Which measure, or measures,  are most informative?\n",
    "\n",
    "(a) Whether there is at least one win.  \n",
    "(b) The number of wins.  \n",
    "(c) The total variation distance between the probability distribution of a fair coin and the observed distribution of heads and tails."
   ]
  },
  {
   "cell_type": "markdown",
   "metadata": {
    "collapsed": true
   },
   "source": [
    "<hr style=\"color:Maroon;background-color:Maroon;border:0 none; height: 3px;\">\n",
    "*Replace this text with your answer.*\n",
    "<hr style=\"color:Maroon;background-color:Maroon;border:0 none; height: 3px;\">"
   ]
  },
  {
   "cell_type": "markdown",
   "metadata": {},
   "source": [
    "**Question 3.3** For this customer who plays 20 games and wins 13 times, compute the total variation distance as described in the third statistic and assign the result to the variable `TVD`."
   ]
  },
  {
   "cell_type": "code",
   "execution_count": null,
   "metadata": {
    "collapsed": true
   },
   "outputs": [],
   "source": [
    "TVD = ..."
   ]
  },
  {
   "cell_type": "code",
   "execution_count": null,
   "metadata": {
    "collapsed": true
   },
   "outputs": [],
   "source": [
    "_ = ok.grade('q3_3')"
   ]
  },
  {
   "cell_type": "markdown",
   "metadata": {},
   "source": [
    "**Question 3.4** Write a function called `simulate` to simulate the process of flipping 20 coins.  It should take no arguments.  It should return the number of wins in 20 games simulated under the assumption that the result of each game is sampled from a fair coin."
   ]
  },
  {
   "cell_type": "code",
   "execution_count": null,
   "metadata": {
    "collapsed": true
   },
   "outputs": [],
   "source": [
    "def simulate():\n",
    "    ..."
   ]
  },
  {
   "cell_type": "code",
   "execution_count": null,
   "metadata": {
    "collapsed": true
   },
   "outputs": [],
   "source": [
    "_ = ok.grade('q3_4')"
   ]
  },
  {
   "cell_type": "markdown",
   "metadata": {},
   "source": [
    "**Question 3.5** Using 10,000 trials, generate a histogram of the empirical distribution of the number of wins in 20 games. Use the results of your 10,000 trials to estimate the probability that a player wins 13 times in 20 games, and store the result in a variable `prob_13`."
   ]
  },
  {
   "cell_type": "code",
   "execution_count": null,
   "metadata": {
    "collapsed": true,
    "for_assignment_type": "student",
    "manual_problem_id": "catching_cheaters_5"
   },
   "outputs": [],
   "source": [
    "#draw your histogram here\n",
    "...\n",
    "prob_13 = ..."
   ]
  },
  {
   "cell_type": "code",
   "execution_count": null,
   "metadata": {
    "collapsed": true
   },
   "outputs": [],
   "source": [
    "_ = ok.grade('q3_5')"
   ]
  },
  {
   "cell_type": "markdown",
   "metadata": {},
   "source": [
    "Say we have a high roller, Brian Hang, who wants to win a lot of money. Instead of flipping 1 coin each game, he flips 100 coins during each game. Since he is flipping so many coins, the casino decides to give him a better payout: if a coin lands on heads, Brian recieves \\$9.99, if it lands on tail, Brian loses \\$10.00. Now suppose that Brian, a very *sneaky* high roller, replaces the coins so that all the coins being flipped are biased to have a 50.1% chance of landing on heads. The people in the casino probably will not be able to notice that this coin is biased. To make matters worse, all the casino employees just finished reviewing some beers, so their judgment skills are in peril anyway. "
   ]
  },
  {
   "cell_type": "markdown",
   "metadata": {},
   "source": [
    "** Question 3.6** Brian plays 1000 games, flipping 100 biased coins each time. Create a list named `flips` to collect the results of each game. `flips` should be a list of 1000 arrays, each of length 100. Each element of the list will be an array that is a binary representation of the flips (H=1, T=0). \n",
    "\n",
    "For example, if we only flipped five coins per game, one entry of the list `flips` might be the array (0, 1, 1, 1, 0), meaning that the coins came up T, H, H, H, T in that game.\n",
    "\n",
    "*Hint: look at the documentation on how to [append](https://www.programiz.com/python-programming/methods/list/append) an element to a list*"
   ]
  },
  {
   "cell_type": "code",
   "execution_count": null,
   "metadata": {
    "collapsed": true
   },
   "outputs": [],
   "source": [
    "...\n",
    "flips = ..."
   ]
  },
  {
   "cell_type": "code",
   "execution_count": null,
   "metadata": {
    "collapsed": true
   },
   "outputs": [],
   "source": [
    "_ = ok.grade('q3_6')"
   ]
  },
  {
   "cell_type": "markdown",
   "metadata": {},
   "source": [
    "**Question 3.7** Store the results in a table called `results`, with three columns, \"Game Number\", \"Flips\", and \"Wins\". Each row in the table should have a \"Game Number\" corresponding to which of the 1000 games the row represents (the first game is game 0). The \"Flips\" column should be the same as generated in question 6, and the \"Wins\" column should record the number of heads that came up in each game (0 to 100).\n",
    "\n",
    "*Hint: Create one table with just the first two columns, then use the [apply](https://www.inferentialthinking.com/chapters/07/1/applying-a-function-to-a-column.html) function to obtain the \"Wins\" column.*"
   ]
  },
  {
   "cell_type": "code",
   "execution_count": null,
   "metadata": {
    "collapsed": true
   },
   "outputs": [],
   "source": [
    "# table with just match number and heads array\n",
    "temp_results = ...\n",
    "# maybe some computation here\n",
    "...\n",
    "# the final table\n",
    "results = ...\n",
    "results"
   ]
  },
  {
   "cell_type": "code",
   "execution_count": null,
   "metadata": {
    "collapsed": true
   },
   "outputs": [],
   "source": [
    "_ = ok.grade('q3_7')"
   ]
  },
  {
   "cell_type": "markdown",
   "metadata": {},
   "source": [
    "**Question 3.8** Using the results from the 1000 games you have simulated, determine whether Brian will make money, lose money or break even on these 1000 games played with a biased coin. Recall that as a high roller, Brian will win \\$9.99 for each head and lose \\$10.00 for each tail. Assign the result to a variable called *winnings*, where postivie values denote earning money, and negative values denote losing money."
   ]
  },
  {
   "cell_type": "code",
   "execution_count": null,
   "metadata": {
    "collapsed": true
   },
   "outputs": [],
   "source": [
    "winnings = ...\n",
    "winnings"
   ]
  },
  {
   "cell_type": "code",
   "execution_count": null,
   "metadata": {
    "collapsed": true
   },
   "outputs": [],
   "source": [
    "_ = ok.grade('q3_8')"
   ]
  },
  {
   "cell_type": "markdown",
   "metadata": {},
   "source": [
    "## 4. Estimation"
   ]
  },
  {
   "cell_type": "markdown",
   "metadata": {},
   "source": [
    "*Mark and recapture* is a technique used to estimate the population of species. This technique consists of capturing and marking a sample of the population on one visit, then recapturing a sample of the population on another visit to see how many are marked. The proportion of marked individuals within the second sample should be about the same as the proportion of marked individuals in the whole population. A simple estimator to approximate the population based on this logic is the Petersen-Lincoln estimator. This estimator says that \n",
    "\n",
    "$$\\frac{n}{N}=\\frac{k}{K}$$\n",
    "\n",
    "where\n",
    "  + $n$ is the number of animals marked on the first visit  \n",
    "  + $N$ is the estimated population  \n",
    "  + $k$ is the number of recaputured animals that were marked\n",
    "  + $K$ is the number of animals captured on the second visit  \n",
    "  \n",
    "The Petersen-Lincoln estimator is used to estimate the population $N$ in terms of $n$, $k$, and $K$.\n",
    "\n"
   ]
  },
  {
   "cell_type": "markdown",
   "metadata": {},
   "source": [
    "**Question 4.1** Describe a situation in which the Petersen-Lincoln estimator will fail to give a valid estimate of the population."
   ]
  },
  {
   "cell_type": "markdown",
   "metadata": {},
   "source": [
    "<hr style=\"color:Maroon;background-color:Maroon;border:0 none; height: 3px;\">\n",
    "\n",
    "*Your answer here*\n",
    "\n",
    "<hr style=\"color:Maroon;background-color:Maroon;border:0 none; height: 3px;\">\n"
   ]
  },
  {
   "cell_type": "markdown",
   "metadata": {},
   "source": [
    "**Question 4.2** Write a function that computes the estimated population using the Petersen-Lincoln estimator."
   ]
  },
  {
   "cell_type": "code",
   "execution_count": null,
   "metadata": {
    "collapsed": true
   },
   "outputs": [],
   "source": [
    "def estimate_pop(K, n, k):\n",
    "    ..."
   ]
  },
  {
   "cell_type": "code",
   "execution_count": null,
   "metadata": {
    "collapsed": true
   },
   "outputs": [],
   "source": [
    "_ = ok.grade('q0_2')"
   ]
  },
  {
   "cell_type": "markdown",
   "metadata": {},
   "source": [
    "**Question 4.3** There are an estimated 5,200 black rhinos left in the world. Suppose a researcher marks 348 black rhinos on his first visit and then returns and captures 480 black rhinos.  About how many of these rhinos would the researcher expect to be marked? Round to the nearest integer and assign the result to a variable called `num_rhinos`."
   ]
  },
  {
   "cell_type": "code",
   "execution_count": null,
   "metadata": {
    "collapsed": true
   },
   "outputs": [],
   "source": [
    "num_rhinos = ...\n",
    "num_rhinos"
   ]
  },
  {
   "cell_type": "code",
   "execution_count": null,
   "metadata": {
    "collapsed": true
   },
   "outputs": [],
   "source": [
    "_ = ok.grade('q4_3')"
   ]
  },
  {
   "cell_type": "markdown",
   "metadata": {},
   "source": [
    "**Question 4.4**  Suppose that on a third visit, the researcher captures 89 black rhinos, and finds that 7 of them were marked. Does this finding imply that the black rhino population has increased or decreased since his first visit? Set the variable `increased` to either `True` or `False`."
   ]
  },
  {
   "cell_type": "code",
   "execution_count": null,
   "metadata": {
    "collapsed": true
   },
   "outputs": [],
   "source": [
    "...\n",
    "increased = ..."
   ]
  },
  {
   "cell_type": "code",
   "execution_count": null,
   "metadata": {
    "collapsed": true
   },
   "outputs": [],
   "source": [
    "_ = ok.grade('q4_4')"
   ]
  },
  {
   "cell_type": "markdown",
   "metadata": {},
   "source": [
    "**Question 4.5** Next suppose there is a population of 10,000 bunnies which you are trying to estimate, as you cannot count all the bunnies. Create a list of 10,000 zeros to represent the bunnies. Randomly select $n=500$ of these bunnies and mark them by setting their values in the list to 1. The resulting list should be named `bunnies`."
   ]
  },
  {
   "cell_type": "code",
   "execution_count": null,
   "metadata": {
    "collapsed": true
   },
   "outputs": [],
   "source": [
    "bunnies = ..."
   ]
  },
  {
   "cell_type": "code",
   "execution_count": null,
   "metadata": {
    "collapsed": true
   },
   "outputs": [],
   "source": [
    "_ = ok.grade('q4_5')"
   ]
  },
  {
   "cell_type": "markdown",
   "metadata": {},
   "source": [
    "**Question 4.6** Next, randomly select $K=400$ of the bunnies to be recaptured. Compute the Petersen-Lincoln estimate from this data, and see how close the estimate is to the actual population of 10,000. Run the cell a few times to see how your estimates vary. Assign any one of these estimates to a variable called `estimated_population`."
   ]
  },
  {
   "cell_type": "markdown",
   "metadata": {},
   "source": [
    "estimated_population = ...\n",
    "estimated_population"
   ]
  },
  {
   "cell_type": "code",
   "execution_count": null,
   "metadata": {
    "collapsed": true
   },
   "outputs": [],
   "source": [
    "_ = ok.grade('q4_6')"
   ]
  },
  {
   "cell_type": "markdown",
   "metadata": {},
   "source": [
    "**Question 4.7** Simulate the process of recapturing $K=400$ bunnies 10,000 times, and draw an empirical histogram of the estimated population. Describe how well the Petersen-Lincoln estimator balances bias versus variance, based on your histogram. Would you say it is a good estimator?"
   ]
  },
  {
   "cell_type": "code",
   "execution_count": null,
   "metadata": {
    "collapsed": true
   },
   "outputs": [],
   "source": [
    "# Compute and create your histogram\n",
    "..."
   ]
  },
  {
   "cell_type": "markdown",
   "metadata": {},
   "source": [
    "<hr style=\"color:Maroon;background-color:Maroon;border:0 none; height: 3px;\">\n",
    "\n",
    "*Replace this text with your analysis of the estimator.*\n",
    "\n",
    "<hr style=\"color:Maroon;background-color:Maroon;border:0 none; height: 3px;\">"
   ]
  }
 ],
 "metadata": {
  "kernelspec": {
   "display_name": "Python 3",
   "language": "python",
   "name": "python3"
  },
  "language_info": {
   "codemirror_mode": {
    "name": "ipython",
    "version": 3
   },
   "file_extension": ".py",
   "mimetype": "text/x-python",
   "name": "python",
   "nbconvert_exporter": "python",
   "pygments_lexer": "ipython3",
   "version": "3.6.2"
  }
 },
 "nbformat": 4,
 "nbformat_minor": 1
}
