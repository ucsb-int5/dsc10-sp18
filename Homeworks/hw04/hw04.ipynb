{
 "cells": [
  {
   "cell_type": "markdown",
   "metadata": {},
   "source": [
    "Homework 4 - Tables, Functions, Apply, Group, Iteration\n",
    "=================\n",
    "Due Sunday, April 29, at 11:59pm\n",
    "=================\n",
    "Directly sharing answers is not okay, but discussing problems with the course staff or with other students is encouraged. \n",
    "\n",
    "You should start early so that you have time to get help if you're stuck. A calendar with lab hour times and locations is on the class website."
   ]
  },
  {
   "cell_type": "code",
   "execution_count": 1,
   "metadata": {},
   "outputs": [
    {
     "name": "stdout",
     "output_type": "stream",
     "text": [
      "=====================================================================\n",
      "Assignment: Homework 4\n",
      "OK, version v1.13.11\n",
      "=====================================================================\n",
      "\n"
     ]
    },
    {
     "name": "stderr",
     "output_type": "stream",
     "text": [
      "ERROR  | auth.py:91 | {'error': 'invalid_grant'}\n"
     ]
    },
    {
     "name": "stdout",
     "output_type": "stream",
     "text": [
      "\n",
      "Open the following URL:\n",
      "\n",
      "https://okpy.org/client/login/\n",
      "\n",
      "After logging in, copy the code from the web page and paste it into the box.\n",
      "Then press the \"Enter\" key on your keyboard.\n",
      "\n",
      "Paste your code here: DeMuYk85tZdn3BxSeJFRVN4EGCKedg\n",
      "Successfully logged in as ckduong@ucsd.edu\n"
     ]
    }
   ],
   "source": [
    "# Run this cell, but please don't change it.\n",
    "\n",
    "import numpy as np\n",
    "import math\n",
    "from datascience import *\n",
    "\n",
    "# These lines set up the plotting functionality and formatting.\n",
    "import matplotlib\n",
    "matplotlib.use('Agg', warn=False)\n",
    "%matplotlib inline\n",
    "import matplotlib.pyplot as plots\n",
    "plots.style.use('fivethirtyeight')\n",
    "\n",
    "# These lines load the tests.\n",
    "from client.api.assignment import load_assignment \n",
    "from client.api.notebook import Notebook\n",
    "ok = Notebook('hw04.ok')\n",
    "_ = ok.auth(inline=True)"
   ]
  },
  {
   "cell_type": "markdown",
   "metadata": {},
   "source": [
    "**Important**: The `ok` tests don't always tell you that your answer is correct. More often, they help catch careless mistakes. It's up to you to ensure that your answer is correct. If you're not sure, ask someone (not for the answer, but for some guidance about your approach)."
   ]
  },
  {
   "cell_type": "markdown",
   "metadata": {},
   "source": [
    "Once you're finished, you must do two things:\n",
    "\n",
    "### a. Turn into OK\n",
    "Select \"Save and Checkpoint\" in the File menu and then execute the `submit` cell below. The result will contain a link that you can use to check that your assignment has been submitted successfully. If you submit more than once before the deadline, we will only grade your final submission."
   ]
  },
  {
   "cell_type": "code",
   "execution_count": 3,
   "metadata": {},
   "outputs": [
    {
     "data": {
      "application/javascript": [
       "IPython.notebook.save_checkpoint();"
      ],
      "text/plain": [
       "<IPython.core.display.Javascript object>"
      ]
     },
     "metadata": {},
     "output_type": "display_data"
    },
    {
     "data": {
      "application/javascript": [
       "IPython.notebook.save_notebook();"
      ],
      "text/plain": [
       "<IPython.core.display.Javascript object>"
      ]
     },
     "metadata": {},
     "output_type": "display_data"
    },
    {
     "name": "stdout",
     "output_type": "stream",
     "text": [
      "Saving notebook... \n",
      "Submit... 100% complete\n",
      "Backup... 100% complete\n",
      "Submission successful for user: ckduong@ucsd.edu\n",
      "URL: https://okpy.org/ucsd/dsc10/sp18/hw04/submissions/8qQZZo\n",
      "\n"
     ]
    }
   ],
   "source": [
    "_ = ok.submit()"
   ]
  },
  {
   "cell_type": "markdown",
   "metadata": {},
   "source": [
    "### b. Turn PDF into Gradescope\n",
    "Select File > Download As > PDF via LaTeX in the File menu. Turn in this PDF file into the respective assignement at https://gradescope.com/.\n",
    "<br>\n",
    "If you submit more than once before the deadline, we will only grade your final submission"
   ]
  },
  {
   "cell_type": "markdown",
   "metadata": {},
   "source": [
    "California Income\n",
    "======="
   ]
  },
  {
   "cell_type": "markdown",
   "metadata": {},
   "source": [
    "We will be exploring possible connections between income and the presence of farmers throughout California. <br><br>\n",
    "The dataset on income comes from the IRS [(documentation)](http://www.irs.gov/pub/irs-soi/13zpdoc.doc). We have identified some interesting columns in the dataset, but a full description of all the columns (and a definition of the population in the dataset and some interesting anonymization procedures they used) is available in this [description](irs_info.pdf). <br>\n",
    "\n",
    "\n",
    "Let’s start by looking at the `income_raw` table."
   ]
  },
  {
   "cell_type": "code",
   "execution_count": 2,
   "metadata": {},
   "outputs": [
    {
     "data": {
      "text/html": [
       "<table border=\"1\" class=\"dataframe\">\n",
       "    <thead>\n",
       "        <tr>\n",
       "            <th>ZIP</th> <th>N1</th> <th>MARS1</th> <th>MARS2</th> <th>MARS4</th> <th>PREP</th> <th>N2</th> <th>NUMDEP</th> <th>A00100</th> <th>N02650</th> <th>A02650</th> <th>N00200</th> <th>A00200</th> <th>N00300</th> <th>A00300</th> <th>N00600</th> <th>A00600</th> <th>N00650</th> <th>A00650</th> <th>N00700</th> <th>A00700</th> <th>N00900</th> <th>A00900</th> <th>N01000</th> <th>A01000</th> <th>N01400</th> <th>A01400</th> <th>N01700</th> <th>A01700</th> <th>SCHF</th> <th>N02300</th> <th>A02300</th> <th>N02500</th> <th>A02500</th> <th>N26270</th> <th>A26270</th> <th>N02900</th> <th>A02900</th> <th>N03220</th> <th>A03220</th> <th>N03300</th> <th>A03300</th> <th>N03270</th> <th>A03270</th> <th>N03150</th> <th>A03150</th> <th>N03210</th> <th>A03210</th> <th>N03230</th> <th>A03230</th> <th>N03240</th> <th>A03240</th> <th>N04470</th> <th>A04470</th> <th>A00101</th> <th>N18425</th> <th>A18425</th> <th>N18450</th> <th>A18450</th> <th>N18500</th> <th>A18500</th> <th>N18300</th> <th>A18300</th> <th>N19300</th> <th>A19300</th> <th>N19700</th> <th>A19700</th> <th>N04800</th> <th>A04800</th> <th>N05800</th> <th>A05800</th> <th>N09600</th> <th>A09600</th> <th>N07100</th> <th>A07100</th> <th>N07300</th> <th>A07300</th> <th>N07180</th> <th>A07180</th> <th>N07230</th> <th>A07230</th> <th>N07240</th> <th>A07240</th> <th>N07220</th> <th>A07220</th> <th>N07260</th> <th>A07260</th> <th>N09400</th> <th>A09400</th> <th>N10600</th> <th>A10600</th> <th>N59660</th> <th>A59660</th> <th>N59720</th> <th>A59720</th> <th>N11070</th> <th>A11070</th> <th>N10960</th> <th>A10960</th> <th>N06500</th> <th>A06500</th> <th>N10300</th> <th>A10300</th> <th>N85330</th> <th>A85330</th> <th>N85300</th> <th>A85300</th> <th>N11901</th> <th>A11901</th> <th>N11902</th> <th>A11902</th>\n",
       "        </tr>\n",
       "    </thead>\n",
       "    <tbody>\n",
       "        <tr>\n",
       "            <td>90001</td> <td>13100</td> <td>6900 </td> <td>1890 </td> <td>4270 </td> <td>10740</td> <td>29670</td> <td>15200 </td> <td>181693</td> <td>13100 </td> <td>184344</td> <td>10220 </td> <td>142287</td> <td>640   </td> <td>96    </td> <td>50    </td> <td>69    </td> <td>30    </td> <td>20    </td> <td>180   </td> <td>55    </td> <td>3490  </td> <td>31751 </td> <td>70    </td> <td>-17   </td> <td>60    </td> <td>382   </td> <td>380   </td> <td>3001  </td> <td>0   </td> <td>950   </td> <td>4493  </td> <td>80    </td> <td>123   </td> <td>30    </td> <td>105   </td> <td>3510  </td> <td>2651  </td> <td>20    </td> <td>6     </td> <td>0     </td> <td>0     </td> <td>0     </td> <td>0     </td> <td>0     </td> <td>0     </td> <td>150   </td> <td>119   </td> <td>60    </td> <td>98    </td> <td>0     </td> <td>0     </td> <td>510   </td> <td>7212  </td> <td>8498  </td> <td>170   </td> <td>95    </td> <td>270   </td> <td>154   </td> <td>340   </td> <td>952   </td> <td>500   </td> <td>1424  </td> <td>340   </td> <td>3168  </td> <td>240   </td> <td>363   </td> <td>4200  </td> <td>20798 </td> <td>4190  </td> <td>2176  </td> <td>0     </td> <td>0     </td> <td>1800  </td> <td>623   </td> <td>0     </td> <td>0     </td> <td>70    </td> <td>28    </td> <td>520   </td> <td>248   </td> <td>240   </td> <td>39    </td> <td>1020  </td> <td>304   </td> <td>0     </td> <td>0     </td> <td>3290  </td> <td>4659  </td> <td>12180 </td> <td>37759 </td> <td>6320  </td> <td>20531 </td> <td>5880  </td> <td>16995 </td> <td>6500  </td> <td>8805  </td> <td>1230  </td> <td>980   </td> <td>2680  </td> <td>1554  </td> <td>5800  </td> <td>6197  </td> <td>0     </td> <td>0     </td> <td>0     </td> <td>0     </td> <td>1220  </td> <td>856   </td> <td>11480 </td> <td>32934 </td>\n",
       "        </tr>\n",
       "    </tbody>\n",
       "        <tr>\n",
       "            <td>90001</td> <td>5900 </td> <td>1700 </td> <td>1970 </td> <td>2210 </td> <td>4960 </td> <td>17550</td> <td>9690  </td> <td>203628</td> <td>5900  </td> <td>204512</td> <td>5610  </td> <td>188556</td> <td>830   </td> <td>68    </td> <td>60    </td> <td>32    </td> <td>70    </td> <td>19    </td> <td>660   </td> <td>351   </td> <td>540   </td> <td>5917  </td> <td>60    </td> <td>111   </td> <td>50    </td> <td>489   </td> <td>310   </td> <td>4450  </td> <td>0   </td> <td>460   </td> <td>2522  </td> <td>210   </td> <td>947   </td> <td>40    </td> <td>831   </td> <td>700   </td> <td>885   </td> <td>50    </td> <td>12    </td> <td>0     </td> <td>0     </td> <td>0     </td> <td>0     </td> <td>50    </td> <td>152   </td> <td>200   </td> <td>154   </td> <td>50    </td> <td>81    </td> <td>0     </td> <td>0     </td> <td>1260  </td> <td>20442 </td> <td>46800 </td> <td>800   </td> <td>1023  </td> <td>430   </td> <td>505   </td> <td>810   </td> <td>2383  </td> <td>1250  </td> <td>4605  </td> <td>820   </td> <td>7172  </td> <td>870   </td> <td>1620  </td> <td>5300  </td> <td>74352 </td> <td>5290  </td> <td>8710  </td> <td>0     </td> <td>0     </td> <td>3380  </td> <td>2947  </td> <td>0     </td> <td>0     </td> <td>370   </td> <td>249   </td> <td>620   </td> <td>518   </td> <td>630   </td> <td>114   </td> <td>2520  </td> <td>2047  </td> <td>20    </td> <td>6     </td> <td>410   </td> <td>982   </td> <td>5820  </td> <td>23531 </td> <td>2160  </td> <td>4562  </td> <td>1890  </td> <td>3948  </td> <td>2520  </td> <td>4160  </td> <td>600   </td> <td>441   </td> <td>3180  </td> <td>5762  </td> <td>3460  </td> <td>6754  </td> <td>0     </td> <td>0     </td> <td>0     </td> <td>0     </td> <td>530   </td> <td>797   </td> <td>5360  </td> <td>17656 </td>\n",
       "        </tr>\n",
       "    </tbody>\n",
       "        <tr>\n",
       "            <td>90001</td> <td>1480 </td> <td>330  </td> <td>760  </td> <td>390  </td> <td>1240 </td> <td>4710 </td> <td>2470  </td> <td>89065 </td> <td>1480  </td> <td>89344 </td> <td>1440  </td> <td>82579 </td> <td>400   </td> <td>32    </td> <td>20    </td> <td>12    </td> <td>0     </td> <td>0     </td> <td>460   </td> <td>477   </td> <td>130   </td> <td>1351  </td> <td>40    </td> <td>1     </td> <td>40    </td> <td>660   </td> <td>140   </td> <td>2599  </td> <td>0   </td> <td>150   </td> <td>892   </td> <td>60    </td> <td>670   </td> <td>0     </td> <td>0     </td> <td>210   </td> <td>279   </td> <td>50    </td> <td>14    </td> <td>0     </td> <td>0     </td> <td>0     </td> <td>0     </td> <td>0     </td> <td>0     </td> <td>90    </td> <td>76    </td> <td>0     </td> <td>0     </td> <td>0     </td> <td>0     </td> <td>680   </td> <td>13264 </td> <td>41920 </td> <td>540   </td> <td>1329  </td> <td>120   </td> <td>294   </td> <td>500   </td> <td>1453  </td> <td>680   </td> <td>3591  </td> <td>490   </td> <td>4248  </td> <td>560   </td> <td>1296  </td> <td>1470  </td> <td>49298 </td> <td>1470  </td> <td>6618  </td> <td>0     </td> <td>0     </td> <td>900   </td> <td>1488  </td> <td>0     </td> <td>0     </td> <td>120   </td> <td>90    </td> <td>180   </td> <td>198   </td> <td>80    </td> <td>11    </td> <td>750   </td> <td>1163  </td> <td>20    </td> <td>7     </td> <td>80    </td> <td>232   </td> <td>1470  </td> <td>8950  </td> <td>0     </td> <td>0     </td> <td>0     </td> <td>0     </td> <td>190   </td> <td>256   </td> <td>170   </td> <td>132   </td> <td>1290  </td> <td>5131  </td> <td>1310  </td> <td>5417  </td> <td>0     </td> <td>0     </td> <td>0     </td> <td>0     </td> <td>230   </td> <td>520   </td> <td>1250  </td> <td>4050  </td>\n",
       "        </tr>\n",
       "    </tbody>\n",
       "        <tr>\n",
       "            <td>90001</td> <td>330  </td> <td>50   </td> <td>210  </td> <td>70   </td> <td>290  </td> <td>1100 </td> <td>560   </td> <td>28395 </td> <td>330   </td> <td>28555 </td> <td>320   </td> <td>25271 </td> <td>130   </td> <td>10    </td> <td>20    </td> <td>24    </td> <td>30    </td> <td>29    </td> <td>160   </td> <td>235   </td> <td>60    </td> <td>1084  </td> <td>0     </td> <td>0     </td> <td>0     </td> <td>0     </td> <td>40    </td> <td>1044  </td> <td>0   </td> <td>40    </td> <td>230   </td> <td>30    </td> <td>598   </td> <td>0     </td> <td>0     </td> <td>60    </td> <td>160   </td> <td>0     </td> <td>0     </td> <td>0     </td> <td>0     </td> <td>0     </td> <td>0     </td> <td>0     </td> <td>0     </td> <td>30    </td> <td>21    </td> <td>0     </td> <td>0     </td> <td>0     </td> <td>0     </td> <td>210   </td> <td>4846  </td> <td>18256 </td> <td>190   </td> <td>734   </td> <td>30    </td> <td>67    </td> <td>160   </td> <td>477   </td> <td>210   </td> <td>1437  </td> <td>160   </td> <td>1488  </td> <td>180   </td> <td>514   </td> <td>330   </td> <td>17918 </td> <td>330   </td> <td>2627  </td> <td>0     </td> <td>0     </td> <td>190   </td> <td>380   </td> <td>0     </td> <td>0     </td> <td>50    </td> <td>37    </td> <td>60    </td> <td>66    </td> <td>0     </td> <td>0     </td> <td>180   </td> <td>309   </td> <td>0     </td> <td>0     </td> <td>40    </td> <td>191   </td> <td>330   </td> <td>3127  </td> <td>0     </td> <td>0     </td> <td>0     </td> <td>0     </td> <td>0     </td> <td>0     </td> <td>50    </td> <td>41    </td> <td>330   </td> <td>2247  </td> <td>330   </td> <td>2398  </td> <td>0     </td> <td>0     </td> <td>0     </td> <td>0     </td> <td>70    </td> <td>289   </td> <td>270   </td> <td>1014  </td>\n",
       "        </tr>\n",
       "    </tbody>\n",
       "        <tr>\n",
       "            <td>90001</td> <td>160  </td> <td>30   </td> <td>100  </td> <td>40   </td> <td>130  </td> <td>510  </td> <td>250   </td> <td>24676 </td> <td>160   </td> <td>25017 </td> <td>150   </td> <td>17851 </td> <td>70    </td> <td>35    </td> <td>20    </td> <td>71    </td> <td>0     </td> <td>0     </td> <td>70    </td> <td>140   </td> <td>0     </td> <td>0     </td> <td>20    </td> <td>88    </td> <td>0     </td> <td>0     </td> <td>20    </td> <td>477   </td> <td>0   </td> <td>0     </td> <td>0     </td> <td>0     </td> <td>0     </td> <td>20    </td> <td>2967  </td> <td>40    </td> <td>186   </td> <td>0     </td> <td>0     </td> <td>0     </td> <td>0     </td> <td>0     </td> <td>0     </td> <td>0     </td> <td>0     </td> <td>0     </td> <td>0     </td> <td>0     </td> <td>0     </td> <td>0     </td> <td>0     </td> <td>130   </td> <td>4063  </td> <td>20530 </td> <td>120   </td> <td>1362  </td> <td>0     </td> <td>0     </td> <td>100   </td> <td>447   </td> <td>130   </td> <td>1980  </td> <td>90    </td> <td>1086  </td> <td>100   </td> <td>429   </td> <td>160   </td> <td>18375 </td> <td>160   </td> <td>3889  </td> <td>30    </td> <td>124   </td> <td>80    </td> <td>145   </td> <td>0     </td> <td>0     </td> <td>0     </td> <td>0     </td> <td>0     </td> <td>0     </td> <td>0     </td> <td>0     </td> <td>60    </td> <td>74    </td> <td>0     </td> <td>0     </td> <td>0     </td> <td>0     </td> <td>160   </td> <td>3868  </td> <td>0     </td> <td>0     </td> <td>0     </td> <td>0     </td> <td>0     </td> <td>0     </td> <td>0     </td> <td>0     </td> <td>160   </td> <td>3723  </td> <td>160   </td> <td>3897  </td> <td>0     </td> <td>0     </td> <td>0     </td> <td>0     </td> <td>60    </td> <td>702   </td> <td>100   </td> <td>474   </td>\n",
       "        </tr>\n",
       "    </tbody>\n",
       "        <tr>\n",
       "            <td>90001</td> <td>0    </td> <td>0    </td> <td>0    </td> <td>0    </td> <td>0    </td> <td>0    </td> <td>0     </td> <td>0     </td> <td>0     </td> <td>0     </td> <td>0     </td> <td>0     </td> <td>0     </td> <td>0     </td> <td>0     </td> <td>0     </td> <td>0     </td> <td>0     </td> <td>0     </td> <td>0     </td> <td>0     </td> <td>0     </td> <td>0     </td> <td>0     </td> <td>0     </td> <td>0     </td> <td>0     </td> <td>0     </td> <td>0   </td> <td>0     </td> <td>0     </td> <td>0     </td> <td>0     </td> <td>0     </td> <td>0     </td> <td>0     </td> <td>0     </td> <td>0     </td> <td>0     </td> <td>0     </td> <td>0     </td> <td>0     </td> <td>0     </td> <td>0     </td> <td>0     </td> <td>0     </td> <td>0     </td> <td>0     </td> <td>0     </td> <td>0     </td> <td>0     </td> <td>0     </td> <td>0     </td> <td>0     </td> <td>0     </td> <td>0     </td> <td>0     </td> <td>0     </td> <td>0     </td> <td>0     </td> <td>0     </td> <td>0     </td> <td>0     </td> <td>0     </td> <td>0     </td> <td>0     </td> <td>0     </td> <td>0     </td> <td>0     </td> <td>0     </td> <td>0     </td> <td>0     </td> <td>0     </td> <td>0     </td> <td>0     </td> <td>0     </td> <td>0     </td> <td>0     </td> <td>0     </td> <td>0     </td> <td>0     </td> <td>0     </td> <td>0     </td> <td>0     </td> <td>0     </td> <td>0     </td> <td>0     </td> <td>0     </td> <td>0     </td> <td>0     </td> <td>0     </td> <td>0     </td> <td>0     </td> <td>0     </td> <td>0     </td> <td>0     </td> <td>0     </td> <td>0     </td> <td>0     </td> <td>0     </td> <td>0     </td> <td>0     </td> <td>0     </td> <td>0     </td> <td>0     </td> <td>0     </td> <td>0     </td> <td>0     </td> <td>0     </td> <td>0     </td>\n",
       "        </tr>\n",
       "    </tbody>\n",
       "        <tr>\n",
       "            <td>90002</td> <td>12150</td> <td>6330 </td> <td>1460 </td> <td>4330 </td> <td>9580 </td> <td>27240</td> <td>14070 </td> <td>167261</td> <td>12150 </td> <td>170095</td> <td>9440  </td> <td>126482</td> <td>610   </td> <td>73    </td> <td>50    </td> <td>19    </td> <td>40    </td> <td>9     </td> <td>150   </td> <td>49    </td> <td>3610  </td> <td>34019 </td> <td>50    </td> <td>9     </td> <td>50    </td> <td>196   </td> <td>380   </td> <td>3133  </td> <td>0   </td> <td>900   </td> <td>4222  </td> <td>70    </td> <td>84    </td> <td>30    </td> <td>116   </td> <td>3630  </td> <td>2834  </td> <td>30    </td> <td>7     </td> <td>0     </td> <td>0     </td> <td>0     </td> <td>0     </td> <td>0     </td> <td>0     </td> <td>170   </td> <td>133   </td> <td>50    </td> <td>103   </td> <td>0     </td> <td>0     </td> <td>540   </td> <td>7237  </td> <td>8945  </td> <td>170   </td> <td>124   </td> <td>300   </td> <td>175   </td> <td>360   </td> <td>987   </td> <td>530   </td> <td>1621  </td> <td>390   </td> <td>3444  </td> <td>260   </td> <td>367   </td> <td>3750  </td> <td>18438 </td> <td>3750  </td> <td>1927  </td> <td>0     </td> <td>0     </td> <td>1800  </td> <td>618   </td> <td>0     </td> <td>0     </td> <td>100   </td> <td>35    </td> <td>540   </td> <td>242   </td> <td>240   </td> <td>39    </td> <td>980   </td> <td>300   </td> <td>0     </td> <td>0     </td> <td>3400  </td> <td>4983  </td> <td>11540 </td> <td>39973 </td> <td>6940  </td> <td>23487 </td> <td>6550  </td> <td>19268 </td> <td>6380  </td> <td>8439  </td> <td>1520  </td> <td>1330  </td> <td>2210  </td> <td>1310  </td> <td>5520  </td> <td>6298  </td> <td>0     </td> <td>0     </td> <td>0     </td> <td>0     </td> <td>930   </td> <td>642   </td> <td>10960 </td> <td>34691 </td>\n",
       "        </tr>\n",
       "    </tbody>\n",
       "        <tr>\n",
       "            <td>90002</td> <td>5030 </td> <td>1510 </td> <td>1490 </td> <td>1980 </td> <td>4120 </td> <td>14410</td> <td>7890  </td> <td>173280</td> <td>5030  </td> <td>174335</td> <td>4760  </td> <td>159099</td> <td>790   </td> <td>52    </td> <td>60    </td> <td>41    </td> <td>40    </td> <td>17    </td> <td>620   </td> <td>351   </td> <td>560   </td> <td>6015  </td> <td>70    </td> <td>-10   </td> <td>40    </td> <td>237   </td> <td>320   </td> <td>5075  </td> <td>0   </td> <td>390   </td> <td>2070  </td> <td>180   </td> <td>831   </td> <td>0     </td> <td>0     </td> <td>710   </td> <td>1055  </td> <td>50    </td> <td>11    </td> <td>0     </td> <td>0     </td> <td>0     </td> <td>0     </td> <td>40    </td> <td>107   </td> <td>190   </td> <td>179   </td> <td>50    </td> <td>99    </td> <td>0     </td> <td>0     </td> <td>1330  </td> <td>21281 </td> <td>49334 </td> <td>840   </td> <td>1008  </td> <td>440   </td> <td>489   </td> <td>900   </td> <td>2430  </td> <td>1320  </td> <td>4684  </td> <td>920   </td> <td>7738  </td> <td>960   </td> <td>2253  </td> <td>4550  </td> <td>63887 </td> <td>4540  </td> <td>7503  </td> <td>0     </td> <td>0     </td> <td>2840  </td> <td>2550  </td> <td>0     </td> <td>0     </td> <td>330   </td> <td>234   </td> <td>590   </td> <td>523   </td> <td>500   </td> <td>89    </td> <td>2050  </td> <td>1688  </td> <td>30    </td> <td>9     </td> <td>420   </td> <td>1003  </td> <td>4960  </td> <td>20637 </td> <td>2020  </td> <td>4371  </td> <td>1750  </td> <td>3736  </td> <td>2140  </td> <td>3459  </td> <td>560   </td> <td>455   </td> <td>2740  </td> <td>4953  </td> <td>3070  </td> <td>5998  </td> <td>0     </td> <td>0     </td> <td>0     </td> <td>0     </td> <td>420   </td> <td>782   </td> <td>4590  </td> <td>15527 </td>\n",
       "        </tr>\n",
       "    </tbody>\n",
       "        <tr>\n",
       "            <td>90002</td> <td>1320 </td> <td>300  </td> <td>600  </td> <td>400  </td> <td>1060 </td> <td>4090 </td> <td>2180  </td> <td>78559 </td> <td>1320  </td> <td>78871 </td> <td>1270  </td> <td>72098 </td> <td>390   </td> <td>62    </td> <td>40    </td> <td>9     </td> <td>50    </td> <td>4     </td> <td>460   </td> <td>462   </td> <td>100   </td> <td>596   </td> <td>30    </td> <td>65    </td> <td>40    </td> <td>552   </td> <td>170   </td> <td>3512  </td> <td>0   </td> <td>120   </td> <td>621   </td> <td>70    </td> <td>859   </td> <td>0     </td> <td>0     </td> <td>200   </td> <td>312   </td> <td>50    </td> <td>11    </td> <td>0     </td> <td>0     </td> <td>0     </td> <td>0     </td> <td>20    </td> <td>54    </td> <td>110   </td> <td>99    </td> <td>0     </td> <td>0     </td> <td>0     </td> <td>0     </td> <td>710   </td> <td>13730 </td> <td>42942 </td> <td>570   </td> <td>1316  </td> <td>130   </td> <td>266   </td> <td>540   </td> <td>1495  </td> <td>710   </td> <td>3603  </td> <td>530   </td> <td>4724  </td> <td>550   </td> <td>1480  </td> <td>1310  </td> <td>42787 </td> <td>1310  </td> <td>5729  </td> <td>20    </td> <td>24    </td> <td>780   </td> <td>1314  </td> <td>0     </td> <td>0     </td> <td>120   </td> <td>94    </td> <td>170   </td> <td>176   </td> <td>70    </td> <td>10    </td> <td>670   </td> <td>1023  </td> <td>20    </td> <td>6     </td> <td>60    </td> <td>118   </td> <td>1310  </td> <td>7846  </td> <td>0     </td> <td>0     </td> <td>0     </td> <td>0     </td> <td>190   </td> <td>272   </td> <td>150   </td> <td>115   </td> <td>1120  </td> <td>4415  </td> <td>1140  </td> <td>4550  </td> <td>0     </td> <td>0     </td> <td>0     </td> <td>0     </td> <td>180   </td> <td>359   </td> <td>1130  </td> <td>3645  </td>\n",
       "        </tr>\n",
       "    </tbody>\n",
       "        <tr>\n",
       "            <td>90002</td> <td>340  </td> <td>90   </td> <td>190  </td> <td>90   </td> <td>270  </td> <td>1060 </td> <td>530   </td> <td>28502 </td> <td>340   </td> <td>28558 </td> <td>320   </td> <td>25304 </td> <td>110   </td> <td>29    </td> <td>20    </td> <td>3     </td> <td>0     </td> <td>0     </td> <td>160   </td> <td>224   </td> <td>40    </td> <td>235   </td> <td>20    </td> <td>193   </td> <td>0     </td> <td>0     </td> <td>50    </td> <td>1538  </td> <td>0   </td> <td>40    </td> <td>218   </td> <td>40    </td> <td>570   </td> <td>0     </td> <td>0     </td> <td>40    </td> <td>56    </td> <td>0     </td> <td>0     </td> <td>0     </td> <td>0     </td> <td>0     </td> <td>0     </td> <td>0     </td> <td>0     </td> <td>0     </td> <td>0     </td> <td>0     </td> <td>0     </td> <td>0     </td> <td>0     </td> <td>230   </td> <td>5033  </td> <td>19189 </td> <td>200   </td> <td>780   </td> <td>30    </td> <td>73    </td> <td>180   </td> <td>545   </td> <td>230   </td> <td>1521  </td> <td>170   </td> <td>1601  </td> <td>200   </td> <td>685   </td> <td>340   </td> <td>18186 </td> <td>340   </td> <td>2749  </td> <td>0     </td> <td>0     </td> <td>190   </td> <td>365   </td> <td>0     </td> <td>0     </td> <td>60    </td> <td>40    </td> <td>50    </td> <td>65    </td> <td>0     </td> <td>0     </td> <td>170   </td> <td>282   </td> <td>0     </td> <td>0     </td> <td>20    </td> <td>55    </td> <td>340   </td> <td>3225  </td> <td>0     </td> <td>0     </td> <td>0     </td> <td>0     </td> <td>0     </td> <td>0     </td> <td>50    </td> <td>43    </td> <td>330   </td> <td>2384  </td> <td>330   </td> <td>2427  </td> <td>0     </td> <td>0     </td> <td>0     </td> <td>0     </td> <td>60    </td> <td>213   </td> <td>270   </td> <td>1009  </td>\n",
       "        </tr>\n",
       "    </tbody>\n",
       "</table>\n",
       "<p>... (8888 rows omitted)</p>"
      ],
      "text/plain": [
       "ZIP   | N1    | MARS1 | MARS2 | MARS4 | PREP  | N2    | NUMDEP | A00100 | N02650 | A02650 | N00200 | A00200 | N00300 | A00300 | N00600 | A00600 | N00650 | A00650 | N00700 | A00700 | N00900 | A00900 | N01000 | A01000 | N01400 | A01400 | N01700 | A01700 | SCHF | N02300 | A02300 | N02500 | A02500 | N26270 | A26270 | N02900 | A02900 | N03220 | A03220 | N03300 | A03300 | N03270 | A03270 | N03150 | A03150 | N03210 | A03210 | N03230 | A03230 | N03240 | A03240 | N04470 | A04470 | A00101 | N18425 | A18425 | N18450 | A18450 | N18500 | A18500 | N18300 | A18300 | N19300 | A19300 | N19700 | A19700 | N04800 | A04800 | N05800 | A05800 | N09600 | A09600 | N07100 | A07100 | N07300 | A07300 | N07180 | A07180 | N07230 | A07230 | N07240 | A07240 | N07220 | A07220 | N07260 | A07260 | N09400 | A09400 | N10600 | A10600 | N59660 | A59660 | N59720 | A59720 | N11070 | A11070 | N10960 | A10960 | N06500 | A06500 | N10300 | A10300 | N85330 | A85330 | N85300 | A85300 | N11901 | A11901 | N11902 | A11902\n",
       "90001 | 13100 | 6900  | 1890  | 4270  | 10740 | 29670 | 15200  | 181693 | 13100  | 184344 | 10220  | 142287 | 640    | 96     | 50     | 69     | 30     | 20     | 180    | 55     | 3490   | 31751  | 70     | -17    | 60     | 382    | 380    | 3001   | 0    | 950    | 4493   | 80     | 123    | 30     | 105    | 3510   | 2651   | 20     | 6      | 0      | 0      | 0      | 0      | 0      | 0      | 150    | 119    | 60     | 98     | 0      | 0      | 510    | 7212   | 8498   | 170    | 95     | 270    | 154    | 340    | 952    | 500    | 1424   | 340    | 3168   | 240    | 363    | 4200   | 20798  | 4190   | 2176   | 0      | 0      | 1800   | 623    | 0      | 0      | 70     | 28     | 520    | 248    | 240    | 39     | 1020   | 304    | 0      | 0      | 3290   | 4659   | 12180  | 37759  | 6320   | 20531  | 5880   | 16995  | 6500   | 8805   | 1230   | 980    | 2680   | 1554   | 5800   | 6197   | 0      | 0      | 0      | 0      | 1220   | 856    | 11480  | 32934\n",
       "90001 | 5900  | 1700  | 1970  | 2210  | 4960  | 17550 | 9690   | 203628 | 5900   | 204512 | 5610   | 188556 | 830    | 68     | 60     | 32     | 70     | 19     | 660    | 351    | 540    | 5917   | 60     | 111    | 50     | 489    | 310    | 4450   | 0    | 460    | 2522   | 210    | 947    | 40     | 831    | 700    | 885    | 50     | 12     | 0      | 0      | 0      | 0      | 50     | 152    | 200    | 154    | 50     | 81     | 0      | 0      | 1260   | 20442  | 46800  | 800    | 1023   | 430    | 505    | 810    | 2383   | 1250   | 4605   | 820    | 7172   | 870    | 1620   | 5300   | 74352  | 5290   | 8710   | 0      | 0      | 3380   | 2947   | 0      | 0      | 370    | 249    | 620    | 518    | 630    | 114    | 2520   | 2047   | 20     | 6      | 410    | 982    | 5820   | 23531  | 2160   | 4562   | 1890   | 3948   | 2520   | 4160   | 600    | 441    | 3180   | 5762   | 3460   | 6754   | 0      | 0      | 0      | 0      | 530    | 797    | 5360   | 17656\n",
       "90001 | 1480  | 330   | 760   | 390   | 1240  | 4710  | 2470   | 89065  | 1480   | 89344  | 1440   | 82579  | 400    | 32     | 20     | 12     | 0      | 0      | 460    | 477    | 130    | 1351   | 40     | 1      | 40     | 660    | 140    | 2599   | 0    | 150    | 892    | 60     | 670    | 0      | 0      | 210    | 279    | 50     | 14     | 0      | 0      | 0      | 0      | 0      | 0      | 90     | 76     | 0      | 0      | 0      | 0      | 680    | 13264  | 41920  | 540    | 1329   | 120    | 294    | 500    | 1453   | 680    | 3591   | 490    | 4248   | 560    | 1296   | 1470   | 49298  | 1470   | 6618   | 0      | 0      | 900    | 1488   | 0      | 0      | 120    | 90     | 180    | 198    | 80     | 11     | 750    | 1163   | 20     | 7      | 80     | 232    | 1470   | 8950   | 0      | 0      | 0      | 0      | 190    | 256    | 170    | 132    | 1290   | 5131   | 1310   | 5417   | 0      | 0      | 0      | 0      | 230    | 520    | 1250   | 4050\n",
       "90001 | 330   | 50    | 210   | 70    | 290   | 1100  | 560    | 28395  | 330    | 28555  | 320    | 25271  | 130    | 10     | 20     | 24     | 30     | 29     | 160    | 235    | 60     | 1084   | 0      | 0      | 0      | 0      | 40     | 1044   | 0    | 40     | 230    | 30     | 598    | 0      | 0      | 60     | 160    | 0      | 0      | 0      | 0      | 0      | 0      | 0      | 0      | 30     | 21     | 0      | 0      | 0      | 0      | 210    | 4846   | 18256  | 190    | 734    | 30     | 67     | 160    | 477    | 210    | 1437   | 160    | 1488   | 180    | 514    | 330    | 17918  | 330    | 2627   | 0      | 0      | 190    | 380    | 0      | 0      | 50     | 37     | 60     | 66     | 0      | 0      | 180    | 309    | 0      | 0      | 40     | 191    | 330    | 3127   | 0      | 0      | 0      | 0      | 0      | 0      | 50     | 41     | 330    | 2247   | 330    | 2398   | 0      | 0      | 0      | 0      | 70     | 289    | 270    | 1014\n",
       "90001 | 160   | 30    | 100   | 40    | 130   | 510   | 250    | 24676  | 160    | 25017  | 150    | 17851  | 70     | 35     | 20     | 71     | 0      | 0      | 70     | 140    | 0      | 0      | 20     | 88     | 0      | 0      | 20     | 477    | 0    | 0      | 0      | 0      | 0      | 20     | 2967   | 40     | 186    | 0      | 0      | 0      | 0      | 0      | 0      | 0      | 0      | 0      | 0      | 0      | 0      | 0      | 0      | 130    | 4063   | 20530  | 120    | 1362   | 0      | 0      | 100    | 447    | 130    | 1980   | 90     | 1086   | 100    | 429    | 160    | 18375  | 160    | 3889   | 30     | 124    | 80     | 145    | 0      | 0      | 0      | 0      | 0      | 0      | 0      | 0      | 60     | 74     | 0      | 0      | 0      | 0      | 160    | 3868   | 0      | 0      | 0      | 0      | 0      | 0      | 0      | 0      | 160    | 3723   | 160    | 3897   | 0      | 0      | 0      | 0      | 60     | 702    | 100    | 474\n",
       "90001 | 0     | 0     | 0     | 0     | 0     | 0     | 0      | 0      | 0      | 0      | 0      | 0      | 0      | 0      | 0      | 0      | 0      | 0      | 0      | 0      | 0      | 0      | 0      | 0      | 0      | 0      | 0      | 0      | 0    | 0      | 0      | 0      | 0      | 0      | 0      | 0      | 0      | 0      | 0      | 0      | 0      | 0      | 0      | 0      | 0      | 0      | 0      | 0      | 0      | 0      | 0      | 0      | 0      | 0      | 0      | 0      | 0      | 0      | 0      | 0      | 0      | 0      | 0      | 0      | 0      | 0      | 0      | 0      | 0      | 0      | 0      | 0      | 0      | 0      | 0      | 0      | 0      | 0      | 0      | 0      | 0      | 0      | 0      | 0      | 0      | 0      | 0      | 0      | 0      | 0      | 0      | 0      | 0      | 0      | 0      | 0      | 0      | 0      | 0      | 0      | 0      | 0      | 0      | 0      | 0      | 0      | 0      | 0      | 0      | 0\n",
       "90002 | 12150 | 6330  | 1460  | 4330  | 9580  | 27240 | 14070  | 167261 | 12150  | 170095 | 9440   | 126482 | 610    | 73     | 50     | 19     | 40     | 9      | 150    | 49     | 3610   | 34019  | 50     | 9      | 50     | 196    | 380    | 3133   | 0    | 900    | 4222   | 70     | 84     | 30     | 116    | 3630   | 2834   | 30     | 7      | 0      | 0      | 0      | 0      | 0      | 0      | 170    | 133    | 50     | 103    | 0      | 0      | 540    | 7237   | 8945   | 170    | 124    | 300    | 175    | 360    | 987    | 530    | 1621   | 390    | 3444   | 260    | 367    | 3750   | 18438  | 3750   | 1927   | 0      | 0      | 1800   | 618    | 0      | 0      | 100    | 35     | 540    | 242    | 240    | 39     | 980    | 300    | 0      | 0      | 3400   | 4983   | 11540  | 39973  | 6940   | 23487  | 6550   | 19268  | 6380   | 8439   | 1520   | 1330   | 2210   | 1310   | 5520   | 6298   | 0      | 0      | 0      | 0      | 930    | 642    | 10960  | 34691\n",
       "90002 | 5030  | 1510  | 1490  | 1980  | 4120  | 14410 | 7890   | 173280 | 5030   | 174335 | 4760   | 159099 | 790    | 52     | 60     | 41     | 40     | 17     | 620    | 351    | 560    | 6015   | 70     | -10    | 40     | 237    | 320    | 5075   | 0    | 390    | 2070   | 180    | 831    | 0      | 0      | 710    | 1055   | 50     | 11     | 0      | 0      | 0      | 0      | 40     | 107    | 190    | 179    | 50     | 99     | 0      | 0      | 1330   | 21281  | 49334  | 840    | 1008   | 440    | 489    | 900    | 2430   | 1320   | 4684   | 920    | 7738   | 960    | 2253   | 4550   | 63887  | 4540   | 7503   | 0      | 0      | 2840   | 2550   | 0      | 0      | 330    | 234    | 590    | 523    | 500    | 89     | 2050   | 1688   | 30     | 9      | 420    | 1003   | 4960   | 20637  | 2020   | 4371   | 1750   | 3736   | 2140   | 3459   | 560    | 455    | 2740   | 4953   | 3070   | 5998   | 0      | 0      | 0      | 0      | 420    | 782    | 4590   | 15527\n",
       "90002 | 1320  | 300   | 600   | 400   | 1060  | 4090  | 2180   | 78559  | 1320   | 78871  | 1270   | 72098  | 390    | 62     | 40     | 9      | 50     | 4      | 460    | 462    | 100    | 596    | 30     | 65     | 40     | 552    | 170    | 3512   | 0    | 120    | 621    | 70     | 859    | 0      | 0      | 200    | 312    | 50     | 11     | 0      | 0      | 0      | 0      | 20     | 54     | 110    | 99     | 0      | 0      | 0      | 0      | 710    | 13730  | 42942  | 570    | 1316   | 130    | 266    | 540    | 1495   | 710    | 3603   | 530    | 4724   | 550    | 1480   | 1310   | 42787  | 1310   | 5729   | 20     | 24     | 780    | 1314   | 0      | 0      | 120    | 94     | 170    | 176    | 70     | 10     | 670    | 1023   | 20     | 6      | 60     | 118    | 1310   | 7846   | 0      | 0      | 0      | 0      | 190    | 272    | 150    | 115    | 1120   | 4415   | 1140   | 4550   | 0      | 0      | 0      | 0      | 180    | 359    | 1130   | 3645\n",
       "90002 | 340   | 90    | 190   | 90    | 270   | 1060  | 530    | 28502  | 340    | 28558  | 320    | 25304  | 110    | 29     | 20     | 3      | 0      | 0      | 160    | 224    | 40     | 235    | 20     | 193    | 0      | 0      | 50     | 1538   | 0    | 40     | 218    | 40     | 570    | 0      | 0      | 40     | 56     | 0      | 0      | 0      | 0      | 0      | 0      | 0      | 0      | 0      | 0      | 0      | 0      | 0      | 0      | 230    | 5033   | 19189  | 200    | 780    | 30     | 73     | 180    | 545    | 230    | 1521   | 170    | 1601   | 200    | 685    | 340    | 18186  | 340    | 2749   | 0      | 0      | 190    | 365    | 0      | 0      | 60     | 40     | 50     | 65     | 0      | 0      | 170    | 282    | 0      | 0      | 20     | 55     | 340    | 3225   | 0      | 0      | 0      | 0      | 0      | 0      | 50     | 43     | 330    | 2384   | 330    | 2427   | 0      | 0      | 0      | 0      | 60     | 213    | 270    | 1009\n",
       "... (8888 rows omitted)"
      ]
     },
     "execution_count": 2,
     "metadata": {},
     "output_type": "execute_result"
    }
   ],
   "source": [
    "income_raw = Table.read_table('ca_income_by_zip.csv', dtype={'ZIP': str}).drop(['STATEFIPS', 'STATE', 'agi_stub'])\n",
    "income_raw"
   ]
  },
  {
   "cell_type": "markdown",
   "metadata": {},
   "source": [
    "Some observations:\n",
    "\n",
    "1. The table contains several numerical columns and a column for the ZIP code.\n",
    "2. For each ZIP code, there are 6 rows.  Each row for a ZIP code has data from tax returns in one *income bracket* -- a group of people who make between some income and some other income.  \n",
    "3. According to the IRS documentation, all the numerical columns are *totals* -- either total numbers of returns that fall into various categories, or total amounts of money (in thousands of dollars) from returns in those categories.  For example, the column `'N02650'` is the number of returns, and `'A02650'` is the total amount of total income (in thousands of dollars) from those returns.\n",
    "\n",
    "**Question 1.0.** Since we don't care about income brackets, but we do care about totals per ZIP code, let's group together our income data by ZIP code. Assign the name `income_by_zipcode` to a table with just one row per ZIP code. When you group according to ZIP code, the remaining columns should be summed. In other words, for any other column such as `'N02650'`, the value of `'N02650'` in a row corresponding to ZIP code 90210 (for example) should be the sum of the values of `'N02650'` in the 6 rows of `income_raw` corresponding to ZIP code 90210."
   ]
  },
  {
   "cell_type": "code",
   "execution_count": null,
   "metadata": {
    "collapsed": true
   },
   "outputs": [],
   "source": [
    "income_by_zipcode = ...\n",
    "income_by_zipcode"
   ]
  },
  {
   "cell_type": "code",
   "execution_count": null,
   "metadata": {
    "collapsed": true
   },
   "outputs": [],
   "source": [
    "_ = ok.grade('q10')"
   ]
  },
  {
   "cell_type": "markdown",
   "metadata": {},
   "source": [
    "**Question 1.1.** Relabel the columns in `income_by_zipcode` to match the labels in `income_raw`; you probably modified all the names slightly in the previous question. \n",
    "\n",
    "*Hint:* Inspect `income_raw.labels` and `income_by_zipcode.labels` to find the differences you need to change.\n",
    "\n",
    "*Hint 2:* Since there are many columns, it will be easier to relabel each of them by using a `for` statement. See [here](https://www.inferentialthinking.com/chapters/08/2/iteration.html)  in the textbook for details.\n",
    "\n",
    "*Hint 3:* You can use the `replace` method of a string to remove excess content. See [lab02](https://jupyterhub.ucsd.edu/user-redirect/interact?account=ucsd-ets&repo=dsc10-fa17&branch=master&path=labs/lab02/lab02.ipynb) for examples.\n",
    "\n",
    "*Hint 4:* To create a new table from an existing table with one label replaced, use `relabeled`. To **change** a label in an existing table permanently, use `relabel`. Both methods take two arguments: the old label and the new label. You can solve this problem with either one, but `relabel` is simpler."
   ]
  },
  {
   "cell_type": "code",
   "execution_count": null,
   "metadata": {
    "collapsed": true
   },
   "outputs": [],
   "source": [
    "...\n",
    "...\n",
    "income_by_zipcode"
   ]
  },
  {
   "cell_type": "code",
   "execution_count": null,
   "metadata": {
    "collapsed": true
   },
   "outputs": [],
   "source": [
    "_ = ok.grade('q11')"
   ]
  },
  {
   "cell_type": "markdown",
   "metadata": {},
   "source": [
    "**Question 1.2.**\n",
    "Create a table called `income` with  one row per ZIP code and the following columns.\n",
    "\n",
    "1. A `ZIP` column with the same contents as `'ZIP'` from `income_by_zipcode`.\n",
    "2. A `returns` column containing the total number of tax returns (column `'N02650'` from `income_by_zipcode`).\n",
    "3. A `total` column containing the total income in all tax returns in thousands of dollars (column `'A02650'` from `income_by_zipcode`).\n",
    "4. A `farmers` column containing the number of farmer returns (column `'SCHF'` from `income_by_zipcode`)."
   ]
  },
  {
   "cell_type": "code",
   "execution_count": null,
   "metadata": {
    "collapsed": true
   },
   "outputs": [],
   "source": [
    "income = Table().with_columns([\n",
    "        ...\n",
    "        ...\n",
    "        ...\n",
    "        ...\n",
    "        ])\n",
    "income.set_format('total', NumberFormatter(0)).show(5)"
   ]
  },
  {
   "cell_type": "code",
   "execution_count": null,
   "metadata": {
    "collapsed": true,
    "scrolled": false
   },
   "outputs": [],
   "source": [
    "_ = ok.grade('q12')"
   ]
  },
  {
   "cell_type": "markdown",
   "metadata": {},
   "source": [
    "This table can be a little confusing so let’s break down what each column represents. The first column, “ZIP,” is the zip code. Zip codes are important to us because they represent a geographic area. So the zip code '92122' represents an area of land in San Diego. \"Returns\" is the number of tax returns received by the IRS from that zip code. A tax return approximately represents one family’s income. Each tax return includes a reported income. The “total” column is the sum of all the incomes reported for a given zip code (**measured in thousands of dollars**). The “farmers” category represents the number of tax returns where the person filing the tax return reported that their primary occupation is farming."
   ]
  },
  {
   "cell_type": "markdown",
   "metadata": {},
   "source": [
    "**Question 1.3.** What is the average total income reported on all California tax returns? Express the answer in *dollars* as an `integer` rounded to the nearest dollar. Round to the nearest integer using the `round()` function.\n",
    "\n",
    "*Hint*: The ‘total’ column is measured in thousands of dollars.\n"
   ]
  },
  {
   "cell_type": "code",
   "execution_count": null,
   "metadata": {
    "collapsed": true
   },
   "outputs": [],
   "source": [
    "avg_total_income = ...\n",
    "avg_total_income"
   ]
  },
  {
   "cell_type": "code",
   "execution_count": null,
   "metadata": {
    "collapsed": true
   },
   "outputs": [],
   "source": [
    "_ = ok.grade('q13')"
   ]
  },
  {
   "cell_type": "markdown",
   "metadata": {},
   "source": [
    "**Question 1.4.** All ZIP codes with less than 100 returns (or some other special conditions) are grouped together into one ZIP code with a special code. Remove the row for that ZIP code from the `income` table. This ZIP code value has far more returns than any of the other ZIP codes.\n",
    "\n",
    "*Hint:* To **remove** a row in the `income` table using `where`, assign `income` to the smaller table using the following expression structure:\n",
    "\n",
    "    income = income.where(...)\n",
    "    \n",
    "*Hint 2:* Each ZIP code is represented as a `string`, not an `int`."
   ]
  },
  {
   "cell_type": "code",
   "execution_count": null,
   "metadata": {
    "collapsed": true
   },
   "outputs": [],
   "source": [
    "special_zip = ...\n",
    "special_zip"
   ]
  },
  {
   "cell_type": "code",
   "execution_count": null,
   "metadata": {
    "collapsed": true
   },
   "outputs": [],
   "source": [
    "income = ...\n",
    "income"
   ]
  },
  {
   "cell_type": "code",
   "execution_count": null,
   "metadata": {
    "collapsed": true
   },
   "outputs": [],
   "source": [
    "_ = ok.grade('q14')"
   ]
  },
  {
   "cell_type": "markdown",
   "metadata": {},
   "source": [
    "Among the tax returns in California for ZIP codes represented in the `income` table, is there an association between income and living in a ZIP code with a higher-than-average proportion of farmers? Let's explore this question by doing some calculations."
   ]
  },
  {
   "cell_type": "markdown",
   "metadata": {},
   "source": [
    "**Question 1.5**. First, define a function called `proportion` that takes as inputs the total number of tax returns in a zip code and the total number of farmer returns in that zip code, and returns the proportion of tax returns filed by farmers in that zip code. The function should always output a number between 0 (no farmers) and 1 (entirely farmers)."
   ]
  },
  {
   "cell_type": "code",
   "execution_count": null,
   "metadata": {
    "collapsed": true
   },
   "outputs": [],
   "source": [
    "#define your function proportion here\n",
    "..."
   ]
  },
  {
   "cell_type": "markdown",
   "metadata": {},
   "source": [
    "Then, use the `apply` command to add a column to `income` called “farm proportion” that contains the proportion of farmers in each zipcode.\n"
   ]
  },
  {
   "cell_type": "code",
   "execution_count": null,
   "metadata": {
    "collapsed": true
   },
   "outputs": [],
   "source": [
    "income = ...\n",
    "income"
   ]
  },
  {
   "cell_type": "markdown",
   "metadata": {},
   "source": [
    "Calculate the average value of “farm proportion” among all zip codes, and call the result `avg_prop`."
   ]
  },
  {
   "cell_type": "code",
   "execution_count": null,
   "metadata": {
    "collapsed": true
   },
   "outputs": [],
   "source": [
    "avg_prop = ...\n",
    "avg_prop"
   ]
  },
  {
   "cell_type": "code",
   "execution_count": null,
   "metadata": {
    "collapsed": true
   },
   "outputs": [],
   "source": [
    "_ = ok.grade('q15')"
   ]
  },
  {
   "cell_type": "markdown",
   "metadata": {},
   "source": [
    "**Question 1.6** \n",
    "Create a table called `high_farmers` with the same columns as income that only contains information for zip codes with an above average proportion of farmers. Similarly, create a table called `low_farmers` with the same columns as `income` that only contains information for zip codes with an at or below average proportion of farmers.\n",
    "\n"
   ]
  },
  {
   "cell_type": "code",
   "execution_count": null,
   "metadata": {
    "collapsed": true
   },
   "outputs": [],
   "source": [
    "high_farmers = ...\n",
    "high_farmers"
   ]
  },
  {
   "cell_type": "code",
   "execution_count": null,
   "metadata": {
    "collapsed": true
   },
   "outputs": [],
   "source": [
    "low_farmers = ...\n",
    "low_farmers"
   ]
  },
  {
   "cell_type": "code",
   "execution_count": null,
   "metadata": {
    "collapsed": true
   },
   "outputs": [],
   "source": [
    "_ = ok.grade('q16')"
   ]
  },
  {
   "cell_type": "markdown",
   "metadata": {},
   "source": [
    "**Question 1.7** Calculate the average total income among all tax returns in zip codes with an above average proportion of farmers, and call the result `high_farmers_avg_income`. Similarly, calculate the average total income among all tax returns in zip codes with an at or below average proportion of farmers, and call the result `low_farmers_avg_income`. Give your answers in dollars, and round to the nearest dollar. Round to the nearest integer using the `round()` function.\n",
    "\n",
    "Remember: The “total” column is measured in thousands of dollars.\n",
    "\n"
   ]
  },
  {
   "cell_type": "code",
   "execution_count": null,
   "metadata": {
    "collapsed": true
   },
   "outputs": [],
   "source": [
    "high_farmers_avg_income = ...\n",
    "high_farmers_avg_income"
   ]
  },
  {
   "cell_type": "code",
   "execution_count": null,
   "metadata": {
    "collapsed": true
   },
   "outputs": [],
   "source": [
    "low_farmers_avg_income = ...\n",
    "low_farmers_avg_income"
   ]
  },
  {
   "cell_type": "code",
   "execution_count": null,
   "metadata": {
    "collapsed": true
   },
   "outputs": [],
   "source": [
    "_ = ok.grade('q17')"
   ]
  },
  {
   "cell_type": "markdown",
   "metadata": {
    "collapsed": true
   },
   "source": [
    "**Question 1.8** Is the average of `high_farmers_avg_income` and `low_farmers_avg_income` the same as the average you calculated in question 1.3? Set the variable `same` to either True or False. Then explain the reason behind this result."
   ]
  },
  {
   "cell_type": "code",
   "execution_count": null,
   "metadata": {
    "collapsed": true
   },
   "outputs": [],
   "source": [
    "same = ...\n",
    "same"
   ]
  },
  {
   "cell_type": "markdown",
   "metadata": {},
   "source": [
    "<hr style=\"color:Maroon;background-color:Maroon;border:0 none; height: 3px;\">\n",
    "\n",
    "*Write your answer here, replacing this text.*\n",
    "\n",
    "<hr style=\"color:Maroon;background-color:Maroon;border:0 none; height: 3px;\">"
   ]
  },
  {
   "cell_type": "code",
   "execution_count": null,
   "metadata": {
    "collapsed": true
   },
   "outputs": [],
   "source": [
    "_ = ok.grade('q18')"
   ]
  },
  {
   "cell_type": "markdown",
   "metadata": {},
   "source": [
    "**Question 1.9** Evaluate the following cell."
   ]
  },
  {
   "cell_type": "code",
   "execution_count": null,
   "metadata": {
    "collapsed": true
   },
   "outputs": [],
   "source": [
    "high_farmers_avg_income > low_farmers_avg_income"
   ]
  },
  {
   "cell_type": "markdown",
   "metadata": {
    "collapsed": true
   },
   "source": [
    "Which of the following is the most likely reason for this result? Set the variable `reason` to either 1, 2, 3, or 4.\n",
    "1. Zip codes with an above average proportion of farmers are more rural and therefore have fewer total residents making an income.\n",
    "2. Zip codes with an above average proportion of farmers have fewer cities, which is where most people who make a lot of money live.\n",
    "3. Zip codes with an above average proportion of farmers have more land and therefore more residents who live there, since each zip code covers a greater area.\n",
    "4. Zip codes with an above average proportion of farmers have fewer high-earning residents because richer people prefer to live in climates that are not suitable for farming."
   ]
  },
  {
   "cell_type": "code",
   "execution_count": null,
   "metadata": {
    "collapsed": true
   },
   "outputs": [],
   "source": [
    "reason = ..."
   ]
  },
  {
   "cell_type": "code",
   "execution_count": null,
   "metadata": {
    "collapsed": true
   },
   "outputs": [],
   "source": [
    "_ = ok.grade('q19')"
   ]
  },
  {
   "cell_type": "markdown",
   "metadata": {},
   "source": [
    "\n",
    "To submit:\n",
    "\n",
    "1. Select `Run All` from the `Cell` menu to ensure that you have executed all cells, including the test cells.\n",
    "3. Read through the notebook to make sure everything is fine.\n",
    "4. Submit using the cell below.\n",
    "5. Save PDF and submit to gradescope"
   ]
  },
  {
   "cell_type": "code",
   "execution_count": null,
   "metadata": {
    "collapsed": true
   },
   "outputs": [],
   "source": [
    "_ = ok.submit()"
   ]
  },
  {
   "cell_type": "markdown",
   "metadata": {
    "collapsed": true
   },
   "source": [
    "## Don't forget to submit to both OK and Gradescope!"
   ]
  }
 ],
 "metadata": {
  "kernelspec": {
   "display_name": "Python 3",
   "language": "python",
   "name": "python3"
  },
  "language_info": {
   "codemirror_mode": {
    "name": "ipython",
    "version": 3
   },
   "file_extension": ".py",
   "mimetype": "text/x-python",
   "name": "python",
   "nbconvert_exporter": "python",
   "pygments_lexer": "ipython3",
   "version": "3.6.5"
  }
 },
 "nbformat": 4,
 "nbformat_minor": 1
}
